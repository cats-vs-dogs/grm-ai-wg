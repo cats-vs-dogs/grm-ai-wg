{
 "cells": [
  {
   "cell_type": "code",
   "execution_count": 1,
   "metadata": {
    "execution": {
     "iopub.execute_input": "2023-07-26T09:11:34.002840Z",
     "iopub.status.busy": "2023-07-26T09:11:34.002376Z",
     "iopub.status.idle": "2023-07-26T09:11:35.691489Z",
     "shell.execute_reply": "2023-07-26T09:11:35.690720Z",
     "shell.execute_reply.started": "2023-07-26T09:11:34.002767Z"
    },
    "tags": []
   },
   "outputs": [],
   "source": [
    "from langchain.agents import create_sql_agent\n",
    "from langchain.agents.agent_toolkits import SQLDatabaseToolkit\n",
    "from langchain.sql_database import SQLDatabase\n",
    "from langchain.llms.openai import OpenAI"
   ]
  },
  {
   "cell_type": "code",
   "execution_count": 2,
   "metadata": {
    "execution": {
     "iopub.execute_input": "2023-07-26T09:11:36.657139Z",
     "iopub.status.busy": "2023-07-26T09:11:36.656609Z",
     "iopub.status.idle": "2023-07-26T09:11:36.668853Z",
     "shell.execute_reply": "2023-07-26T09:11:36.667837Z",
     "shell.execute_reply.started": "2023-07-26T09:11:36.657111Z"
    },
    "tags": []
   },
   "outputs": [],
   "source": [
    "import os\n",
    "from dotenv import load_dotenv\n",
    "load_dotenv()\n",
    "OPENAI_API_KEY = os.getenv('OPENAI_API_KEY')"
   ]
  },
  {
   "cell_type": "code",
   "execution_count": 3,
   "metadata": {
    "execution": {
     "iopub.execute_input": "2023-07-26T09:11:45.749159Z",
     "iopub.status.busy": "2023-07-26T09:11:45.748757Z",
     "iopub.status.idle": "2023-07-26T09:11:45.779467Z",
     "shell.execute_reply": "2023-07-26T09:11:45.778731Z",
     "shell.execute_reply.started": "2023-07-26T09:11:45.749136Z"
    },
    "tags": []
   },
   "outputs": [],
   "source": [
    "llm=OpenAI(temperature=0)\n",
    "db = SQLDatabase.from_uri(\"sqlite:///./rwa_data.db\")\n",
    "toolkit = SQLDatabaseToolkit(db=db, llm=llm)"
   ]
  },
  {
   "cell_type": "code",
   "execution_count": 4,
   "metadata": {
    "execution": {
     "iopub.execute_input": "2023-07-26T09:12:06.858821Z",
     "iopub.status.busy": "2023-07-26T09:12:06.858440Z",
     "iopub.status.idle": "2023-07-26T09:12:06.863710Z",
     "shell.execute_reply": "2023-07-26T09:12:06.862773Z",
     "shell.execute_reply.started": "2023-07-26T09:12:06.858793Z"
    },
    "tags": []
   },
   "outputs": [],
   "source": [
    "agent_executor = create_sql_agent(\n",
    "    llm=OpenAI(temperature=0),\n",
    "    toolkit=toolkit,\n",
    "    verbose=True # use verbose=True for detailed step-by-step output\n",
    ")"
   ]
  },
  {
   "cell_type": "code",
   "execution_count": 5,
   "metadata": {
    "execution": {
     "iopub.execute_input": "2023-07-26T09:12:52.883464Z",
     "iopub.status.busy": "2023-07-26T09:12:52.883059Z",
     "iopub.status.idle": "2023-07-26T09:13:00.170515Z",
     "shell.execute_reply": "2023-07-26T09:13:00.169575Z",
     "shell.execute_reply.started": "2023-07-26T09:12:52.883438Z"
    },
    "tags": []
   },
   "outputs": [
    {
     "name": "stdout",
     "output_type": "stream",
     "text": [
      "\n",
      "\n",
      "\u001b[1m> Entering new  chain...\u001b[0m\n",
      "\u001b[32;1m\u001b[1;3mAction: sql_db_list_tables\n",
      "Action Input: \u001b[0m\n",
      "Observation: \u001b[38;5;200m\u001b[1;3mRWA_122022, RWA_032023\u001b[0m\n",
      "Thought:\u001b[32;1m\u001b[1;3m I should query the schema of the RWA_122022 table\n",
      "Action: sql_db_schema\n",
      "Action Input: RWA_122022\u001b[0m\n",
      "Observation: \u001b[33;1m\u001b[1;3m\n",
      "CREATE TABLE \"RWA_122022\" (\n",
      "\t\"CLIENT_NUMBER\" TEXT, \n",
      "\t\"ACCOUNT_NUMBER\" TEXT, \n",
      "\t\"PRODUCT\" TEXT, \n",
      "\t\"STATUS\" TEXT, \n",
      "\t\"SEGMENT\" TEXT, \n",
      "\t\"EXPOSURE_DRAWN\" REAL, \n",
      "\t\"EXPOSURE_UNDRAWN\" REAL, \n",
      "\t\"EXPOSURE\" REAL, \n",
      "\t\"EAD\" REAL, \n",
      "\t\"EAD_COLL\" REAL, \n",
      "\t\"PD\" REAL, \n",
      "\t\"LGD\" REAL, \n",
      "\t\"SIZE\" REAL, \n",
      "\t\"MATURITY\" REAL, \n",
      "\t\"F_MORTGAGE\" TEXT, \n",
      "\t\"F_REVOLVING\" TEXT, \n",
      "\t\"F_LARGE_FIN\" TEXT, \n",
      "\t\"RW\" REAL, \n",
      "\t\"RWA\" REAL\n",
      ")\n",
      "\n",
      "/*\n",
      "3 rows from RWA_122022 table:\n",
      "CLIENT_NUMBER\tACCOUNT_NUMBER\tPRODUCT\tSTATUS\tSEGMENT\tEXPOSURE_DRAWN\tEXPOSURE_UNDRAWN\tEXPOSURE\tEAD\tEAD_COLL\tPD\tLGD\tSIZE\tMATURITY\tF_MORTGAGE\tF_REVOLVING\tF_LARGE_FIN\tRW\tRWA\n",
      "sfman997ux8036\t1324710203qiph20\tCREDIT_CARD\tPerforming\tRetail\t0.0\t18728.13876\t18728.13876\t11004.65713\t0.0\t0.0246518\t0.3092\t42.58029755\t1.15616438\tN\tY\tN\t0.245013691\t2696.291657\n",
      "onvse705ca9217\t1850135799zydg91\tMORTGAGE\tPerforming\tRetail\t103838.774\t0.0\t103838.774\t105912.2147\t55687.82851\t0.0056956\t0.197270397\t44.9952041\t5.0\tY\tN\tN\t0.17857894\t18913.69105\n",
      "icbpv275om2612\t6219058663wnxv78\tCONSUMER\tPerforming\tRetail\t4880.214964\t0.0\t4880.214964\t4907.859563\t0.0\t0.173298\t0.2218\t44.9952041\t2.10684932\tN\tN\tN\t0.493066855\t2419.902879\n",
      "*/\u001b[0m\n",
      "Thought:\u001b[32;1m\u001b[1;3m I should query the RWA_122022 table for the total RWA and EAD per SEGMENT\n",
      "Action: sql_db_query\n",
      "Action Input: SELECT SEGMENT, SUM(RWA) AS Total_RWA, SUM(EAD) AS Total_EAD FROM RWA_122022 GROUP BY SEGMENT\u001b[0m\n",
      "Observation: \u001b[36;1m\u001b[1;3m[('Corporate', 85075812.12498187, 156657332.34921697), ('Retail', 37806680.90001285, 165698955.81288758)]\u001b[0m\n",
      "Thought:\u001b[32;1m\u001b[1;3m I now know the final answer\n",
      "Final Answer: The total RWA and EAD per SEGMENT in the RWA_122022 table are Corporate: 85075812.12498187, 156657332.34921697 and Retail: 37806680.90001285, 165698955.81288758.\u001b[0m\n",
      "\n",
      "\u001b[1m> Finished chain.\u001b[0m\n"
     ]
    },
    {
     "data": {
      "text/plain": [
       "'The total RWA and EAD per SEGMENT in the RWA_122022 table are Corporate: 85075812.12498187, 156657332.34921697 and Retail: 37806680.90001285, 165698955.81288758.'"
      ]
     },
     "execution_count": 5,
     "metadata": {},
     "output_type": "execute_result"
    }
   ],
   "source": [
    "agent_executor.run(\"What is the total RWA and EAD per SEGMENT in the RWA_122022 table\")"
   ]
  },
  {
   "cell_type": "code",
   "execution_count": 16,
   "metadata": {
    "execution": {
     "iopub.execute_input": "2023-07-26T09:32:57.897474Z",
     "iopub.status.busy": "2023-07-26T09:32:57.897056Z",
     "iopub.status.idle": "2023-07-26T09:33:09.855518Z",
     "shell.execute_reply": "2023-07-26T09:33:09.854746Z",
     "shell.execute_reply.started": "2023-07-26T09:32:57.897448Z"
    },
    "tags": []
   },
   "outputs": [
    {
     "name": "stdout",
     "output_type": "stream",
     "text": [
      "\n",
      "\n",
      "\u001b[1m> Entering new  chain...\u001b[0m\n",
      "\u001b[32;1m\u001b[1;3mAction: sql_db_list_tables\n",
      "Action Input: \u001b[0m\n",
      "Observation: \u001b[38;5;200m\u001b[1;3mRWA_122022, RWA_032023\u001b[0m\n",
      "Thought:\u001b[32;1m\u001b[1;3m I should query the schema of the two tables to see what columns I can use.\n",
      "Action: sql_db_schema\n",
      "Action Input: RWA_122022, RWA_032023\u001b[0m\n",
      "Observation: \u001b[33;1m\u001b[1;3m\n",
      "CREATE TABLE \"RWA_032023\" (\n",
      "\t\"CLIENT_NUMBER\" TEXT, \n",
      "\t\"ACCOUNT_NUMBER\" TEXT, \n",
      "\t\"PRODUCT\" TEXT, \n",
      "\t\"STATUS\" TEXT, \n",
      "\t\"SEGMENT\" TEXT, \n",
      "\t\"EXPOSURE_DRAWN\" REAL, \n",
      "\t\"EXPOSURE_UNDRAWN\" REAL, \n",
      "\t\"EXPOSURE\" REAL, \n",
      "\t\"EAD\" REAL, \n",
      "\t\"EAD_COLL\" REAL, \n",
      "\t\"PD\" REAL, \n",
      "\t\"LGD\" REAL, \n",
      "\t\"SIZE\" TEXT, \n",
      "\t\"MATURITY\" REAL, \n",
      "\t\"F_MORTGAGE\" TEXT, \n",
      "\t\"F_REVOLVING\" TEXT, \n",
      "\t\"F_LARGE_FIN\" TEXT, \n",
      "\t\"RW\" REAL, \n",
      "\t\"RWA\" REAL\n",
      ")\n",
      "\n",
      "/*\n",
      "3 rows from RWA_032023 table:\n",
      "CLIENT_NUMBER\tACCOUNT_NUMBER\tPRODUCT\tSTATUS\tSEGMENT\tEXPOSURE_DRAWN\tEXPOSURE_UNDRAWN\tEXPOSURE\tEAD\tEAD_COLL\tPD\tLGD\tSIZE\tMATURITY\tF_MORTGAGE\tF_REVOLVING\tF_LARGE_FIN\tRW\tRWA\n",
      "ihpod330vr7103\t1552140532ytcj27\tINVESTMENT\tPerforming\tCorporate\t125061.0838\t0.0\t125061.0838\t126810.7562\t126810.7562\t0.0465595\t0.0\t2.825097816\t5.0\tN\tN\tN\t0.0\t0.0\n",
      "clvzn679th3420\t6652474791hjut82\tINVESTMENT\tPerforming\tRetail\t228739.9079\t0.0\t228739.9079\t231937.8624\t231937.8624\t0.2602707\t0.15\t0.398918534\t5.0\tY\tN\tN\t0.925965504\t214766.4597\n",
      "foyrx385za4907\t4224264131qttz91\tINVESTMENT\tPerforming\tRetail\t29043.95989\t0.0\t29043.95989\t29093.26438\t0.0\t0.01914\t0.5753\t0.043250677\t5.0\tN\tN\tN\t0.777036669\t22606.53326\n",
      "*/\n",
      "\n",
      "\n",
      "CREATE TABLE \"RWA_122022\" (\n",
      "\t\"CLIENT_NUMBER\" TEXT, \n",
      "\t\"ACCOUNT_NUMBER\" TEXT, \n",
      "\t\"PRODUCT\" TEXT, \n",
      "\t\"STATUS\" TEXT, \n",
      "\t\"SEGMENT\" TEXT, \n",
      "\t\"EXPOSURE_DRAWN\" REAL, \n",
      "\t\"EXPOSURE_UNDRAWN\" REAL, \n",
      "\t\"EXPOSURE\" REAL, \n",
      "\t\"EAD\" REAL, \n",
      "\t\"EAD_COLL\" REAL, \n",
      "\t\"PD\" REAL, \n",
      "\t\"LGD\" REAL, \n",
      "\t\"SIZE\" REAL, \n",
      "\t\"MATURITY\" REAL, \n",
      "\t\"F_MORTGAGE\" TEXT, \n",
      "\t\"F_REVOLVING\" TEXT, \n",
      "\t\"F_LARGE_FIN\" TEXT, \n",
      "\t\"RW\" REAL, \n",
      "\t\"RWA\" REAL\n",
      ")\n",
      "\n",
      "/*\n",
      "3 rows from RWA_122022 table:\n",
      "CLIENT_NUMBER\tACCOUNT_NUMBER\tPRODUCT\tSTATUS\tSEGMENT\tEXPOSURE_DRAWN\tEXPOSURE_UNDRAWN\tEXPOSURE\tEAD\tEAD_COLL\tPD\tLGD\tSIZE\tMATURITY\tF_MORTGAGE\tF_REVOLVING\tF_LARGE_FIN\tRW\tRWA\n",
      "sfman997ux8036\t1324710203qiph20\tCREDIT_CARD\tPerforming\tRetail\t0.0\t18728.13876\t18728.13876\t11004.65713\t0.0\t0.0246518\t0.3092\t42.58029755\t1.15616438\tN\tY\tN\t0.245013691\t2696.291657\n",
      "onvse705ca9217\t1850135799zydg91\tMORTGAGE\tPerforming\tRetail\t103838.774\t0.0\t103838.774\t105912.2147\t55687.82851\t0.0056956\t0.197270397\t44.9952041\t5.0\tY\tN\tN\t0.17857894\t18913.69105\n",
      "icbpv275om2612\t6219058663wnxv78\tCONSUMER\tPerforming\tRetail\t4880.214964\t0.0\t4880.214964\t4907.859563\t0.0\t0.173298\t0.2218\t44.9952041\t2.10684932\tN\tN\tN\t0.493066855\t2419.902879\n",
      "*/\u001b[0m\n",
      "Thought:\u001b[32;1m\u001b[1;3m I should query the RWA_122022 and RWA_032023 tables to get the sum of EXPOSURE where the ACCOUNT_NUMBER STATUS changed from Performing to Non Performing.\n",
      "Action: sql_db_query\n",
      "Action Input: SELECT SUM(RWA_122022.EXPOSURE) FROM RWA_122022 INNER JOIN RWA_032023 ON RWA_122022.ACCOUNT_NUMBER = RWA_032023.ACCOUNT_NUMBER WHERE RWA_122022.STATUS = 'Performing' AND RWA_032023.STATUS = 'Non Performing'\u001b[0m\n",
      "Observation: \u001b[36;1m\u001b[1;3m[(575151.3173016,)]\u001b[0m\n",
      "Thought:\u001b[32;1m\u001b[1;3m I now know the final answer\n",
      "Final Answer: The sum of EXPOSURE in RWA_122022 where the ACCOUNT_NUMBER STATUS changed from Performing to Non Performing between RWA_122022 table and RWA_032023 table is 575151.3173016.\u001b[0m\n",
      "\n",
      "\u001b[1m> Finished chain.\u001b[0m\n"
     ]
    },
    {
     "data": {
      "text/plain": [
       "'The sum of EXPOSURE in RWA_122022 where the ACCOUNT_NUMBER STATUS changed from Performing to Non Performing between RWA_122022 table and RWA_032023 table is 575151.3173016.'"
      ]
     },
     "execution_count": 16,
     "metadata": {},
     "output_type": "execute_result"
    }
   ],
   "source": [
    "# agent_executor.run(\"What is the total EXPOSURE in RWA_122022 of all clients that changed their STATUS from Performing to Non Performing between RWA_122022 table and RWA_032023 table\")\n",
    "agent_executor.run(\"What is the sum of EXPOSURE in RWA_122022 where the ACCOUNT_NUMBER STATUS changed from Performing to Non Performing between RWA_122022 table and RWA_032023 table\")"
   ]
  },
  {
   "cell_type": "code",
   "execution_count": 7,
   "metadata": {
    "execution": {
     "iopub.execute_input": "2023-07-26T09:15:44.789458Z",
     "iopub.status.busy": "2023-07-26T09:15:44.789043Z",
     "iopub.status.idle": "2023-07-26T09:15:51.664152Z",
     "shell.execute_reply": "2023-07-26T09:15:51.663266Z",
     "shell.execute_reply.started": "2023-07-26T09:15:44.789430Z"
    },
    "tags": []
   },
   "outputs": [
    {
     "name": "stdout",
     "output_type": "stream",
     "text": [
      "\n",
      "\n",
      "\u001b[1m> Entering new  chain...\u001b[0m\n",
      "\u001b[32;1m\u001b[1;3mThought: I should check the query before executing it.\n",
      "Action: sql_db_list_tables\n",
      "Action Input: \u001b[0m\n",
      "Observation: \u001b[38;5;200m\u001b[1;3mRWA_122022, RWA_032023\u001b[0m\n",
      "Thought:\u001b[32;1m\u001b[1;3m RWA_122022 seems to be the most relevant table.\n",
      "Action: sql_db_schema\n",
      "Action Input: RWA_122022\u001b[0m\n",
      "Observation: \u001b[33;1m\u001b[1;3m\n",
      "CREATE TABLE \"RWA_122022\" (\n",
      "\t\"CLIENT_NUMBER\" TEXT, \n",
      "\t\"ACCOUNT_NUMBER\" TEXT, \n",
      "\t\"PRODUCT\" TEXT, \n",
      "\t\"STATUS\" TEXT, \n",
      "\t\"SEGMENT\" TEXT, \n",
      "\t\"EXPOSURE_DRAWN\" REAL, \n",
      "\t\"EXPOSURE_UNDRAWN\" REAL, \n",
      "\t\"EXPOSURE\" REAL, \n",
      "\t\"EAD\" REAL, \n",
      "\t\"EAD_COLL\" REAL, \n",
      "\t\"PD\" REAL, \n",
      "\t\"LGD\" REAL, \n",
      "\t\"SIZE\" REAL, \n",
      "\t\"MATURITY\" REAL, \n",
      "\t\"F_MORTGAGE\" TEXT, \n",
      "\t\"F_REVOLVING\" TEXT, \n",
      "\t\"F_LARGE_FIN\" TEXT, \n",
      "\t\"RW\" REAL, \n",
      "\t\"RWA\" REAL\n",
      ")\n",
      "\n",
      "/*\n",
      "3 rows from RWA_122022 table:\n",
      "CLIENT_NUMBER\tACCOUNT_NUMBER\tPRODUCT\tSTATUS\tSEGMENT\tEXPOSURE_DRAWN\tEXPOSURE_UNDRAWN\tEXPOSURE\tEAD\tEAD_COLL\tPD\tLGD\tSIZE\tMATURITY\tF_MORTGAGE\tF_REVOLVING\tF_LARGE_FIN\tRW\tRWA\n",
      "sfman997ux8036\t1324710203qiph20\tCREDIT_CARD\tPerforming\tRetail\t0.0\t18728.13876\t18728.13876\t11004.65713\t0.0\t0.0246518\t0.3092\t42.58029755\t1.15616438\tN\tY\tN\t0.245013691\t2696.291657\n",
      "onvse705ca9217\t1850135799zydg91\tMORTGAGE\tPerforming\tRetail\t103838.774\t0.0\t103838.774\t105912.2147\t55687.82851\t0.0056956\t0.197270397\t44.9952041\t5.0\tY\tN\tN\t0.17857894\t18913.69105\n",
      "icbpv275om2612\t6219058663wnxv78\tCONSUMER\tPerforming\tRetail\t4880.214964\t0.0\t4880.214964\t4907.859563\t0.0\t0.173298\t0.2218\t44.9952041\t2.10684932\tN\tN\tN\t0.493066855\t2419.902879\n",
      "*/\u001b[0m\n",
      "Thought:\u001b[32;1m\u001b[1;3m I should query the EXPOSURE of Client 'sfman997ux8036' in RWA_122022 table\n",
      "Action: sql_db_query\n",
      "Action Input: SELECT EXPOSURE FROM RWA_122022 WHERE CLIENT_NUMBER = 'sfman997ux8036'\u001b[0m\n",
      "Observation: \u001b[36;1m\u001b[1;3m[(18728.13876,)]\u001b[0m\n",
      "Thought:\u001b[32;1m\u001b[1;3m I now know the final answer\n",
      "Final Answer: The EXPOSURE of Client 'sfman997ux8036' in RWA_122022 table is 18728.13876.\u001b[0m\n",
      "\n",
      "\u001b[1m> Finished chain.\u001b[0m\n"
     ]
    },
    {
     "data": {
      "text/plain": [
       "\"The EXPOSURE of Client 'sfman997ux8036' in RWA_122022 table is 18728.13876.\""
      ]
     },
     "execution_count": 7,
     "metadata": {},
     "output_type": "execute_result"
    }
   ],
   "source": [
    "agent_executor.run(\"What is the EXPOSURE of Client 'sfman997ux8036' in RWA_122022 table\")"
   ]
  },
  {
   "cell_type": "code",
   "execution_count": null,
   "metadata": {},
   "outputs": [],
   "source": []
  },
  {
   "cell_type": "markdown",
   "metadata": {},
   "source": [
    "#### Function calling"
   ]
  },
  {
   "cell_type": "code",
   "execution_count": 8,
   "metadata": {
    "execution": {
     "iopub.execute_input": "2023-07-26T09:17:45.274725Z",
     "iopub.status.busy": "2023-07-26T09:17:45.274295Z",
     "iopub.status.idle": "2023-07-26T09:17:45.988255Z",
     "shell.execute_reply": "2023-07-26T09:17:45.987533Z",
     "shell.execute_reply.started": "2023-07-26T09:17:45.274699Z"
    },
    "tags": []
   },
   "outputs": [],
   "source": [
    "from langchain import SQLDatabase, SQLDatabaseChain\n",
    "from langchain.agents import initialize_agent, Tool\n",
    "from langchain.agents import AgentType\n",
    "from langchain.chat_models import ChatOpenAI\n",
    "\n",
    "from rw_formula import RW_Calc"
   ]
  },
  {
   "cell_type": "code",
   "execution_count": 11,
   "metadata": {
    "execution": {
     "iopub.execute_input": "2023-07-26T09:18:27.225909Z",
     "iopub.status.busy": "2023-07-26T09:18:27.225506Z",
     "iopub.status.idle": "2023-07-26T09:18:27.240091Z",
     "shell.execute_reply": "2023-07-26T09:18:27.239389Z",
     "shell.execute_reply.started": "2023-07-26T09:18:27.225883Z"
    },
    "tags": []
   },
   "outputs": [],
   "source": [
    "llm = ChatOpenAI(temperature=0, model=\"gpt-3.5-turbo-0613\")\n",
    "db = SQLDatabase.from_uri(\"sqlite:///./rwa_data.db\")\n",
    "db_chain = SQLDatabaseChain.from_llm(llm, db, verbose=True)\n",
    "tools = [\n",
    "    Tool(\n",
    "        name=\"risk weight calculator\",\n",
    "        func=RW_Calc,\n",
    "        description=\n",
    "        \"\"\"calculates a loan risk weight give the argulamts: \n",
    "        Segment - Possible values are 'Bank', 'Corporate', and 'Retail'), \n",
    "        PD - Probability of Default\n",
    "        LGD - Loss Given Default\n",
    "        m - Remaining maturity of the loan in years\n",
    "        Large_Fin - If 'Y' the client is a Flag for Large Financial Institution, otherwise 'N'\n",
    "        size - size of the client in MEUR, usually this is the client's turnover\n",
    "        mortgage - If 'Y' the exposure is a mortgage loan, otherwise 'N'\n",
    "        revolving - If 'Y' the exposure is a revolving loan, otherwise 'N'\n",
    "        \"\"\"\n",
    "    ),    \n",
    "    Tool(\n",
    "        name=\"rwa_db\",\n",
    "        func=db_chain.run,\n",
    "        description=\"useful for quering a database\"\n",
    "    )\n",
    "]"
   ]
  },
  {
   "cell_type": "code",
   "execution_count": 12,
   "metadata": {
    "execution": {
     "iopub.execute_input": "2023-07-26T09:18:30.779662Z",
     "iopub.status.busy": "2023-07-26T09:18:30.779257Z",
     "iopub.status.idle": "2023-07-26T09:18:30.784296Z",
     "shell.execute_reply": "2023-07-26T09:18:30.783363Z",
     "shell.execute_reply.started": "2023-07-26T09:18:30.779637Z"
    },
    "tags": []
   },
   "outputs": [],
   "source": [
    "agent = initialize_agent(tools, llm, agent=\"zero-shot-react-description\", verbose=True)"
   ]
  },
  {
   "cell_type": "code",
   "execution_count": 17,
   "metadata": {
    "execution": {
     "iopub.execute_input": "2023-07-26T09:58:43.154818Z",
     "iopub.status.busy": "2023-07-26T09:58:43.154421Z",
     "iopub.status.idle": "2023-07-26T09:58:59.650999Z",
     "shell.execute_reply": "2023-07-26T09:58:59.650267Z",
     "shell.execute_reply.started": "2023-07-26T09:58:43.154793Z"
    },
    "tags": []
   },
   "outputs": [
    {
     "name": "stdout",
     "output_type": "stream",
     "text": [
      "\n",
      "\n",
      "\u001b[1m> Entering new  chain...\u001b[0m\n",
      "\u001b[32;1m\u001b[1;3mI need to query the RWA_122022 table to get the information for Client 'sfman997ux8036'. Then I need to calculate the risk weight if the PD doubles.\n",
      "Action: rwa_db\n",
      "Action Input: SELECT * FROM RWA_122022 WHERE Client = 'sfman997ux8036'\u001b[0m\n",
      "\n",
      "\u001b[1m> Entering new  chain...\u001b[0m\n",
      "SELECT * FROM RWA_122022 WHERE Client = 'sfman997ux8036'\n",
      "SQLQuery:\u001b[32;1m\u001b[1;3mSELECT * FROM RWA_122022 WHERE CLIENT_NUMBER = 'sfman997ux8036'\u001b[0m\n",
      "SQLResult: \u001b[33;1m\u001b[1;3m[('sfman997ux8036', '1324710203qiph20', 'CREDIT_CARD', 'Performing', 'Retail', 0.0, 18728.13876, 18728.13876, 11004.65713, 0.0, 0.0246518, 0.3092, 42.58029755, 1.15616438, 'N', 'Y', 'N', 0.245013691, 2696.291657)]\u001b[0m\n",
      "Answer:\u001b[32;1m\u001b[1;3mCLIENT_NUMBER: sfman997ux8036\n",
      "ACCOUNT_NUMBER: 1324710203qiph20\n",
      "PRODUCT: CREDIT_CARD\n",
      "STATUS: Performing\n",
      "SEGMENT: Retail\n",
      "EXPOSURE_DRAWN: 0.0\n",
      "EXPOSURE_UNDRAWN: 18728.13876\n",
      "EXPOSURE: 18728.13876\n",
      "EAD: 11004.65713\n",
      "EAD_COLL: 0.0\n",
      "PD: 0.0246518\n",
      "LGD: 0.3092\n",
      "SIZE: 42.58029755\n",
      "MATURITY: 1.15616438\n",
      "F_MORTGAGE: N\n",
      "F_REVOLVING: Y\n",
      "F_LARGE_FIN: N\n",
      "RW: 0.245013691\n",
      "RWA: 2696.291657\u001b[0m\n",
      "\u001b[1m> Finished chain.\u001b[0m\n",
      "\n",
      "Observation: \u001b[33;1m\u001b[1;3mCLIENT_NUMBER: sfman997ux8036\n",
      "ACCOUNT_NUMBER: 1324710203qiph20\n",
      "PRODUCT: CREDIT_CARD\n",
      "STATUS: Performing\n",
      "SEGMENT: Retail\n",
      "EXPOSURE_DRAWN: 0.0\n",
      "EXPOSURE_UNDRAWN: 18728.13876\n",
      "EXPOSURE: 18728.13876\n",
      "EAD: 11004.65713\n",
      "EAD_COLL: 0.0\n",
      "PD: 0.0246518\n",
      "LGD: 0.3092\n",
      "SIZE: 42.58029755\n",
      "MATURITY: 1.15616438\n",
      "F_MORTGAGE: N\n",
      "F_REVOLVING: Y\n",
      "F_LARGE_FIN: N\n",
      "RW: 0.245013691\n",
      "RWA: 2696.291657\u001b[0m\n",
      "Thought:\u001b[32;1m\u001b[1;3mNow that I have the information for Client 'sfman997ux8036', I can calculate the risk weight if the PD doubles.\n",
      "Action: risk weight calculator\n",
      "Action Input: Segment = 'Retail', PD = 0.0246518 * 2, LGD = 0.3092, m = 1.15616438, Large_Fin = 'N', size = 42.58029755, mortgage = 'N', revolving = 'Y'\u001b[0m\n",
      "Observation: \u001b[36;1m\u001b[1;3m0.3950618648985617\u001b[0m\n",
      "Thought:\u001b[32;1m\u001b[1;3mThe risk weight if the PD doubles for Client 'sfman997ux8036' is 0.3950618648985617.\n",
      "Final Answer: 0.3950618648985617\u001b[0m\n",
      "\n",
      "\u001b[1m> Finished chain.\u001b[0m\n"
     ]
    },
    {
     "data": {
      "text/plain": [
       "'0.3950618648985617'"
      ]
     },
     "execution_count": 17,
     "metadata": {},
     "output_type": "execute_result"
    }
   ],
   "source": [
    "agent.run(\"Read all the information for Client 'sfman997ux8036' in RWA_122022 table and then what is the RW if PD doubles\")"
   ]
  },
  {
   "cell_type": "code",
   "execution_count": null,
   "metadata": {},
   "outputs": [],
   "source": []
  },
  {
   "cell_type": "code",
   "execution_count": null,
   "metadata": {},
   "outputs": [],
   "source": []
  }
 ],
 "metadata": {
  "kernelspec": {
   "display_name": "saturn (Python 3)",
   "language": "python",
   "name": "python3"
  },
  "language_info": {
   "codemirror_mode": {
    "name": "ipython",
    "version": 3
   },
   "file_extension": ".py",
   "mimetype": "text/x-python",
   "name": "python",
   "nbconvert_exporter": "python",
   "pygments_lexer": "ipython3",
   "version": "3.9.13"
  }
 },
 "nbformat": 4,
 "nbformat_minor": 4
}
