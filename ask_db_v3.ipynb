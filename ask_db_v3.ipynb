{
 "cells": [
  {
   "cell_type": "code",
   "execution_count": 1,
   "metadata": {
    "execution": {
     "iopub.execute_input": "2023-07-31T08:59:12.218548Z",
     "iopub.status.busy": "2023-07-31T08:59:12.218141Z",
     "iopub.status.idle": "2023-07-31T08:59:13.536800Z",
     "shell.execute_reply": "2023-07-31T08:59:13.536166Z",
     "shell.execute_reply.started": "2023-07-31T08:59:12.218478Z"
    },
    "tags": []
   },
   "outputs": [],
   "source": [
    "from langchain.agents import create_sql_agent\n",
    "from langchain.agents.agent_toolkits import SQLDatabaseToolkit\n",
    "from langchain.sql_database import SQLDatabase\n",
    "from langchain.llms.openai import OpenAI"
   ]
  },
  {
   "cell_type": "code",
   "execution_count": 2,
   "metadata": {
    "execution": {
     "iopub.execute_input": "2023-07-31T08:59:15.086657Z",
     "iopub.status.busy": "2023-07-31T08:59:15.086194Z",
     "iopub.status.idle": "2023-07-31T08:59:15.095385Z",
     "shell.execute_reply": "2023-07-31T08:59:15.094646Z",
     "shell.execute_reply.started": "2023-07-31T08:59:15.086630Z"
    },
    "tags": []
   },
   "outputs": [],
   "source": [
    "import os\n",
    "from dotenv import load_dotenv\n",
    "load_dotenv()\n",
    "OPENAI_API_KEY = os.getenv('OPENAI_API_KEY')"
   ]
  },
  {
   "cell_type": "code",
   "execution_count": 3,
   "metadata": {
    "execution": {
     "iopub.execute_input": "2023-07-31T08:59:17.118429Z",
     "iopub.status.busy": "2023-07-31T08:59:17.118056Z",
     "iopub.status.idle": "2023-07-31T08:59:17.145799Z",
     "shell.execute_reply": "2023-07-31T08:59:17.145132Z",
     "shell.execute_reply.started": "2023-07-31T08:59:17.118404Z"
    },
    "tags": []
   },
   "outputs": [],
   "source": [
    "llm=OpenAI(temperature=0)\n",
    "db = SQLDatabase.from_uri(\"sqlite:///./rwa_data.db\")\n",
    "toolkit = SQLDatabaseToolkit(db=db, llm=llm)"
   ]
  },
  {
   "cell_type": "code",
   "execution_count": 4,
   "metadata": {
    "execution": {
     "iopub.execute_input": "2023-07-31T08:59:25.209334Z",
     "iopub.status.busy": "2023-07-31T08:59:25.208962Z",
     "iopub.status.idle": "2023-07-31T08:59:25.213833Z",
     "shell.execute_reply": "2023-07-31T08:59:25.213000Z",
     "shell.execute_reply.started": "2023-07-31T08:59:25.209310Z"
    },
    "tags": []
   },
   "outputs": [],
   "source": [
    "agent_executor = create_sql_agent(\n",
    "    llm=OpenAI(temperature=0),\n",
    "    toolkit=toolkit,\n",
    "    verbose=False # use verbose=True for detailed step-by-step output\n",
    ")"
   ]
  },
  {
   "cell_type": "code",
   "execution_count": 5,
   "metadata": {
    "execution": {
     "iopub.execute_input": "2023-07-31T08:59:45.099565Z",
     "iopub.status.busy": "2023-07-31T08:59:45.099208Z",
     "iopub.status.idle": "2023-07-31T08:59:51.246704Z",
     "shell.execute_reply": "2023-07-31T08:59:51.245925Z",
     "shell.execute_reply.started": "2023-07-31T08:59:45.099541Z"
    },
    "tags": []
   },
   "outputs": [
    {
     "data": {
      "text/plain": [
       "'The total RWA and EAD per SEGMENT in the RWA_122022 table are Corporate: 85075812.12498187, 156657332.34921697 and Retail: 37806680.90001285, 165698955.81288758.'"
      ]
     },
     "execution_count": 5,
     "metadata": {},
     "output_type": "execute_result"
    }
   ],
   "source": [
    "agent_executor.run(\"What is the total RWA and EAD per SEGMENT in the RWA_122022 table\")"
   ]
  },
  {
   "cell_type": "code",
   "execution_count": 6,
   "metadata": {
    "execution": {
     "iopub.execute_input": "2023-07-31T08:59:53.907069Z",
     "iopub.status.busy": "2023-07-31T08:59:53.906703Z",
     "iopub.status.idle": "2023-07-31T09:00:02.828715Z",
     "shell.execute_reply": "2023-07-31T09:00:02.827903Z",
     "shell.execute_reply.started": "2023-07-31T08:59:53.907045Z"
    },
    "tags": []
   },
   "outputs": [
    {
     "data": {
      "text/plain": [
       "'The sum of EXPOSURE in RWA_122022 where the ACCOUNT_NUMBER STATUS changed from Performing to Non Performing between RWA_122022 table and RWA_032023 table is 575151.3173016.'"
      ]
     },
     "execution_count": 6,
     "metadata": {},
     "output_type": "execute_result"
    }
   ],
   "source": [
    "# agent_executor.run(\"What is the total EXPOSURE in RWA_122022 of all clients that changed their STATUS from Performing to Non Performing between RWA_122022 table and RWA_032023 table\")\n",
    "agent_executor.run(\"What is the sum of EXPOSURE in RWA_122022 where the ACCOUNT_NUMBER STATUS changed from Performing to Non Performing between RWA_122022 table and RWA_032023 table\")"
   ]
  },
  {
   "cell_type": "code",
   "execution_count": 7,
   "metadata": {
    "execution": {
     "iopub.execute_input": "2023-07-31T09:00:05.985947Z",
     "iopub.status.busy": "2023-07-31T09:00:05.985556Z",
     "iopub.status.idle": "2023-07-31T09:00:12.334175Z",
     "shell.execute_reply": "2023-07-31T09:00:12.333549Z",
     "shell.execute_reply.started": "2023-07-31T09:00:05.985923Z"
    },
    "tags": []
   },
   "outputs": [
    {
     "data": {
      "text/plain": [
       "\"The exposure of Client 'sfman997ux8036' in RWA_122022 table is 18728.13876.\""
      ]
     },
     "execution_count": 7,
     "metadata": {},
     "output_type": "execute_result"
    }
   ],
   "source": [
    "agent_executor.run(\"What is the EXPOSURE of Client 'sfman997ux8036' in RWA_122022 table\")"
   ]
  },
  {
   "cell_type": "code",
   "execution_count": null,
   "metadata": {},
   "outputs": [],
   "source": []
  },
  {
   "cell_type": "markdown",
   "metadata": {},
   "source": [
    "#### Function calling"
   ]
  },
  {
   "cell_type": "code",
   "execution_count": 8,
   "metadata": {
    "execution": {
     "iopub.execute_input": "2023-07-31T09:00:19.627219Z",
     "iopub.status.busy": "2023-07-31T09:00:19.626842Z",
     "iopub.status.idle": "2023-07-31T09:00:20.243561Z",
     "shell.execute_reply": "2023-07-31T09:00:20.242936Z",
     "shell.execute_reply.started": "2023-07-31T09:00:19.627196Z"
    },
    "tags": []
   },
   "outputs": [],
   "source": [
    "from langchain import SQLDatabase, SQLDatabaseChain\n",
    "from langchain.agents import initialize_agent, Tool\n",
    "from langchain.agents import AgentType\n",
    "from langchain.chat_models import ChatOpenAI\n",
    "\n",
    "from rw_formula import RW_Calc"
   ]
  },
  {
   "cell_type": "code",
   "execution_count": 9,
   "metadata": {
    "execution": {
     "iopub.execute_input": "2023-07-31T09:00:26.886809Z",
     "iopub.status.busy": "2023-07-31T09:00:26.885649Z",
     "iopub.status.idle": "2023-07-31T09:00:26.900392Z",
     "shell.execute_reply": "2023-07-31T09:00:26.899394Z",
     "shell.execute_reply.started": "2023-07-31T09:00:26.886764Z"
    },
    "tags": []
   },
   "outputs": [],
   "source": [
    "llm = ChatOpenAI(temperature=0, model=\"gpt-3.5-turbo-0613\")\n",
    "db = SQLDatabase.from_uri(\"sqlite:///./rwa_data.db\")\n",
    "db_chain = SQLDatabaseChain.from_llm(llm, db, verbose=True)\n",
    "tools = [\n",
    "    Tool(\n",
    "        name=\"risk weight calculator\",\n",
    "        func=RW_Calc,\n",
    "        description=\n",
    "        \"\"\"calculates a loan risk weight give the argulamts: \n",
    "        Segment - Possible values are 'Bank', 'Corporate', and 'Retail'), \n",
    "        PD - Probability of Default\n",
    "        LGD - Loss Given Default\n",
    "        m - Remaining maturity of the loan in years\n",
    "        Large_Fin - If 'Y' the client is a Flag for Large Financial Institution, otherwise 'N'\n",
    "        size - size of the client in MEUR, usually this is the client's turnover\n",
    "        mortgage - If 'Y' the exposure is a mortgage loan, otherwise 'N'\n",
    "        revolving - If 'Y' the exposure is a revolving loan, otherwise 'N'\n",
    "        \"\"\"\n",
    "    ),    \n",
    "    Tool(\n",
    "        name=\"rwa_db\",\n",
    "        func=db_chain.run,\n",
    "        description=\"useful for quering a database\"\n",
    "    )\n",
    "]"
   ]
  },
  {
   "cell_type": "code",
   "execution_count": 10,
   "metadata": {
    "execution": {
     "iopub.execute_input": "2023-07-31T09:00:34.572045Z",
     "iopub.status.busy": "2023-07-31T09:00:34.571589Z",
     "iopub.status.idle": "2023-07-31T09:00:34.576249Z",
     "shell.execute_reply": "2023-07-31T09:00:34.575455Z",
     "shell.execute_reply.started": "2023-07-31T09:00:34.572018Z"
    },
    "tags": []
   },
   "outputs": [],
   "source": [
    "agent = initialize_agent(\n",
    "    tools, \n",
    "    llm, \n",
    "    agent=\"zero-shot-react-description\", \n",
    "    verbose=False, \n",
    "    handle_parsing_errors=True\n",
    ")"
   ]
  },
  {
   "cell_type": "code",
   "execution_count": 11,
   "metadata": {
    "execution": {
     "iopub.execute_input": "2023-07-31T09:00:38.578789Z",
     "iopub.status.busy": "2023-07-31T09:00:38.578408Z",
     "iopub.status.idle": "2023-07-31T09:00:52.728607Z",
     "shell.execute_reply": "2023-07-31T09:00:52.727764Z",
     "shell.execute_reply.started": "2023-07-31T09:00:38.578766Z"
    },
    "tags": []
   },
   "outputs": [
    {
     "name": "stdout",
     "output_type": "stream",
     "text": [
      "\n",
      "\n",
      "\u001b[1m> Entering new  chain...\u001b[0m\n",
      "SELECT Segment, SUM(RWA) AS Total_RWA, SUM(EAD) AS Total_EAD FROM RWA_122022 GROUP BY Segment\n",
      "SQLQuery:\u001b[32;1m\u001b[1;3mSELECT \"SEGMENT\", SUM(\"RWA\") AS Total_RWA, SUM(\"EAD\") AS Total_EAD FROM \"RWA_122022\" GROUP BY \"SEGMENT\"\u001b[0m\n",
      "SQLResult: \u001b[33;1m\u001b[1;3m[('Corporate', 85075812.12498187, 156657332.34921697), ('Retail', 37806680.90001285, 165698955.81288758)]\u001b[0m\n",
      "Answer:\u001b[32;1m\u001b[1;3mFinal answer: The total RWA and EAD for each segment in the RWA_122022 table are as follows:\n",
      "- Corporate: Total RWA = 85,075,812.12, Total EAD = 156,657,332.35\n",
      "- Retail: Total RWA = 37,806,680.90, Total EAD = 165,698,955.81\u001b[0m\n",
      "\u001b[1m> Finished chain.\u001b[0m\n"
     ]
    },
    {
     "data": {
      "text/plain": [
       "'The risk weight for the loan is 0.846960854155292.'"
      ]
     },
     "execution_count": 11,
     "metadata": {},
     "output_type": "execute_result"
    }
   ],
   "source": [
    "agent.run(\"Report the total RWA and EAD per SEGMENT from RWA_122022 table\")"
   ]
  },
  {
   "cell_type": "code",
   "execution_count": null,
   "metadata": {
    "tags": []
   },
   "outputs": [],
   "source": [
    "agent.run(\"report the the sum of all EXPOSURE in RWA_122022 where the ACCOUNT_NUMBER STATUS changed from Performing to Non Performing between RWA_122022 table and RWA_032023 table\")"
   ]
  },
  {
   "cell_type": "code",
   "execution_count": null,
   "metadata": {
    "tags": []
   },
   "outputs": [],
   "source": [
    "agent.run(\"Read the information for Client 'sfman997ux8036' in RWA_122022 table and then calculate the RW if PD doubles\")"
   ]
  },
  {
   "cell_type": "code",
   "execution_count": null,
   "metadata": {},
   "outputs": [],
   "source": []
  },
  {
   "cell_type": "code",
   "execution_count": null,
   "metadata": {},
   "outputs": [],
   "source": []
  }
 ],
 "metadata": {
  "kernelspec": {
   "display_name": "saturn (Python 3)",
   "language": "python",
   "name": "python3"
  },
  "language_info": {
   "codemirror_mode": {
    "name": "ipython",
    "version": 3
   },
   "file_extension": ".py",
   "mimetype": "text/x-python",
   "name": "python",
   "nbconvert_exporter": "python",
   "pygments_lexer": "ipython3",
   "version": "3.9.13"
  }
 },
 "nbformat": 4,
 "nbformat_minor": 4
}
