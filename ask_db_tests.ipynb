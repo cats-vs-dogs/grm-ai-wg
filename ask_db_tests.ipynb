{
 "cells": [
  {
   "cell_type": "code",
   "execution_count": null,
   "id": "e941ed0b-805e-45f2-a0f9-6070b998ba01",
   "metadata": {
    "tags": []
   },
   "outputs": [],
   "source": [
    "from langchain.agents import Tool, AgentExecutor, BaseMultiActionAgent\n",
    "from langchain import OpenAI, SerpAPIWrapper\n",
    "\n",
    "from langchain import SQLDatabase, SQLDatabaseChain\n",
    "from langchain.agents import initialize_agent, Tool\n",
    "from langchain.agents import AgentType\n",
    "from langchain.chat_models import ChatOpenAI\n",
    "\n",
    "from rw_formula import RW_Calc"
   ]
  },
  {
   "cell_type": "code",
   "execution_count": null,
   "id": "716284c1-7f73-4de6-8908-4cb3709eae47",
   "metadata": {},
   "outputs": [],
   "source": [
    "import os\n",
    "from dotenv import load_dotenv\n",
    "load_dotenv()\n",
    "OPENAI_API_KEY = os.getenv('OPENAI_API_KEY')"
   ]
  },
  {
   "cell_type": "code",
   "execution_count": null,
   "id": "7b651f6e-b230-406e-9615-1ca7dfbd9c76",
   "metadata": {
    "tags": []
   },
   "outputs": [],
   "source": [
    "llm = ChatOpenAI(temperature=0, model=\"gpt-3.5-turbo-0613\")\n",
    "db = SQLDatabase.from_uri(\"sqlite:///./rwa_data.db\")\n",
    "db_chain = SQLDatabaseChain.from_llm(llm, db, verbose=True)\n",
    "tools = [\n",
    "    Tool(\n",
    "        name=\"risk weight calculator\",\n",
    "        func=RW_Calc,\n",
    "        description=\n",
    "        \"\"\"calculates a loan risk weight give the argulamts: \n",
    "        Segment - Possible values are 'Bank', 'Corporate', and 'Retail'), \n",
    "        PD - Probability of Default\n",
    "        LGD - Loss Given Default\n",
    "        m - Remaining maturity of the loan in years\n",
    "        Large_Fin - If 'Y' the client is a Flag for Large Financial Institution, otherwise 'N'\n",
    "        size - size of the client in MEUR, usually this is the client's turnover\n",
    "        mortgage - If 'Y' the exposure is a mortgage loan, otherwise 'N'\n",
    "        revolving - If 'Y' the exposure is a revolving loan, otherwise 'N'\n",
    "        \"\"\"\n",
    "    ),    \n",
    "    Tool(\n",
    "        name=\"rwa_db\",\n",
    "        func=db_chain.run,\n",
    "        description=\"useful for quering a database\"\n",
    "    )\n",
    "]"
   ]
  },
  {
   "cell_type": "code",
   "execution_count": null,
   "id": "1ea64405-c4c0-45b8-aaa1-8d0b28c2f852",
   "metadata": {
    "tags": []
   },
   "outputs": [],
   "source": [
    "# from typing import List, Tuple, Any, Union\n",
    "# from langchain.schema import AgentAction, AgentFinish\n",
    "\n",
    "\n",
    "# class DBAgent(BaseMultiActionAgent):\n",
    "#     \"\"\"DataBase and Calculation Agent.\"\"\"\n",
    "\n",
    "#     @property\n",
    "#     def input_keys(self):\n",
    "#         return [\"input\"]\n",
    "\n",
    "#     def plan(\n",
    "#         self, intermediate_steps: List[Tuple[AgentAction, str]], **kwargs: Any\n",
    "#     ) -> Union[List[AgentAction], AgentFinish]:\n",
    "#         \"\"\"Given input, decided what to do.\n",
    "\n",
    "#         Args:\n",
    "#             intermediate_steps: Steps the LLM has taken to date,\n",
    "#                 along with observations\n",
    "#             **kwargs: User inputs.\n",
    "\n",
    "#         Returns:\n",
    "#             Action specifying what tool to use.\n",
    "#         \"\"\"\n",
    "        \n",
    "#         if len(intermediate_steps) == 0:\n",
    "#             return [\n",
    "#                 AgentAction(tool=\"rwa_db\", tool_input=kwargs[\"input\"], log=\"\"),\n",
    "#             ]\n",
    "#         elif len(intermediate_steps) == 1:\n",
    "#             return [\n",
    "#                 AgentAction(tool=\"rw_calculator\", tool_input=kwargs[\"input\"], log=\"\"),\n",
    "#             ]\n",
    "#         else:\n",
    "#             return AgentFinish()\n",
    "            \n",
    "\n",
    "#     async def aplan(\n",
    "#         self, intermediate_steps: List[Tuple[AgentAction, str]], **kwargs: Any\n",
    "#     ) -> Union[List[AgentAction], AgentFinish]:\n",
    "#         \"\"\"Given input, decided what to do.\n",
    "\n",
    "#         Args:\n",
    "#             intermediate_steps: Steps the LLM has taken to date,\n",
    "#                 along with observations\n",
    "#             **kwargs: User inputs.\n",
    "\n",
    "#         Returns:\n",
    "#             Action specifying what tool to use.\n",
    "#         \"\"\"\n",
    "#         if len(intermediate_steps) == 0:\n",
    "#             return [\n",
    "#                 AgentAction(tool=\"rwa_db\", tool_input=kwargs[\"input\"], log=\"\"),\n",
    "#             ]\n",
    "#         elif len(intermediate_steps) == 1:\n",
    "#             return [\n",
    "#                 AgentAction(tool=\"rw_calculator\", tool_input=kwargs[\"input\"], log=\"\"),\n",
    "#             ]\n",
    "#         else:\n",
    "#             return AgentFinish()"
   ]
  },
  {
   "cell_type": "code",
   "execution_count": null,
   "id": "20add7d2-dcbe-4042-8490-aaaf91ed8235",
   "metadata": {
    "tags": []
   },
   "outputs": [],
   "source": [
    "agent = DBAgent()"
   ]
  },
  {
   "cell_type": "code",
   "execution_count": null,
   "id": "97b85fa8-93e2-43c6-83fa-e730a3e2a80f",
   "metadata": {
    "tags": []
   },
   "outputs": [],
   "source": [
    "agent_executor = AgentExecutor.from_agent_and_tools(\n",
    "    agent=agent, tools=tools, verbose=True\n",
    ")"
   ]
  },
  {
   "cell_type": "code",
   "execution_count": null,
   "id": "90aa7940-a7a4-4af4-bf23-47b485d3879b",
   "metadata": {
    "tags": []
   },
   "outputs": [],
   "source": [
    "# agent_executor.run(\"Report the total RWA and EAD per SEGMENT from RWA_122022 table\")"
   ]
  },
  {
   "cell_type": "code",
   "execution_count": null,
   "id": "851c77a1-018b-433d-8184-adb8432d30c1",
   "metadata": {},
   "outputs": [],
   "source": []
  },
  {
   "cell_type": "markdown",
   "id": "f1200eb0-be93-42c1-94bd-d85112cd1774",
   "metadata": {},
   "source": [
    "#### New Try"
   ]
  },
  {
   "cell_type": "code",
   "execution_count": null,
   "id": "5012cdb2-88e7-417c-a446-c6a013209355",
   "metadata": {},
   "outputs": [],
   "source": []
  },
  {
   "cell_type": "code",
   "execution_count": null,
   "id": "2795e234-779d-41c9-a44e-a0f104da994c",
   "metadata": {
    "tags": []
   },
   "outputs": [],
   "source": [
    "from langchain.llms import OpenAI\n",
    "from langchain.chat_models import ChatOpenAI\n",
    "from langchain.sql_database import SQLDatabase\n",
    "from langchain_experimental.sql import SQLDatabaseChain\n",
    "from langchain.agents import initialize_agent, Tool, AgentType\n",
    "from langchain_experimental.plan_and_execute import PlanAndExecute, load_agent_executor, load_chat_planner\n",
    "\n",
    "from rw_formula import RW_Calc"
   ]
  },
  {
   "cell_type": "code",
   "execution_count": null,
   "id": "9375f509-4e19-4bb0-b23d-29bd4f0b5131",
   "metadata": {
    "tags": []
   },
   "outputs": [],
   "source": [
    "import os\n",
    "from dotenv import load_dotenv\n",
    "load_dotenv()\n",
    "OPENAI_API_KEY = os.getenv('OPENAI_API_KEY')"
   ]
  },
  {
   "cell_type": "code",
   "execution_count": null,
   "id": "fe429b9a-3a95-44fc-8b32-0b4e2573e852",
   "metadata": {
    "tags": []
   },
   "outputs": [],
   "source": [
    "llm = ChatOpenAI(temperature=0)\n",
    "db = SQLDatabase.from_uri(\"sqlite:///./rwa_data.db\")\n",
    "db_chain = SQLDatabaseChain.from_llm(llm, db, verbose=True)\n",
    "tools = [\n",
    "    Tool(\n",
    "        name=\"rw_calculator\",\n",
    "        func=RW_Calc,\n",
    "        description=\"calculates a loan risk weight\"\n",
    "    ),    \n",
    "    Tool(\n",
    "        name=\"rwa_db\",\n",
    "        func=db_chain.run,\n",
    "        description=\"useful for quering a database\"\n",
    "    )\n",
    "]"
   ]
  },
  {
   "cell_type": "code",
   "execution_count": null,
   "id": "970d9aa8-535b-4521-8176-81ac0610e6e8",
   "metadata": {
    "tags": []
   },
   "outputs": [],
   "source": [
    "model = ChatOpenAI(temperature=0)\n",
    "planner = load_chat_planner(model)\n",
    "executor = load_agent_executor(model, tools, verbose=True)\n",
    "agent = PlanAndExecute(planner=planner, executor=executor, verbose=True)"
   ]
  },
  {
   "cell_type": "code",
   "execution_count": null,
   "id": "4b31682a-37e9-454a-a2b3-f3c44a7e0d66",
   "metadata": {
    "tags": []
   },
   "outputs": [],
   "source": [
    "agent.run(\"Report the total RWA and EAD per SEGMENT.\")"
   ]
  },
  {
   "cell_type": "code",
   "execution_count": null,
   "id": "2cebf1e3-c481-4d1e-9fdb-f6073a2bbd22",
   "metadata": {},
   "outputs": [],
   "source": []
  },
  {
   "cell_type": "markdown",
   "id": "261bf564-ea06-497e-bf03-9c071f60d8bc",
   "metadata": {},
   "source": [
    "#### New Try 2"
   ]
  },
  {
   "cell_type": "code",
   "execution_count": 1,
   "id": "c3057dfb-5f39-43c6-8332-13f93693c895",
   "metadata": {
    "execution": {
     "iopub.execute_input": "2023-08-02T15:03:31.875018Z",
     "iopub.status.busy": "2023-08-02T15:03:31.874594Z",
     "iopub.status.idle": "2023-08-02T15:03:33.923707Z",
     "shell.execute_reply": "2023-08-02T15:03:33.922993Z",
     "shell.execute_reply.started": "2023-08-02T15:03:31.874949Z"
    },
    "tags": []
   },
   "outputs": [],
   "source": [
    "from langchain.llms import OpenAI\n",
    "from langchain.chat_models import ChatOpenAI\n",
    "from langchain.sql_database import SQLDatabase\n",
    "from langchain_experimental.sql import SQLDatabaseChain\n",
    "from langchain.agents import initialize_agent, Tool\n",
    "from langchain.agents import load_tools\n",
    "from langchain.memory import ConversationBufferMemory\n",
    "\n",
    "from rw_formula import RW_Calc2"
   ]
  },
  {
   "cell_type": "code",
   "execution_count": 2,
   "id": "799e80ad-4d2e-4ded-8816-d198d6ceeead",
   "metadata": {
    "execution": {
     "iopub.execute_input": "2023-08-02T15:03:35.039169Z",
     "iopub.status.busy": "2023-08-02T15:03:35.038661Z",
     "iopub.status.idle": "2023-08-02T15:03:35.049731Z",
     "shell.execute_reply": "2023-08-02T15:03:35.049154Z",
     "shell.execute_reply.started": "2023-08-02T15:03:35.039141Z"
    },
    "tags": []
   },
   "outputs": [],
   "source": [
    "import os\n",
    "from dotenv import load_dotenv\n",
    "load_dotenv()\n",
    "OPENAI_API_KEY = os.getenv('OPENAI_API_KEY')"
   ]
  },
  {
   "cell_type": "code",
   "execution_count": 3,
   "id": "2a86fd68-00a1-4b1a-92af-1fec1778610c",
   "metadata": {
    "execution": {
     "iopub.execute_input": "2023-08-02T15:03:38.993752Z",
     "iopub.status.busy": "2023-08-02T15:03:38.993218Z",
     "iopub.status.idle": "2023-08-02T15:03:39.146990Z",
     "shell.execute_reply": "2023-08-02T15:03:39.146405Z",
     "shell.execute_reply.started": "2023-08-02T15:03:38.993708Z"
    },
    "tags": []
   },
   "outputs": [],
   "source": [
    "llm = OpenAI(temperature=0)\n",
    "# llm = ChatOpenAI(temperature=0, model=\"gpt-3.5-turbo-0613\")\n",
    "db = SQLDatabase.from_uri(\"sqlite:///./rwa_data.db\")\n",
    "db_chain = SQLDatabaseChain.from_llm(llm, db, verbose=True)\n",
    "tools = [\n",
    "    Tool(\n",
    "        name=\"risk weight calculator\",\n",
    "        func=RW_Calc2,\n",
    "        description=\n",
    "        \"\"\"calculates a loan risk weight give the argulamts: \n",
    "        Segment - Possible values are 'Bank', 'Corporate', and 'Retail'), \n",
    "        PD - Probability of Default\n",
    "        LGD - Loss Given Default\n",
    "        m - Remaining maturity of the loan in years\n",
    "        Large_Fin - If 'Y' the client is a Flag for Large Financial Institution, otherwise 'N'\n",
    "        size - size of the client in MEUR, usually this is the client's turnover\n",
    "        mortgage - If 'Y' the exposure is a mortgage loan, otherwise 'N'\n",
    "        revolving - If 'Y' the exposure is a revolving loan, otherwise 'N'\n",
    "        \"\"\"\n",
    "    ),     \n",
    "    Tool(\n",
    "        name=\"rwa_db\",\n",
    "        func=db_chain.run,\n",
    "        description=\"useful for quering a database\"\n",
    "    )\n",
    "]"
   ]
  },
  {
   "cell_type": "code",
   "execution_count": 4,
   "id": "db4186bc-3246-4506-b113-043c46fd212a",
   "metadata": {
    "execution": {
     "iopub.execute_input": "2023-08-02T15:03:40.982799Z",
     "iopub.status.busy": "2023-08-02T15:03:40.982397Z",
     "iopub.status.idle": "2023-08-02T15:03:40.986703Z",
     "shell.execute_reply": "2023-08-02T15:03:40.985891Z",
     "shell.execute_reply.started": "2023-08-02T15:03:40.982773Z"
    },
    "tags": []
   },
   "outputs": [],
   "source": [
    "memory = ConversationBufferMemory(memory_key=\"chat_history\")"
   ]
  },
  {
   "cell_type": "code",
   "execution_count": 5,
   "id": "7256bce6-329f-4e44-98a1-52675f6dc972",
   "metadata": {
    "execution": {
     "iopub.execute_input": "2023-08-02T15:03:42.773138Z",
     "iopub.status.busy": "2023-08-02T15:03:42.772720Z",
     "iopub.status.idle": "2023-08-02T15:03:42.777642Z",
     "shell.execute_reply": "2023-08-02T15:03:42.776823Z",
     "shell.execute_reply.started": "2023-08-02T15:03:42.773111Z"
    },
    "tags": []
   },
   "outputs": [],
   "source": [
    "agent = initialize_agent(\n",
    "    agent='conversational-react-description', \n",
    "    tools=tools, \n",
    "    llm=llm,\n",
    "    verbose=True,\n",
    "    max_iterations=3,\n",
    "    memory=memory,\n",
    "    handle_parsing_errors=True\n",
    ")"
   ]
  },
  {
   "cell_type": "code",
   "execution_count": 6,
   "id": "824be0ea-380f-43d0-8ec4-21cdae090c55",
   "metadata": {
    "execution": {
     "iopub.execute_input": "2023-08-02T15:03:44.102360Z",
     "iopub.status.busy": "2023-08-02T15:03:44.101972Z",
     "iopub.status.idle": "2023-08-02T15:04:04.214725Z",
     "shell.execute_reply": "2023-08-02T15:04:04.214025Z",
     "shell.execute_reply.started": "2023-08-02T15:03:44.102335Z"
    },
    "tags": []
   },
   "outputs": [
    {
     "name": "stdout",
     "output_type": "stream",
     "text": [
      "\n",
      "\n",
      "\u001b[1m> Entering new AgentExecutor chain...\u001b[0m\n",
      "\u001b[32;1m\u001b[1;3m\n",
      "Thought: Do I need to use a tool? Yes\n",
      "Action: rwa_db\n",
      "Action Input: Read the information for Client 'sfman997ux8036' in RWA_122022 table\u001b[0m\n",
      "\n",
      "\u001b[1m> Entering new SQLDatabaseChain chain...\u001b[0m\n",
      "Read the information for Client 'sfman997ux8036' in RWA_122022 table\n",
      "SQLQuery:\u001b[32;1m\u001b[1;3mSELECT \"CLIENT_NUMBER\", \"ACCOUNT_NUMBER\", \"PRODUCT\", \"STATUS\", \"SEGMENT\", \"EXPOSURE_DRAWN\", \"EXPOSURE_UNDRAWN\", \"EXPOSURE\", \"EAD\", \"EAD_COLL\", \"PD\", \"LGD\", \"SIZE\", \"MATURITY\", \"F_MORTGAGE\", \"F_REVOLVING\", \"F_LARGE_FIN\", \"RW\", \"RWA\" FROM \"RWA_122022\" WHERE \"CLIENT_NUMBER\" = 'sfman997ux8036' LIMIT 5;\u001b[0m\n",
      "SQLResult: \u001b[33;1m\u001b[1;3m[('sfman997ux8036', '1324710203qiph20', 'CREDIT_CARD', 'Performing', 'Retail', 0.0, 18728.13876, 18728.13876, 11004.65713, 0.0, 0.0246518, 0.3092, 42.58029755, 1.15616438, 'N', 'Y', 'N', 0.245013691, 2696.291657)]\u001b[0m\n",
      "Answer:\u001b[32;1m\u001b[1;3mThe information for Client 'sfman997ux8036' in RWA_122022 table is: CLIENT_NUMBER: sfman997ux8036, ACCOUNT_NUMBER: 1324710203qiph20, PRODUCT: CREDIT_CARD, STATUS: Performing, SEGMENT: Retail, EXPOSURE_DRAWN: 0.0, EXPOSURE_UNDRAWN: 18728.13876, EXPOSURE: 18728.13876, EAD: 11004.65713, EAD_COLL: 0.0, PD: 0.0246518, LGD: 0.3092, SIZE: 42.58029755, MATURITY: 1.15616438, F_MORTGAGE: N, F_REVOLVING: Y, F_LARGE_FIN: N, RW: 0.245013691, RWA: 2696.291657.\u001b[0m\n",
      "\u001b[1m> Finished chain.\u001b[0m\n",
      "\n",
      "Observation: \u001b[33;1m\u001b[1;3mThe information for Client 'sfman997ux8036' in RWA_122022 table is: CLIENT_NUMBER: sfman997ux8036, ACCOUNT_NUMBER: 1324710203qiph20, PRODUCT: CREDIT_CARD, STATUS: Performing, SEGMENT: Retail, EXPOSURE_DRAWN: 0.0, EXPOSURE_UNDRAWN: 18728.13876, EXPOSURE: 18728.13876, EAD: 11004.65713, EAD_COLL: 0.0, PD: 0.0246518, LGD: 0.3092, SIZE: 42.58029755, MATURITY: 1.15616438, F_MORTGAGE: N, F_REVOLVING: Y, F_LARGE_FIN: N, RW: 0.245013691, RWA: 2696.291657.\u001b[0m\n",
      "Thought:\u001b[32;1m\u001b[1;3m Do I need to use a tool? Yes\n",
      "Action: risk weight calculator\n",
      "Action Input: Segment: Retail, PD: 0.0493036, LGD: 0.3092, m: 1.15616438, Large_Fin: N, size: 42.58029755, mortgage: N, revolving: Y\u001b[0m\n",
      "Observation: \u001b[36;1m\u001b[1;3m0.3950618648985617\u001b[0m\n",
      "Thought:\u001b[32;1m\u001b[1;3m Do I need to use a tool? No\n",
      "AI: The risk weight for the given parameters is 0.3950618648985617.\u001b[0m\n",
      "\n",
      "\u001b[1m> Finished chain.\u001b[0m\n"
     ]
    },
    {
     "data": {
      "text/plain": [
       "'The risk weight for the given parameters is 0.3950618648985617.'"
      ]
     },
     "execution_count": 6,
     "metadata": {},
     "output_type": "execute_result"
    }
   ],
   "source": [
    "agent.run(\"Read the information for Client 'sfman997ux8036' in RWA_122022 table and then calculate the RW if PD doubles\")"
   ]
  },
  {
   "cell_type": "code",
   "execution_count": 57,
   "id": "ed67b055-4623-4548-9a64-d5fa1ddc4a3a",
   "metadata": {
    "execution": {
     "iopub.execute_input": "2023-08-02T14:51:47.270661Z",
     "iopub.status.busy": "2023-08-02T14:51:47.270249Z",
     "iopub.status.idle": "2023-08-02T14:51:47.274261Z",
     "shell.execute_reply": "2023-08-02T14:51:47.273518Z",
     "shell.execute_reply.started": "2023-08-02T14:51:47.270627Z"
    },
    "tags": []
   },
   "outputs": [],
   "source": [
    "Segment_s = 'Segment: Retail'"
   ]
  },
  {
   "cell_type": "code",
   "execution_count": 58,
   "id": "2f4648ad-5825-4204-ad30-a81980b265f1",
   "metadata": {
    "execution": {
     "iopub.execute_input": "2023-08-02T14:51:47.901046Z",
     "iopub.status.busy": "2023-08-02T14:51:47.900613Z",
     "iopub.status.idle": "2023-08-02T14:51:47.904828Z",
     "shell.execute_reply": "2023-08-02T14:51:47.904040Z",
     "shell.execute_reply.started": "2023-08-02T14:51:47.901017Z"
    },
    "tags": []
   },
   "outputs": [],
   "source": [
    "Segment = (Segment_s.split(\":\")[1].strip()).replace(\"'\", \"\")"
   ]
  },
  {
   "cell_type": "code",
   "execution_count": 59,
   "id": "feac4cf3-c021-46f1-99c4-8d9c5e64f684",
   "metadata": {
    "execution": {
     "iopub.execute_input": "2023-08-02T14:51:48.479161Z",
     "iopub.status.busy": "2023-08-02T14:51:48.478780Z",
     "iopub.status.idle": "2023-08-02T14:51:48.483574Z",
     "shell.execute_reply": "2023-08-02T14:51:48.482968Z",
     "shell.execute_reply.started": "2023-08-02T14:51:48.479134Z"
    },
    "tags": []
   },
   "outputs": [
    {
     "data": {
      "text/plain": [
       "'Retail'"
      ]
     },
     "execution_count": 59,
     "metadata": {},
     "output_type": "execute_result"
    }
   ],
   "source": [
    "Segment"
   ]
  },
  {
   "cell_type": "code",
   "execution_count": null,
   "id": "ba9c0d1f-c9cb-4839-9007-f8e63aea7a5d",
   "metadata": {
    "execution": {
     "iopub.status.busy": "2023-08-02T14:52:46.316347Z",
     "iopub.status.idle": "2023-08-02T14:52:46.316609Z",
     "shell.execute_reply": "2023-08-02T14:52:46.316494Z",
     "shell.execute_reply.started": "2023-08-02T14:52:46.316481Z"
    },
    "tags": []
   },
   "outputs": [],
   "source": [
    "# Action Input: Segment: Retail, PD: 0.0493036, LGD: 0.3092, m: 1.15616438, Large_Fin: N, size: 42.58029755, mortgage: N, revolving: Y"
   ]
  },
  {
   "cell_type": "code",
   "execution_count": null,
   "id": "c0f5934f-5652-4f2a-b8d6-6f4c93fc6684",
   "metadata": {},
   "outputs": [],
   "source": []
  },
  {
   "cell_type": "code",
   "execution_count": 65,
   "id": "4639754e-e24f-4b14-935d-285136e82c08",
   "metadata": {
    "execution": {
     "iopub.execute_input": "2023-08-02T14:54:02.362501Z",
     "iopub.status.busy": "2023-08-02T14:54:02.362110Z",
     "iopub.status.idle": "2023-08-02T14:54:02.365802Z",
     "shell.execute_reply": "2023-08-02T14:54:02.365063Z",
     "shell.execute_reply.started": "2023-08-02T14:54:02.362475Z"
    },
    "tags": []
   },
   "outputs": [],
   "source": [
    "# Action Input: Segment = 'Retail', PD = 0.0246518 * 2, LGD = 0.3092, m = 1.15616438, Large_Fin = 'N', size = 42.58029755, mortgage = 'N', revolving = 'Y'"
   ]
  },
  {
   "cell_type": "code",
   "execution_count": 75,
   "id": "2b7d3842-86d7-4784-aceb-490392ba6654",
   "metadata": {
    "execution": {
     "iopub.execute_input": "2023-08-02T14:59:19.927469Z",
     "iopub.status.busy": "2023-08-02T14:59:19.927059Z",
     "iopub.status.idle": "2023-08-02T14:59:19.931514Z",
     "shell.execute_reply": "2023-08-02T14:59:19.930689Z",
     "shell.execute_reply.started": "2023-08-02T14:59:19.927439Z"
    },
    "tags": []
   },
   "outputs": [],
   "source": [
    "a = (\"Segment: Retail, PD: 0.0493036, LGD: 0.3092, m: 1.15616438, Large_Fin: N, size: 42.58029755, mortgage: N, revolving: Y\").split(\",\")\n",
    "\n",
    "# Segment = (Segment_s.split(\"=\")[1].strip()).replace(\"'\", \"\")\n",
    "# PD = float(eval(PD_s.split(\"=\")[1].strip()))\n",
    "# LGD = float(eval(LGD_s.split(\"=\")[1].strip()))\n",
    "# m = float(eval(m_s.split(\"=\")[1].strip()))\n",
    "# Large_Fin = (Large_Fin_s.split(\"=\")[1].strip()).replace(\"'\", \"\")\n",
    "# size = float(eval(size_s.split(\"=\")[1].strip()))\n",
    "# mortgage = (mortgage_s.split(\"=\")[1].strip()).replace(\"'\", \"\")\n",
    "# revolving = (revolving_s.split(\"=\")[1].strip()).replace(\"'\", \"\")"
   ]
  },
  {
   "cell_type": "code",
   "execution_count": 76,
   "id": "0497f8b2-7aa6-40f9-b33d-6dc967e93798",
   "metadata": {
    "execution": {
     "iopub.execute_input": "2023-08-02T14:59:22.067454Z",
     "iopub.status.busy": "2023-08-02T14:59:22.067041Z",
     "iopub.status.idle": "2023-08-02T14:59:22.072591Z",
     "shell.execute_reply": "2023-08-02T14:59:22.071757Z",
     "shell.execute_reply.started": "2023-08-02T14:59:22.067427Z"
    }
   },
   "outputs": [
    {
     "data": {
      "text/plain": [
       "['Segment: Retail',\n",
       " ' PD: 0.0493036',\n",
       " ' LGD: 0.3092',\n",
       " ' m: 1.15616438',\n",
       " ' Large_Fin: N',\n",
       " ' size: 42.58029755',\n",
       " ' mortgage: N',\n",
       " ' revolving: Y']"
      ]
     },
     "execution_count": 76,
     "metadata": {},
     "output_type": "execute_result"
    }
   ],
   "source": [
    "a"
   ]
  },
  {
   "cell_type": "code",
   "execution_count": 85,
   "id": "d03ed595-5a88-4713-b9fe-498a11265edc",
   "metadata": {
    "execution": {
     "iopub.execute_input": "2023-08-02T15:01:31.604952Z",
     "iopub.status.busy": "2023-08-02T15:01:31.604558Z",
     "iopub.status.idle": "2023-08-02T15:01:31.610370Z",
     "shell.execute_reply": "2023-08-02T15:01:31.609450Z",
     "shell.execute_reply.started": "2023-08-02T15:01:31.604926Z"
    },
    "tags": []
   },
   "outputs": [
    {
     "data": {
      "text/plain": [
       "0.0493036"
      ]
     },
     "execution_count": 85,
     "metadata": {},
     "output_type": "execute_result"
    }
   ],
   "source": [
    "float(eval(a[1].split(\":\")[1].strip().replace(\"'\", \"\")))"
   ]
  },
  {
   "cell_type": "code",
   "execution_count": null,
   "id": "ddafae37-4664-4453-aefa-b6b1eb2a6cb4",
   "metadata": {},
   "outputs": [],
   "source": []
  },
  {
   "cell_type": "code",
   "execution_count": null,
   "id": "fcffacf2-b6f6-46de-aca1-f712c716ffbb",
   "metadata": {},
   "outputs": [],
   "source": []
  },
  {
   "cell_type": "code",
   "execution_count": null,
   "id": "0565a564-49ae-437c-ad60-6290eabd39bc",
   "metadata": {},
   "outputs": [],
   "source": []
  },
  {
   "cell_type": "code",
   "execution_count": null,
   "id": "bad7e076-159a-45e1-a11c-730d0d865089",
   "metadata": {},
   "outputs": [],
   "source": []
  },
  {
   "cell_type": "code",
   "execution_count": null,
   "id": "e8c3d8ef-cbfa-44c4-87ea-62f3338ced17",
   "metadata": {
    "execution": {
     "iopub.status.busy": "2023-08-02T14:52:46.314959Z",
     "iopub.status.idle": "2023-08-02T14:52:46.315232Z",
     "shell.execute_reply": "2023-08-02T14:52:46.315114Z",
     "shell.execute_reply.started": "2023-08-02T14:52:46.315101Z"
    },
    "tags": []
   },
   "outputs": [],
   "source": [
    "agent.run(\"What is the sum of all EXPOSURE in RWA_122022 for all ACCOUNT_NUMBER whose STATUS changed from Performing to Non Performing between RWA_122022 table and RWA_032023 table\")"
   ]
  },
  {
   "cell_type": "code",
   "execution_count": null,
   "id": "cc74b68e-ace1-4b2e-b3f7-5aca10772f55",
   "metadata": {},
   "outputs": [],
   "source": []
  },
  {
   "cell_type": "code",
   "execution_count": null,
   "id": "cb1cb603-145c-4e18-9cd7-817de08c0d10",
   "metadata": {},
   "outputs": [],
   "source": []
  },
  {
   "cell_type": "code",
   "execution_count": null,
   "id": "d3809ccd-0022-4d57-a004-cf4ba427b6e2",
   "metadata": {},
   "outputs": [],
   "source": []
  },
  {
   "cell_type": "code",
   "execution_count": null,
   "id": "5b45ad69-795f-45f7-a5ca-998d3bf93868",
   "metadata": {},
   "outputs": [],
   "source": []
  },
  {
   "cell_type": "code",
   "execution_count": 62,
   "id": "7d766ae1-4bce-4378-8713-31d8b4bb556e",
   "metadata": {
    "execution": {
     "iopub.execute_input": "2023-08-02T14:52:35.525049Z",
     "iopub.status.busy": "2023-08-02T14:52:35.524716Z",
     "iopub.status.idle": "2023-08-02T14:52:44.325577Z",
     "shell.execute_reply": "2023-08-02T14:52:44.324776Z",
     "shell.execute_reply.started": "2023-08-02T14:52:35.525028Z"
    },
    "tags": []
   },
   "outputs": [
    {
     "name": "stdout",
     "output_type": "stream",
     "text": [
      "\n",
      "\n",
      "\u001b[1m> Entering new AgentExecutor chain...\u001b[0m\n",
      "\u001b[32;1m\u001b[1;3m\n",
      "Thought: Do I need to use a tool? Yes\n",
      "Action: rwa_db\n",
      "Action Input: Report the all information for Client 'sfman997ux8036' in RWA_122022.\u001b[0m\n",
      "\n",
      "\u001b[1m> Entering new SQLDatabaseChain chain...\u001b[0m\n",
      "Report the all information for Client 'sfman997ux8036' in RWA_122022.\n",
      "SQLQuery:\u001b[32;1m\u001b[1;3mSELECT * FROM \"RWA_122022\" WHERE \"CLIENT_NUMBER\" = 'sfman997ux8036';\u001b[0m\n",
      "SQLResult: \u001b[33;1m\u001b[1;3m[('sfman997ux8036', '1324710203qiph20', 'CREDIT_CARD', 'Performing', 'Retail', 0.0, 18728.13876, 18728.13876, 11004.65713, 0.0, 0.0246518, 0.3092, 42.58029755, 1.15616438, 'N', 'Y', 'N', 0.245013691, 2696.291657)]\u001b[0m\n",
      "Answer:\u001b[32;1m\u001b[1;3mThe information for Client 'sfman997ux8036' in RWA_122022 is: CLIENT_NUMBER: sfman997ux8036, ACCOUNT_NUMBER: 1324710203qiph20, PRODUCT: CREDIT_CARD, STATUS: Performing, SEGMENT: Retail, EXPOSURE_DRAWN: 0.0, EXPOSURE_UNDRAWN: 18728.13876, EXPOSURE: 18728.13876, EAD: 11004.65713, EAD_COLL: 0.0, PD: 0.0246518, LGD: 0.3092, SIZE: 42.58029755, MATURITY: 1.15616438, F_MORTGAGE: N, F_REVOLVING: Y, F_LARGE_FIN: N, RW: 0.245013691, RWA: 2696.291657.\u001b[0m\n",
      "\u001b[1m> Finished chain.\u001b[0m\n",
      "\n",
      "Observation: \u001b[33;1m\u001b[1;3mThe information for Client 'sfman997ux8036' in RWA_122022 is: CLIENT_NUMBER: sfman997ux8036, ACCOUNT_NUMBER: 1324710203qiph20, PRODUCT: CREDIT_CARD, STATUS: Performing, SEGMENT: Retail, EXPOSURE_DRAWN: 0.0, EXPOSURE_UNDRAWN: 18728.13876, EXPOSURE: 18728.13876, EAD: 11004.65713, EAD_COLL: 0.0, PD: 0.0246518, LGD: 0.3092, SIZE: 42.58029755, MATURITY: 1.15616438, F_MORTGAGE: N, F_REVOLVING: Y, F_LARGE_FIN: N, RW: 0.245013691, RWA: 2696.291657.\u001b[0m\n",
      "Thought:\u001b[32;1m\u001b[1;3m Do I need to use a tool? No\n",
      "AI: Is there anything else I can help you with?\u001b[0m\n",
      "\n",
      "\u001b[1m> Finished chain.\u001b[0m\n"
     ]
    },
    {
     "data": {
      "text/plain": [
       "'Is there anything else I can help you with?'"
      ]
     },
     "execution_count": 62,
     "metadata": {},
     "output_type": "execute_result"
    }
   ],
   "source": [
    "agent.run(\"Report the all information for Client 'sfman997ux8036' in RWA_122022.\")"
   ]
  },
  {
   "cell_type": "code",
   "execution_count": 63,
   "id": "c2615d57-52a8-4984-a903-4704ef1a1da8",
   "metadata": {
    "execution": {
     "iopub.execute_input": "2023-08-02T14:52:44.327235Z",
     "iopub.status.busy": "2023-08-02T14:52:44.326821Z",
     "iopub.status.idle": "2023-08-02T14:52:46.312813Z",
     "shell.execute_reply": "2023-08-02T14:52:46.311700Z",
     "shell.execute_reply.started": "2023-08-02T14:52:44.327199Z"
    },
    "tags": []
   },
   "outputs": [
    {
     "name": "stdout",
     "output_type": "stream",
     "text": [
      "\n",
      "\n",
      "\u001b[1m> Entering new AgentExecutor chain...\u001b[0m\n",
      "\u001b[32;1m\u001b[1;3m\n",
      "Thought: Do I need to use a tool? Yes\n",
      "Action: risk weight calculator\n",
      "Action Input: Segment: Bank, PD: double, LGD: 0.5, m: 5, Large_Fin: N, size: 10, mortgage: N, revolving: N\u001b[0m"
     ]
    },
    {
     "ename": "TypeError",
     "evalue": "RW_Calc2() missing 7 required positional arguments: 'PD', 'LGD', 'm', 'Large_Fin', 'size', 'mortgage', and 'revolving'",
     "output_type": "error",
     "traceback": [
      "\u001b[0;31m---------------------------------------------------------------------------\u001b[0m",
      "\u001b[0;31mTypeError\u001b[0m                                 Traceback (most recent call last)",
      "Cell \u001b[0;32mIn [63], line 1\u001b[0m\n\u001b[0;32m----> 1\u001b[0m agent\u001b[38;5;241m.\u001b[39mrun(\u001b[38;5;124m\"\u001b[39m\u001b[38;5;124mCalculate and report the RW of Client \u001b[39m\u001b[38;5;124m'\u001b[39m\u001b[38;5;124msfman997ux8036\u001b[39m\u001b[38;5;124m'\u001b[39m\u001b[38;5;124m if the PD doubles.\u001b[39m\u001b[38;5;124m\"\u001b[39m)\n",
      "File \u001b[0;32m/opt/saturncloud/envs/saturn/lib/python3.9/site-packages/langchain/chains/base.py:451\u001b[0m, in \u001b[0;36mChain.run\u001b[0;34m(self, callbacks, tags, metadata, *args, **kwargs)\u001b[0m\n\u001b[1;32m    449\u001b[0m     \u001b[38;5;28;01mif\u001b[39;00m \u001b[38;5;28mlen\u001b[39m(args) \u001b[38;5;241m!=\u001b[39m \u001b[38;5;241m1\u001b[39m:\n\u001b[1;32m    450\u001b[0m         \u001b[38;5;28;01mraise\u001b[39;00m \u001b[38;5;167;01mValueError\u001b[39;00m(\u001b[38;5;124m\"\u001b[39m\u001b[38;5;124m`run` supports only one positional argument.\u001b[39m\u001b[38;5;124m\"\u001b[39m)\n\u001b[0;32m--> 451\u001b[0m     \u001b[38;5;28;01mreturn\u001b[39;00m \u001b[38;5;28;43mself\u001b[39;49m\u001b[43m(\u001b[49m\u001b[43margs\u001b[49m\u001b[43m[\u001b[49m\u001b[38;5;241;43m0\u001b[39;49m\u001b[43m]\u001b[49m\u001b[43m,\u001b[49m\u001b[43m \u001b[49m\u001b[43mcallbacks\u001b[49m\u001b[38;5;241;43m=\u001b[39;49m\u001b[43mcallbacks\u001b[49m\u001b[43m,\u001b[49m\u001b[43m \u001b[49m\u001b[43mtags\u001b[49m\u001b[38;5;241;43m=\u001b[39;49m\u001b[43mtags\u001b[49m\u001b[43m,\u001b[49m\u001b[43m \u001b[49m\u001b[43mmetadata\u001b[49m\u001b[38;5;241;43m=\u001b[39;49m\u001b[43mmetadata\u001b[49m\u001b[43m)\u001b[49m[\n\u001b[1;32m    452\u001b[0m         _output_key\n\u001b[1;32m    453\u001b[0m     ]\n\u001b[1;32m    455\u001b[0m \u001b[38;5;28;01mif\u001b[39;00m kwargs \u001b[38;5;129;01mand\u001b[39;00m \u001b[38;5;129;01mnot\u001b[39;00m args:\n\u001b[1;32m    456\u001b[0m     \u001b[38;5;28;01mreturn\u001b[39;00m \u001b[38;5;28mself\u001b[39m(kwargs, callbacks\u001b[38;5;241m=\u001b[39mcallbacks, tags\u001b[38;5;241m=\u001b[39mtags, metadata\u001b[38;5;241m=\u001b[39mmetadata)[\n\u001b[1;32m    457\u001b[0m         _output_key\n\u001b[1;32m    458\u001b[0m     ]\n",
      "File \u001b[0;32m/opt/saturncloud/envs/saturn/lib/python3.9/site-packages/langchain/chains/base.py:258\u001b[0m, in \u001b[0;36mChain.__call__\u001b[0;34m(self, inputs, return_only_outputs, callbacks, tags, metadata, include_run_info)\u001b[0m\n\u001b[1;32m    256\u001b[0m \u001b[38;5;28;01mexcept\u001b[39;00m (\u001b[38;5;167;01mKeyboardInterrupt\u001b[39;00m, \u001b[38;5;167;01mException\u001b[39;00m) \u001b[38;5;28;01mas\u001b[39;00m e:\n\u001b[1;32m    257\u001b[0m     run_manager\u001b[38;5;241m.\u001b[39mon_chain_error(e)\n\u001b[0;32m--> 258\u001b[0m     \u001b[38;5;28;01mraise\u001b[39;00m e\n\u001b[1;32m    259\u001b[0m run_manager\u001b[38;5;241m.\u001b[39mon_chain_end(outputs)\n\u001b[1;32m    260\u001b[0m final_outputs: Dict[\u001b[38;5;28mstr\u001b[39m, Any] \u001b[38;5;241m=\u001b[39m \u001b[38;5;28mself\u001b[39m\u001b[38;5;241m.\u001b[39mprep_outputs(\n\u001b[1;32m    261\u001b[0m     inputs, outputs, return_only_outputs\n\u001b[1;32m    262\u001b[0m )\n",
      "File \u001b[0;32m/opt/saturncloud/envs/saturn/lib/python3.9/site-packages/langchain/chains/base.py:252\u001b[0m, in \u001b[0;36mChain.__call__\u001b[0;34m(self, inputs, return_only_outputs, callbacks, tags, metadata, include_run_info)\u001b[0m\n\u001b[1;32m    246\u001b[0m run_manager \u001b[38;5;241m=\u001b[39m callback_manager\u001b[38;5;241m.\u001b[39mon_chain_start(\n\u001b[1;32m    247\u001b[0m     dumpd(\u001b[38;5;28mself\u001b[39m),\n\u001b[1;32m    248\u001b[0m     inputs,\n\u001b[1;32m    249\u001b[0m )\n\u001b[1;32m    250\u001b[0m \u001b[38;5;28;01mtry\u001b[39;00m:\n\u001b[1;32m    251\u001b[0m     outputs \u001b[38;5;241m=\u001b[39m (\n\u001b[0;32m--> 252\u001b[0m         \u001b[38;5;28;43mself\u001b[39;49m\u001b[38;5;241;43m.\u001b[39;49m\u001b[43m_call\u001b[49m\u001b[43m(\u001b[49m\u001b[43minputs\u001b[49m\u001b[43m,\u001b[49m\u001b[43m \u001b[49m\u001b[43mrun_manager\u001b[49m\u001b[38;5;241;43m=\u001b[39;49m\u001b[43mrun_manager\u001b[49m\u001b[43m)\u001b[49m\n\u001b[1;32m    253\u001b[0m         \u001b[38;5;28;01mif\u001b[39;00m new_arg_supported\n\u001b[1;32m    254\u001b[0m         \u001b[38;5;28;01melse\u001b[39;00m \u001b[38;5;28mself\u001b[39m\u001b[38;5;241m.\u001b[39m_call(inputs)\n\u001b[1;32m    255\u001b[0m     )\n\u001b[1;32m    256\u001b[0m \u001b[38;5;28;01mexcept\u001b[39;00m (\u001b[38;5;167;01mKeyboardInterrupt\u001b[39;00m, \u001b[38;5;167;01mException\u001b[39;00m) \u001b[38;5;28;01mas\u001b[39;00m e:\n\u001b[1;32m    257\u001b[0m     run_manager\u001b[38;5;241m.\u001b[39mon_chain_error(e)\n",
      "File \u001b[0;32m/opt/saturncloud/envs/saturn/lib/python3.9/site-packages/langchain/agents/agent.py:1029\u001b[0m, in \u001b[0;36mAgentExecutor._call\u001b[0;34m(self, inputs, run_manager)\u001b[0m\n\u001b[1;32m   1027\u001b[0m \u001b[38;5;66;03m# We now enter the agent loop (until it returns something).\u001b[39;00m\n\u001b[1;32m   1028\u001b[0m \u001b[38;5;28;01mwhile\u001b[39;00m \u001b[38;5;28mself\u001b[39m\u001b[38;5;241m.\u001b[39m_should_continue(iterations, time_elapsed):\n\u001b[0;32m-> 1029\u001b[0m     next_step_output \u001b[38;5;241m=\u001b[39m \u001b[38;5;28;43mself\u001b[39;49m\u001b[38;5;241;43m.\u001b[39;49m\u001b[43m_take_next_step\u001b[49m\u001b[43m(\u001b[49m\n\u001b[1;32m   1030\u001b[0m \u001b[43m        \u001b[49m\u001b[43mname_to_tool_map\u001b[49m\u001b[43m,\u001b[49m\n\u001b[1;32m   1031\u001b[0m \u001b[43m        \u001b[49m\u001b[43mcolor_mapping\u001b[49m\u001b[43m,\u001b[49m\n\u001b[1;32m   1032\u001b[0m \u001b[43m        \u001b[49m\u001b[43minputs\u001b[49m\u001b[43m,\u001b[49m\n\u001b[1;32m   1033\u001b[0m \u001b[43m        \u001b[49m\u001b[43mintermediate_steps\u001b[49m\u001b[43m,\u001b[49m\n\u001b[1;32m   1034\u001b[0m \u001b[43m        \u001b[49m\u001b[43mrun_manager\u001b[49m\u001b[38;5;241;43m=\u001b[39;49m\u001b[43mrun_manager\u001b[49m\u001b[43m,\u001b[49m\n\u001b[1;32m   1035\u001b[0m \u001b[43m    \u001b[49m\u001b[43m)\u001b[49m\n\u001b[1;32m   1036\u001b[0m     \u001b[38;5;28;01mif\u001b[39;00m \u001b[38;5;28misinstance\u001b[39m(next_step_output, AgentFinish):\n\u001b[1;32m   1037\u001b[0m         \u001b[38;5;28;01mreturn\u001b[39;00m \u001b[38;5;28mself\u001b[39m\u001b[38;5;241m.\u001b[39m_return(\n\u001b[1;32m   1038\u001b[0m             next_step_output, intermediate_steps, run_manager\u001b[38;5;241m=\u001b[39mrun_manager\n\u001b[1;32m   1039\u001b[0m         )\n",
      "File \u001b[0;32m/opt/saturncloud/envs/saturn/lib/python3.9/site-packages/langchain/agents/agent.py:890\u001b[0m, in \u001b[0;36mAgentExecutor._take_next_step\u001b[0;34m(self, name_to_tool_map, color_mapping, inputs, intermediate_steps, run_manager)\u001b[0m\n\u001b[1;32m    888\u001b[0m         tool_run_kwargs[\u001b[38;5;124m\"\u001b[39m\u001b[38;5;124mllm_prefix\u001b[39m\u001b[38;5;124m\"\u001b[39m] \u001b[38;5;241m=\u001b[39m \u001b[38;5;124m\"\u001b[39m\u001b[38;5;124m\"\u001b[39m\n\u001b[1;32m    889\u001b[0m     \u001b[38;5;66;03m# We then call the tool on the tool input to get an observation\u001b[39;00m\n\u001b[0;32m--> 890\u001b[0m     observation \u001b[38;5;241m=\u001b[39m \u001b[43mtool\u001b[49m\u001b[38;5;241;43m.\u001b[39;49m\u001b[43mrun\u001b[49m\u001b[43m(\u001b[49m\n\u001b[1;32m    891\u001b[0m \u001b[43m        \u001b[49m\u001b[43magent_action\u001b[49m\u001b[38;5;241;43m.\u001b[39;49m\u001b[43mtool_input\u001b[49m\u001b[43m,\u001b[49m\n\u001b[1;32m    892\u001b[0m \u001b[43m        \u001b[49m\u001b[43mverbose\u001b[49m\u001b[38;5;241;43m=\u001b[39;49m\u001b[38;5;28;43mself\u001b[39;49m\u001b[38;5;241;43m.\u001b[39;49m\u001b[43mverbose\u001b[49m\u001b[43m,\u001b[49m\n\u001b[1;32m    893\u001b[0m \u001b[43m        \u001b[49m\u001b[43mcolor\u001b[49m\u001b[38;5;241;43m=\u001b[39;49m\u001b[43mcolor\u001b[49m\u001b[43m,\u001b[49m\n\u001b[1;32m    894\u001b[0m \u001b[43m        \u001b[49m\u001b[43mcallbacks\u001b[49m\u001b[38;5;241;43m=\u001b[39;49m\u001b[43mrun_manager\u001b[49m\u001b[38;5;241;43m.\u001b[39;49m\u001b[43mget_child\u001b[49m\u001b[43m(\u001b[49m\u001b[43m)\u001b[49m\u001b[43m \u001b[49m\u001b[38;5;28;43;01mif\u001b[39;49;00m\u001b[43m \u001b[49m\u001b[43mrun_manager\u001b[49m\u001b[43m \u001b[49m\u001b[38;5;28;43;01melse\u001b[39;49;00m\u001b[43m \u001b[49m\u001b[38;5;28;43;01mNone\u001b[39;49;00m\u001b[43m,\u001b[49m\n\u001b[1;32m    895\u001b[0m \u001b[43m        \u001b[49m\u001b[38;5;241;43m*\u001b[39;49m\u001b[38;5;241;43m*\u001b[39;49m\u001b[43mtool_run_kwargs\u001b[49m\u001b[43m,\u001b[49m\n\u001b[1;32m    896\u001b[0m \u001b[43m    \u001b[49m\u001b[43m)\u001b[49m\n\u001b[1;32m    897\u001b[0m \u001b[38;5;28;01melse\u001b[39;00m:\n\u001b[1;32m    898\u001b[0m     tool_run_kwargs \u001b[38;5;241m=\u001b[39m \u001b[38;5;28mself\u001b[39m\u001b[38;5;241m.\u001b[39magent\u001b[38;5;241m.\u001b[39mtool_run_logging_kwargs()\n",
      "File \u001b[0;32m/opt/saturncloud/envs/saturn/lib/python3.9/site-packages/langchain/tools/base.py:349\u001b[0m, in \u001b[0;36mBaseTool.run\u001b[0;34m(self, tool_input, verbose, start_color, color, callbacks, tags, metadata, **kwargs)\u001b[0m\n\u001b[1;32m    347\u001b[0m \u001b[38;5;28;01mexcept\u001b[39;00m (\u001b[38;5;167;01mException\u001b[39;00m, \u001b[38;5;167;01mKeyboardInterrupt\u001b[39;00m) \u001b[38;5;28;01mas\u001b[39;00m e:\n\u001b[1;32m    348\u001b[0m     run_manager\u001b[38;5;241m.\u001b[39mon_tool_error(e)\n\u001b[0;32m--> 349\u001b[0m     \u001b[38;5;28;01mraise\u001b[39;00m e\n\u001b[1;32m    350\u001b[0m \u001b[38;5;28;01melse\u001b[39;00m:\n\u001b[1;32m    351\u001b[0m     run_manager\u001b[38;5;241m.\u001b[39mon_tool_end(\n\u001b[1;32m    352\u001b[0m         \u001b[38;5;28mstr\u001b[39m(observation), color\u001b[38;5;241m=\u001b[39mcolor, name\u001b[38;5;241m=\u001b[39m\u001b[38;5;28mself\u001b[39m\u001b[38;5;241m.\u001b[39mname, \u001b[38;5;241m*\u001b[39m\u001b[38;5;241m*\u001b[39mkwargs\n\u001b[1;32m    353\u001b[0m     )\n",
      "File \u001b[0;32m/opt/saturncloud/envs/saturn/lib/python3.9/site-packages/langchain/tools/base.py:321\u001b[0m, in \u001b[0;36mBaseTool.run\u001b[0;34m(self, tool_input, verbose, start_color, color, callbacks, tags, metadata, **kwargs)\u001b[0m\n\u001b[1;32m    318\u001b[0m \u001b[38;5;28;01mtry\u001b[39;00m:\n\u001b[1;32m    319\u001b[0m     tool_args, tool_kwargs \u001b[38;5;241m=\u001b[39m \u001b[38;5;28mself\u001b[39m\u001b[38;5;241m.\u001b[39m_to_args_and_kwargs(parsed_input)\n\u001b[1;32m    320\u001b[0m     observation \u001b[38;5;241m=\u001b[39m (\n\u001b[0;32m--> 321\u001b[0m         \u001b[38;5;28;43mself\u001b[39;49m\u001b[38;5;241;43m.\u001b[39;49m\u001b[43m_run\u001b[49m\u001b[43m(\u001b[49m\u001b[38;5;241;43m*\u001b[39;49m\u001b[43mtool_args\u001b[49m\u001b[43m,\u001b[49m\u001b[43m \u001b[49m\u001b[43mrun_manager\u001b[49m\u001b[38;5;241;43m=\u001b[39;49m\u001b[43mrun_manager\u001b[49m\u001b[43m,\u001b[49m\u001b[43m \u001b[49m\u001b[38;5;241;43m*\u001b[39;49m\u001b[38;5;241;43m*\u001b[39;49m\u001b[43mtool_kwargs\u001b[49m\u001b[43m)\u001b[49m\n\u001b[1;32m    322\u001b[0m         \u001b[38;5;28;01mif\u001b[39;00m new_arg_supported\n\u001b[1;32m    323\u001b[0m         \u001b[38;5;28;01melse\u001b[39;00m \u001b[38;5;28mself\u001b[39m\u001b[38;5;241m.\u001b[39m_run(\u001b[38;5;241m*\u001b[39mtool_args, \u001b[38;5;241m*\u001b[39m\u001b[38;5;241m*\u001b[39mtool_kwargs)\n\u001b[1;32m    324\u001b[0m     )\n\u001b[1;32m    325\u001b[0m \u001b[38;5;28;01mexcept\u001b[39;00m ToolException \u001b[38;5;28;01mas\u001b[39;00m e:\n\u001b[1;32m    326\u001b[0m     \u001b[38;5;28;01mif\u001b[39;00m \u001b[38;5;129;01mnot\u001b[39;00m \u001b[38;5;28mself\u001b[39m\u001b[38;5;241m.\u001b[39mhandle_tool_error:\n",
      "File \u001b[0;32m/opt/saturncloud/envs/saturn/lib/python3.9/site-packages/langchain/tools/base.py:497\u001b[0m, in \u001b[0;36mTool._run\u001b[0;34m(self, run_manager, *args, **kwargs)\u001b[0m\n\u001b[1;32m    488\u001b[0m \u001b[38;5;124;03m\"\"\"Use the tool.\"\"\"\u001b[39;00m\n\u001b[1;32m    489\u001b[0m new_argument_supported \u001b[38;5;241m=\u001b[39m signature(\u001b[38;5;28mself\u001b[39m\u001b[38;5;241m.\u001b[39mfunc)\u001b[38;5;241m.\u001b[39mparameters\u001b[38;5;241m.\u001b[39mget(\u001b[38;5;124m\"\u001b[39m\u001b[38;5;124mcallbacks\u001b[39m\u001b[38;5;124m\"\u001b[39m)\n\u001b[1;32m    490\u001b[0m \u001b[38;5;28;01mreturn\u001b[39;00m (\n\u001b[1;32m    491\u001b[0m     \u001b[38;5;28mself\u001b[39m\u001b[38;5;241m.\u001b[39mfunc(\n\u001b[1;32m    492\u001b[0m         \u001b[38;5;241m*\u001b[39margs,\n\u001b[1;32m    493\u001b[0m         callbacks\u001b[38;5;241m=\u001b[39mrun_manager\u001b[38;5;241m.\u001b[39mget_child() \u001b[38;5;28;01mif\u001b[39;00m run_manager \u001b[38;5;28;01melse\u001b[39;00m \u001b[38;5;28;01mNone\u001b[39;00m,\n\u001b[1;32m    494\u001b[0m         \u001b[38;5;241m*\u001b[39m\u001b[38;5;241m*\u001b[39mkwargs,\n\u001b[1;32m    495\u001b[0m     )\n\u001b[1;32m    496\u001b[0m     \u001b[38;5;28;01mif\u001b[39;00m new_argument_supported\n\u001b[0;32m--> 497\u001b[0m     \u001b[38;5;28;01melse\u001b[39;00m \u001b[38;5;28;43mself\u001b[39;49m\u001b[38;5;241;43m.\u001b[39;49m\u001b[43mfunc\u001b[49m\u001b[43m(\u001b[49m\u001b[38;5;241;43m*\u001b[39;49m\u001b[43margs\u001b[49m\u001b[43m,\u001b[49m\u001b[43m \u001b[49m\u001b[38;5;241;43m*\u001b[39;49m\u001b[38;5;241;43m*\u001b[39;49m\u001b[43mkwargs\u001b[49m\u001b[43m)\u001b[49m\n\u001b[1;32m    498\u001b[0m )\n",
      "\u001b[0;31mTypeError\u001b[0m: RW_Calc2() missing 7 required positional arguments: 'PD', 'LGD', 'm', 'Large_Fin', 'size', 'mortgage', and 'revolving'"
     ]
    }
   ],
   "source": [
    "agent.run(\"Calculate and report the RW of Client 'sfman997ux8036' if the PD doubles.\")"
   ]
  },
  {
   "cell_type": "code",
   "execution_count": null,
   "id": "4f93b01f-cb84-4d94-a399-8486f92eb43d",
   "metadata": {},
   "outputs": [],
   "source": []
  },
  {
   "cell_type": "code",
   "execution_count": null,
   "id": "2d5889be-fdf0-4f15-8e83-39a32b2c27ef",
   "metadata": {},
   "outputs": [],
   "source": []
  },
  {
   "cell_type": "code",
   "execution_count": null,
   "id": "532f2ef9-3bb9-41e0-92ee-6ade7d98a8ca",
   "metadata": {},
   "outputs": [],
   "source": []
  }
 ],
 "metadata": {
  "kernelspec": {
   "display_name": "saturn (Python 3)",
   "language": "python",
   "name": "python3"
  },
  "language_info": {
   "codemirror_mode": {
    "name": "ipython",
    "version": 3
   },
   "file_extension": ".py",
   "mimetype": "text/x-python",
   "name": "python",
   "nbconvert_exporter": "python",
   "pygments_lexer": "ipython3",
   "version": "3.9.13"
  }
 },
 "nbformat": 4,
 "nbformat_minor": 5
}
