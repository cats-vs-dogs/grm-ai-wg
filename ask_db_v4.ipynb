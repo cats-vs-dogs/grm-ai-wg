{
 "cells": [
  {
   "cell_type": "code",
   "execution_count": 1,
   "metadata": {
    "execution": {
     "iopub.execute_input": "2023-07-31T09:35:01.157244Z",
     "iopub.status.busy": "2023-07-31T09:35:01.156817Z",
     "iopub.status.idle": "2023-07-31T09:35:03.084966Z",
     "shell.execute_reply": "2023-07-31T09:35:03.084247Z",
     "shell.execute_reply.started": "2023-07-31T09:35:01.157172Z"
    },
    "tags": []
   },
   "outputs": [],
   "source": [
    "from langchain import SQLDatabase, SQLDatabaseChain\n",
    "from langchain.agents import initialize_agent, Tool\n",
    "from langchain.agents import AgentType\n",
    "from langchain.chat_models import ChatOpenAI\n",
    "\n",
    "from rw_formula import RW_Calc"
   ]
  },
  {
   "cell_type": "code",
   "execution_count": 2,
   "metadata": {
    "execution": {
     "iopub.execute_input": "2023-07-31T09:35:05.780837Z",
     "iopub.status.busy": "2023-07-31T09:35:05.780318Z",
     "iopub.status.idle": "2023-07-31T09:35:05.788421Z",
     "shell.execute_reply": "2023-07-31T09:35:05.787834Z",
     "shell.execute_reply.started": "2023-07-31T09:35:05.780810Z"
    },
    "tags": []
   },
   "outputs": [],
   "source": [
    "import os\n",
    "from dotenv import load_dotenv\n",
    "load_dotenv()\n",
    "OPENAI_API_KEY = os.getenv('OPENAI_API_KEY')"
   ]
  },
  {
   "cell_type": "code",
   "execution_count": 3,
   "metadata": {
    "execution": {
     "iopub.execute_input": "2023-07-31T09:35:06.914723Z",
     "iopub.status.busy": "2023-07-31T09:35:06.914323Z",
     "iopub.status.idle": "2023-07-31T09:35:06.949314Z",
     "shell.execute_reply": "2023-07-31T09:35:06.948680Z",
     "shell.execute_reply.started": "2023-07-31T09:35:06.914691Z"
    },
    "tags": []
   },
   "outputs": [],
   "source": [
    "llm = ChatOpenAI(temperature=0, model=\"gpt-3.5-turbo-0613\")\n",
    "db = SQLDatabase.from_uri(\"sqlite:///./rwa_data.db\")\n",
    "db_chain = SQLDatabaseChain.from_llm(llm, db, verbose=True)\n",
    "tools = [    \n",
    "    Tool(\n",
    "        name=\"rwa_db\",\n",
    "        func=db_chain.run,\n",
    "        description=\"useful for quering a database\"\n",
    "    )\n",
    "]"
   ]
  },
  {
   "cell_type": "code",
   "execution_count": 4,
   "metadata": {
    "execution": {
     "iopub.execute_input": "2023-07-31T09:35:08.085085Z",
     "iopub.status.busy": "2023-07-31T09:35:08.084693Z",
     "iopub.status.idle": "2023-07-31T09:35:08.089234Z",
     "shell.execute_reply": "2023-07-31T09:35:08.088456Z",
     "shell.execute_reply.started": "2023-07-31T09:35:08.085062Z"
    },
    "tags": []
   },
   "outputs": [],
   "source": [
    "agent = initialize_agent(\n",
    "    tools, \n",
    "    llm, \n",
    "    agent=\"zero-shot-react-description\", \n",
    "    verbose=False, \n",
    "    handle_parsing_errors=True\n",
    ")"
   ]
  },
  {
   "cell_type": "code",
   "execution_count": 5,
   "metadata": {
    "execution": {
     "iopub.execute_input": "2023-07-31T09:35:09.272690Z",
     "iopub.status.busy": "2023-07-31T09:35:09.272329Z",
     "iopub.status.idle": "2023-07-31T09:35:19.770302Z",
     "shell.execute_reply": "2023-07-31T09:35:19.769603Z",
     "shell.execute_reply.started": "2023-07-31T09:35:09.272667Z"
    },
    "tags": []
   },
   "outputs": [
    {
     "name": "stdout",
     "output_type": "stream",
     "text": [
      "\n",
      "\n",
      "\u001b[1m> Entering new  chain...\u001b[0m\n",
      "SELECT SEGMENT, SUM(RWA), SUM(EAD) FROM RWA_122022 GROUP BY SEGMENT\n",
      "SQLQuery:\u001b[32;1m\u001b[1;3mSELECT \"SEGMENT\", SUM(\"RWA\"), SUM(\"EAD\") FROM \"RWA_122022\" GROUP BY \"SEGMENT\"\u001b[0m\n",
      "SQLResult: \u001b[33;1m\u001b[1;3m[('Corporate', 85075812.12498187, 156657332.34921697), ('Retail', 37806680.90001285, 165698955.81288758)]\u001b[0m\n",
      "Answer:\u001b[32;1m\u001b[1;3mSegment: Corporate\n",
      "Total RWA: 85,075,812.12\n",
      "Total EAD: 156,657,332.35\n",
      "\n",
      "Segment: Retail\n",
      "Total RWA: 37,806,680.90\n",
      "Total EAD: 165,698,955.81\u001b[0m\n",
      "\u001b[1m> Finished chain.\u001b[0m\n"
     ]
    },
    {
     "data": {
      "text/plain": [
       "'The total RWA and EAD per segment from the RWA_122022 table are as follows:\\n- Segment: Corporate\\n  Total RWA: 85,075,812.12\\n  Total EAD: 156,657,332.35\\n- Segment: Retail\\n  Total RWA: 37,806,680.90\\n  Total EAD: 165,698,955.81'"
      ]
     },
     "execution_count": 5,
     "metadata": {},
     "output_type": "execute_result"
    }
   ],
   "source": [
    "agent.run(\"Report the total RWA and EAD per SEGMENT from RWA_122022 table\")"
   ]
  },
  {
   "cell_type": "code",
   "execution_count": 6,
   "metadata": {
    "execution": {
     "iopub.execute_input": "2023-07-31T09:35:22.174237Z",
     "iopub.status.busy": "2023-07-31T09:35:22.173706Z",
     "iopub.status.idle": "2023-07-31T09:35:41.952097Z",
     "shell.execute_reply": "2023-07-31T09:35:41.951261Z",
     "shell.execute_reply.started": "2023-07-31T09:35:22.174201Z"
    },
    "tags": []
   },
   "outputs": [
    {
     "name": "stdout",
     "output_type": "stream",
     "text": [
      "\n",
      "\n",
      "\u001b[1m> Entering new  chain...\u001b[0m\n",
      "SELECT ACCOUNT_NUMBER FROM RWA_122022 WHERE STATUS = 'Performing' AND ACCOUNT_NUMBER IN (SELECT ACCOUNT_NUMBER FROM RWA_032023 WHERE STATUS = 'Non Performing')\n",
      "SQLQuery:\u001b[32;1m\u001b[1;3mSELECT \"ACCOUNT_NUMBER\" FROM \"RWA_122022\" WHERE \"STATUS\" = 'Performing' AND \"ACCOUNT_NUMBER\" IN (SELECT \"ACCOUNT_NUMBER\" FROM \"RWA_032023\" WHERE \"STATUS\" = 'Non Performing')\u001b[0m\n",
      "SQLResult: \u001b[33;1m\u001b[1;3m[('9949846894mqqb38',), ('8589346566omjm76',), ('3939009254tfzg85',), ('6572063347hjeb20',), ('8888826809jvcg55',), ('2495047535ewfk71',), ('3327992248wyhg31',), ('4271177801gmpp50',), ('4659898429miyb20',), ('4712033057jwab19',), ('9960431785dctn31',), ('2129961401ercj54',)]\u001b[0m\n",
      "Answer:\u001b[32;1m\u001b[1;3mThere are 12 account numbers in the RWA_122022 table that have a status of 'Performing' and are also present in the RWA_032023 table with a status of 'Non Performing'.\u001b[0m\n",
      "\u001b[1m> Finished chain.\u001b[0m\n",
      "\n",
      "\n",
      "\u001b[1m> Entering new  chain...\u001b[0m\n",
      "SELECT SUM(EXPOSURE) FROM RWA_122022 WHERE ACCOUNT_NUMBER IN (SELECT ACCOUNT_NUMBER FROM RWA_122022 WHERE STATUS = 'Performing' AND ACCOUNT_NUMBER IN (SELECT ACCOUNT_NUMBER FROM RWA_032023 WHERE STATUS = 'Non Performing'))\n",
      "SQLQuery:\u001b[32;1m\u001b[1;3mSELECT SUM(\"EXPOSURE\") FROM \"RWA_122022\" WHERE \"ACCOUNT_NUMBER\" IN (SELECT \"ACCOUNT_NUMBER\" FROM \"RWA_122022\" WHERE \"STATUS\" = 'Performing' AND \"ACCOUNT_NUMBER\" IN (SELECT \"ACCOUNT_NUMBER\" FROM \"RWA_032023\" WHERE \"STATUS\" = 'Non Performing'))\u001b[0m\n",
      "SQLResult: \u001b[33;1m\u001b[1;3m[(575151.3173016,)]\u001b[0m\n",
      "Answer:\u001b[32;1m\u001b[1;3m575151.3173016\u001b[0m\n",
      "\u001b[1m> Finished chain.\u001b[0m\n"
     ]
    },
    {
     "data": {
      "text/plain": [
       "'The sum of all EXPOSURE in RWA_122022 for all ACCOUNT_NUMBER whose STATUS changed from Performing to Non Performing between RWA_122022 table and RWA_032023 table is 575151.3173016.'"
      ]
     },
     "execution_count": 6,
     "metadata": {},
     "output_type": "execute_result"
    }
   ],
   "source": [
    "agent.run(\"What is the sum of all EXPOSURE in RWA_122022 for all ACCOUNT_NUMBER whose STATUS changed from Performing to Non Performing between RWA_122022 table and RWA_032023 table\")"
   ]
  },
  {
   "cell_type": "code",
   "execution_count": null,
   "metadata": {},
   "outputs": [],
   "source": []
  },
  {
   "cell_type": "code",
   "execution_count": 7,
   "metadata": {
    "execution": {
     "iopub.execute_input": "2023-07-31T09:35:43.222539Z",
     "iopub.status.busy": "2023-07-31T09:35:43.222177Z",
     "iopub.status.idle": "2023-07-31T09:35:43.234019Z",
     "shell.execute_reply": "2023-07-31T09:35:43.233340Z",
     "shell.execute_reply.started": "2023-07-31T09:35:43.222515Z"
    }
   },
   "outputs": [],
   "source": [
    "llm = ChatOpenAI(temperature=0, model=\"gpt-3.5-turbo-0613\")\n",
    "db = SQLDatabase.from_uri(\"sqlite:///./rwa_data.db\")\n",
    "db_chain = SQLDatabaseChain.from_llm(llm, db, verbose=True)\n",
    "tools = [\n",
    "    Tool(\n",
    "        name=\"risk weight calculator\",\n",
    "        func=RW_Calc,\n",
    "        description=\n",
    "        \"\"\"calculates a loan risk weight give the argulamts: \n",
    "        Segment - Possible values are 'Bank', 'Corporate', and 'Retail'), \n",
    "        PD - Probability of Default\n",
    "        LGD - Loss Given Default\n",
    "        m - Remaining maturity of the loan in years\n",
    "        Large_Fin - If 'Y' the client is a Flag for Large Financial Institution, otherwise 'N'\n",
    "        size - size of the client in MEUR, usually this is the client's turnover\n",
    "        mortgage - If 'Y' the exposure is a mortgage loan, otherwise 'N'\n",
    "        revolving - If 'Y' the exposure is a revolving loan, otherwise 'N'\n",
    "        \"\"\"\n",
    "    ),    \n",
    "    Tool(\n",
    "        name=\"rwa_db\",\n",
    "        func=db_chain.run,\n",
    "        description=\"useful for quering a database\"\n",
    "    )\n",
    "]"
   ]
  },
  {
   "cell_type": "code",
   "execution_count": 8,
   "metadata": {
    "execution": {
     "iopub.execute_input": "2023-07-31T09:35:45.484630Z",
     "iopub.status.busy": "2023-07-31T09:35:45.484269Z",
     "iopub.status.idle": "2023-07-31T09:35:45.488486Z",
     "shell.execute_reply": "2023-07-31T09:35:45.487835Z",
     "shell.execute_reply.started": "2023-07-31T09:35:45.484606Z"
    }
   },
   "outputs": [],
   "source": [
    "agent = initialize_agent(\n",
    "    tools, \n",
    "    llm, \n",
    "    agent=\"zero-shot-react-description\", \n",
    "    verbose=False, \n",
    "    handle_parsing_errors=True\n",
    ")"
   ]
  },
  {
   "cell_type": "code",
   "execution_count": 9,
   "metadata": {
    "execution": {
     "iopub.execute_input": "2023-07-31T09:35:47.973763Z",
     "iopub.status.busy": "2023-07-31T09:35:47.973378Z",
     "iopub.status.idle": "2023-07-31T09:36:05.175614Z",
     "shell.execute_reply": "2023-07-31T09:36:05.174821Z",
     "shell.execute_reply.started": "2023-07-31T09:35:47.973738Z"
    }
   },
   "outputs": [
    {
     "name": "stdout",
     "output_type": "stream",
     "text": [
      "\n",
      "\n",
      "\u001b[1m> Entering new  chain...\u001b[0m\n",
      "SELECT * FROM RWA_122022 WHERE Client = 'sfman997ux8036'\n",
      "SQLQuery:\u001b[32;1m\u001b[1;3mSELECT * FROM RWA_122022 WHERE CLIENT_NUMBER = 'sfman997ux8036'\u001b[0m\n",
      "SQLResult: \u001b[33;1m\u001b[1;3m[('sfman997ux8036', '1324710203qiph20', 'CREDIT_CARD', 'Performing', 'Retail', 0.0, 18728.13876, 18728.13876, 11004.65713, 0.0, 0.0246518, 0.3092, 42.58029755, 1.15616438, 'N', 'Y', 'N', 0.245013691, 2696.291657)]\u001b[0m\n",
      "Answer:\u001b[32;1m\u001b[1;3mCLIENT_NUMBER: sfman997ux8036\n",
      "ACCOUNT_NUMBER: 1324710203qiph20\n",
      "PRODUCT: CREDIT_CARD\n",
      "STATUS: Performing\n",
      "SEGMENT: Retail\n",
      "EXPOSURE_DRAWN: 0.0\n",
      "EXPOSURE_UNDRAWN: 18728.13876\n",
      "EXPOSURE: 18728.13876\n",
      "EAD: 11004.65713\n",
      "EAD_COLL: 0.0\n",
      "PD: 0.0246518\n",
      "LGD: 0.3092\n",
      "SIZE: 42.58029755\n",
      "MATURITY: 1.15616438\n",
      "F_MORTGAGE: N\n",
      "F_REVOLVING: Y\n",
      "F_LARGE_FIN: N\n",
      "RW: 0.245013691\n",
      "RWA: 2696.291657\u001b[0m\n",
      "\u001b[1m> Finished chain.\u001b[0m\n"
     ]
    },
    {
     "data": {
      "text/plain": [
       "'0.3950618648985617'"
      ]
     },
     "execution_count": 9,
     "metadata": {},
     "output_type": "execute_result"
    }
   ],
   "source": [
    "agent.run(\"Read the information for Client 'sfman997ux8036' in RWA_122022 table and then calculate the RW if PD doubles\")"
   ]
  },
  {
   "cell_type": "code",
   "execution_count": null,
   "metadata": {},
   "outputs": [],
   "source": []
  }
 ],
 "metadata": {
  "kernelspec": {
   "display_name": "saturn (Python 3)",
   "language": "python",
   "name": "python3"
  },
  "language_info": {
   "codemirror_mode": {
    "name": "ipython",
    "version": 3
   },
   "file_extension": ".py",
   "mimetype": "text/x-python",
   "name": "python",
   "nbconvert_exporter": "python",
   "pygments_lexer": "ipython3",
   "version": "3.9.13"
  }
 },
 "nbformat": 4,
 "nbformat_minor": 4
}
