{
 "cells": [
  {
   "cell_type": "markdown",
   "metadata": {},
   "source": [
    "##### SQL Agent - Talking to the DB"
   ]
  },
  {
   "cell_type": "code",
   "execution_count": 1,
   "metadata": {
    "execution": {
     "iopub.execute_input": "2023-07-25T20:57:29.001293Z",
     "iopub.status.busy": "2023-07-25T20:57:29.000893Z",
     "iopub.status.idle": "2023-07-25T20:57:30.720468Z",
     "shell.execute_reply": "2023-07-25T20:57:30.719599Z",
     "shell.execute_reply.started": "2023-07-25T20:57:29.001225Z"
    },
    "tags": []
   },
   "outputs": [],
   "source": [
    "from langchain.agents import create_sql_agent\n",
    "from langchain.agents.agent_toolkits import SQLDatabaseToolkit\n",
    "from langchain.sql_database import SQLDatabase\n",
    "from langchain.llms.openai import OpenAI"
   ]
  },
  {
   "cell_type": "code",
   "execution_count": 2,
   "metadata": {
    "execution": {
     "iopub.execute_input": "2023-07-25T20:57:37.006319Z",
     "iopub.status.busy": "2023-07-25T20:57:37.005843Z",
     "iopub.status.idle": "2023-07-25T20:57:37.014550Z",
     "shell.execute_reply": "2023-07-25T20:57:37.013870Z",
     "shell.execute_reply.started": "2023-07-25T20:57:37.006291Z"
    },
    "tags": []
   },
   "outputs": [],
   "source": [
    "import os\n",
    "from dotenv import load_dotenv\n",
    "load_dotenv()\n",
    "OPENAI_API_KEY = os.getenv('OPENAI_API_KEY')"
   ]
  },
  {
   "cell_type": "code",
   "execution_count": 3,
   "metadata": {
    "execution": {
     "iopub.execute_input": "2023-07-25T20:57:38.313880Z",
     "iopub.status.busy": "2023-07-25T20:57:38.313272Z",
     "iopub.status.idle": "2023-07-25T20:57:38.342053Z",
     "shell.execute_reply": "2023-07-25T20:57:38.341414Z",
     "shell.execute_reply.started": "2023-07-25T20:57:38.313853Z"
    },
    "tags": []
   },
   "outputs": [],
   "source": [
    "llm=OpenAI(temperature=0)\n",
    "db = SQLDatabase.from_uri(\"sqlite:///./rwa_data.db\")\n",
    "toolkit = SQLDatabaseToolkit(db=db, llm=llm)"
   ]
  },
  {
   "cell_type": "code",
   "execution_count": 4,
   "metadata": {
    "execution": {
     "iopub.execute_input": "2023-07-25T20:57:39.267486Z",
     "iopub.status.busy": "2023-07-25T20:57:39.267107Z",
     "iopub.status.idle": "2023-07-25T20:57:39.272022Z",
     "shell.execute_reply": "2023-07-25T20:57:39.271301Z",
     "shell.execute_reply.started": "2023-07-25T20:57:39.267462Z"
    },
    "tags": []
   },
   "outputs": [],
   "source": [
    "agent_executor = create_sql_agent(\n",
    "    llm=OpenAI(temperature=0),\n",
    "    toolkit=toolkit,\n",
    "    verbose=False # use verbose=True for detailed step-by-step output\n",
    ")"
   ]
  },
  {
   "cell_type": "code",
   "execution_count": 5,
   "metadata": {
    "execution": {
     "iopub.execute_input": "2023-07-25T20:57:50.414895Z",
     "iopub.status.busy": "2023-07-25T20:57:50.414314Z",
     "iopub.status.idle": "2023-07-25T20:58:00.824016Z",
     "shell.execute_reply": "2023-07-25T20:58:00.823170Z",
     "shell.execute_reply.started": "2023-07-25T20:57:50.414866Z"
    },
    "tags": []
   },
   "outputs": [
    {
     "data": {
      "text/plain": [
       "'The total RWA and EAD per SEGMENT in the RWA_122022 table are: Corporate: 85075812.12498187 RWA, 156657332.34921697 EAD; Retail: 37806680.90001285 RWA, 165698955.81288758 EAD.'"
      ]
     },
     "execution_count": 5,
     "metadata": {},
     "output_type": "execute_result"
    }
   ],
   "source": [
    "agent_executor.run(\"What is the total RWA and EAD per SEGMENT in the RWA_122022 table\")"
   ]
  },
  {
   "cell_type": "code",
   "execution_count": 6,
   "metadata": {
    "execution": {
     "iopub.execute_input": "2023-07-25T20:58:05.670954Z",
     "iopub.status.busy": "2023-07-25T20:58:05.670582Z",
     "iopub.status.idle": "2023-07-25T20:58:46.106213Z",
     "shell.execute_reply": "2023-07-25T20:58:46.105524Z",
     "shell.execute_reply.started": "2023-07-25T20:58:05.670927Z"
    },
    "tags": []
   },
   "outputs": [
    {
     "data": {
      "text/plain": [
       "'The total EXPOSURE of all clients that changed their STATUS from Performing to Non Performing between RWA_122022 table and RWA_032023 table is 1,845,945.45.'"
      ]
     },
     "execution_count": 6,
     "metadata": {},
     "output_type": "execute_result"
    }
   ],
   "source": [
    "agent_executor.run(\"What is the total EXPOSURE of all clients that changed their STATUS from Performing to Non Performing between RWA_122022 table and RWA_032023 table\")"
   ]
  },
  {
   "cell_type": "code",
   "execution_count": 7,
   "metadata": {
    "execution": {
     "iopub.execute_input": "2023-07-25T20:58:48.547263Z",
     "iopub.status.busy": "2023-07-25T20:58:48.546868Z",
     "iopub.status.idle": "2023-07-25T20:58:48.550818Z",
     "shell.execute_reply": "2023-07-25T20:58:48.549982Z",
     "shell.execute_reply.started": "2023-07-25T20:58:48.547238Z"
    },
    "tags": []
   },
   "outputs": [],
   "source": [
    "# agent_executor.run(\"What is the EXPOSURE of Client 'sfman997ux8036' in RWA_122022 table\")"
   ]
  },
  {
   "cell_type": "code",
   "execution_count": 8,
   "metadata": {
    "execution": {
     "iopub.execute_input": "2023-07-25T20:58:49.432211Z",
     "iopub.status.busy": "2023-07-25T20:58:49.431828Z",
     "iopub.status.idle": "2023-07-25T20:58:58.663627Z",
     "shell.execute_reply": "2023-07-25T20:58:58.663018Z",
     "shell.execute_reply.started": "2023-07-25T20:58:49.432186Z"
    },
    "tags": []
   },
   "outputs": [],
   "source": [
    "client = agent_executor.run(\"Read all the information for Client 'sfman997ux8036' in RWA_122022 table and output it in json format\")"
   ]
  },
  {
   "cell_type": "code",
   "execution_count": 9,
   "metadata": {
    "execution": {
     "iopub.execute_input": "2023-07-25T20:59:01.161389Z",
     "iopub.status.busy": "2023-07-25T20:59:01.160993Z",
     "iopub.status.idle": "2023-07-25T20:59:01.166354Z",
     "shell.execute_reply": "2023-07-25T20:59:01.165550Z",
     "shell.execute_reply.started": "2023-07-25T20:59:01.161364Z"
    },
    "tags": []
   },
   "outputs": [
    {
     "data": {
      "text/plain": [
       "'[{\"CLIENT_NUMBER\": \"sfman997ux8036\", \"ACCOUNT_NUMBER\": \"1324710203qiph20\", \"PRODUCT\": \"CREDIT_CARD\", \"STATUS\": \"Performing\", \"SEGMENT\": \"Retail\", \"EXPOSURE_DRAWN\": 0.0, \"EXPOSURE_UNDRAWN\": 18728.13876, \"EXPOSURE\": 18728.13876, \"EAD\": 11004.65713, \"EAD_COLL\": 0.0, \"PD\": 0.0246518, \"LGD\": 0.3092, \"SIZE\": 42.58029755, \"MATURITY\": 1.15616438, \"F_MORTGAGE\": \"N\", \"F_REVOLVING\": \"Y\", \"F_LARGE_FIN\": \"N\", \"RW\": 0.245013691, \"RWA\": 2696.291657}]'"
      ]
     },
     "execution_count": 9,
     "metadata": {},
     "output_type": "execute_result"
    }
   ],
   "source": [
    "client"
   ]
  },
  {
   "cell_type": "markdown",
   "metadata": {},
   "source": [
    "##### Function calling"
   ]
  },
  {
   "cell_type": "markdown",
   "metadata": {},
   "source": [
    "##### Custom function calling"
   ]
  },
  {
   "cell_type": "code",
   "execution_count": 10,
   "metadata": {
    "execution": {
     "iopub.execute_input": "2023-07-25T20:59:05.182146Z",
     "iopub.status.busy": "2023-07-25T20:59:05.181749Z",
     "iopub.status.idle": "2023-07-25T20:59:06.391371Z",
     "shell.execute_reply": "2023-07-25T20:59:06.390685Z",
     "shell.execute_reply.started": "2023-07-25T20:59:05.182119Z"
    },
    "tags": []
   },
   "outputs": [],
   "source": [
    "from langchain.agents import initialize_agent\n",
    "from langchain.llms import OpenAI\n",
    "from langchain import LLMChain\n",
    "from langchain.prompts import PromptTemplate\n",
    "from langchain.agents import Tool\n",
    "\n",
    "from rw_formula import RW_Calc"
   ]
  },
  {
   "cell_type": "code",
   "execution_count": 11,
   "metadata": {
    "execution": {
     "iopub.execute_input": "2023-07-25T20:59:07.239141Z",
     "iopub.status.busy": "2023-07-25T20:59:07.238607Z",
     "iopub.status.idle": "2023-07-25T20:59:07.245288Z",
     "shell.execute_reply": "2023-07-25T20:59:07.244399Z",
     "shell.execute_reply.started": "2023-07-25T20:59:07.239112Z"
    },
    "tags": []
   },
   "outputs": [],
   "source": [
    "llm = OpenAI(temperature=0)\n",
    "\n",
    "prompt = PromptTemplate(\n",
    "    input_variables=['client'],\n",
    "    template=\"what is the RW if the PD of {client} doubles\"\n",
    ")\n",
    "\n",
    "llm_rw_chain = LLMChain(\n",
    "    llm=llm,\n",
    "    prompt=prompt,\n",
    "    verbose=True\n",
    ")\n",
    "\n",
    "RW = Tool(\n",
    "    name=\"risk weight calculator\",\n",
    "    func=RW_Calc,\n",
    "    description=\n",
    "    \"\"\"calculates a loan risk weight give the argulamts: \n",
    "        Segment - Possible values are 'Bank', 'Corporate', and 'Retail'), \n",
    "        PD - Probability of Default\n",
    "        LGD - Loss Given Default\n",
    "        m - Remaining maturity of the loan in years\n",
    "        Large_Fin - If 'Y' the client is a Flag for Large Financial Institution, otherwise 'N'\n",
    "        size - size of the client in MEUR, usually this is the client's turnover\n",
    "        mortgage - If 'Y' the exposure is a mortgage loan, otherwise 'N'\n",
    "        revolving - If 'Y' the exposure is a revolving loan, otherwise 'N'\n",
    "        \"\"\"\n",
    ")\n",
    "\n",
    "tools = [RW]\n",
    "\n",
    "agent = initialize_agent(\n",
    "    tools,\n",
    "    llm,\n",
    "    agent=\"zero-shot-react-description\",\n",
    "    verbose=False\n",
    ")"
   ]
  },
  {
   "cell_type": "code",
   "execution_count": 12,
   "metadata": {
    "execution": {
     "iopub.execute_input": "2023-07-25T20:59:15.304330Z",
     "iopub.status.busy": "2023-07-25T20:59:15.303956Z",
     "iopub.status.idle": "2023-07-25T20:59:18.625171Z",
     "shell.execute_reply": "2023-07-25T20:59:18.624436Z",
     "shell.execute_reply.started": "2023-07-25T20:59:15.304302Z"
    },
    "tags": []
   },
   "outputs": [
    {
     "data": {
      "text/plain": [
       "'0.3950618648985617'"
      ]
     },
     "execution_count": 12,
     "metadata": {},
     "output_type": "execute_result"
    }
   ],
   "source": [
    "agent.run(f\"for the client information in {client} what is the RW if PD doubles\")"
   ]
  },
  {
   "cell_type": "code",
   "execution_count": null,
   "metadata": {},
   "outputs": [],
   "source": []
  }
 ],
 "metadata": {
  "kernelspec": {
   "display_name": "saturn (Python 3)",
   "language": "python",
   "name": "python3"
  },
  "language_info": {
   "codemirror_mode": {
    "name": "ipython",
    "version": 3
   },
   "file_extension": ".py",
   "mimetype": "text/x-python",
   "name": "python",
   "nbconvert_exporter": "python",
   "pygments_lexer": "ipython3",
   "version": "3.9.13"
  }
 },
 "nbformat": 4,
 "nbformat_minor": 4
}
