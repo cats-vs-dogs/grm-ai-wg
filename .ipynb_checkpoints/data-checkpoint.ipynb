{
 "cells": [
  {
   "cell_type": "code",
   "execution_count": 2,
   "id": "88904a73-1c35-4ce2-af53-ce8088aef872",
   "metadata": {
    "execution": {
     "iopub.execute_input": "2023-07-26T07:43:03.168383Z",
     "iopub.status.busy": "2023-07-26T07:43:03.167995Z",
     "iopub.status.idle": "2023-07-26T07:43:03.493041Z",
     "shell.execute_reply": "2023-07-26T07:43:03.492319Z",
     "shell.execute_reply.started": "2023-07-26T07:43:03.168357Z"
    },
    "tags": []
   },
   "outputs": [],
   "source": [
    "import sqlite3\n",
    "import pandas as pd"
   ]
  },
  {
   "cell_type": "code",
   "execution_count": 5,
   "id": "87ee4bb6-61b3-40ac-a416-06efef250590",
   "metadata": {
    "execution": {
     "iopub.execute_input": "2023-07-26T07:45:18.307345Z",
     "iopub.status.busy": "2023-07-26T07:45:18.306957Z",
     "iopub.status.idle": "2023-07-26T07:45:18.311049Z",
     "shell.execute_reply": "2023-07-26T07:45:18.310304Z",
     "shell.execute_reply.started": "2023-07-26T07:45:18.307317Z"
    },
    "tags": []
   },
   "outputs": [],
   "source": [
    "conn = sqlite3.connect('rwa_data.db')\n",
    "c = conn.cursor()"
   ]
  },
  {
   "cell_type": "code",
   "execution_count": 13,
   "id": "f26160e4-a5b7-4cdc-98f9-02a1a593622c",
   "metadata": {
    "execution": {
     "iopub.execute_input": "2023-07-26T07:48:27.308668Z",
     "iopub.status.busy": "2023-07-26T07:48:27.308289Z",
     "iopub.status.idle": "2023-07-26T07:48:27.313308Z",
     "shell.execute_reply": "2023-07-26T07:48:27.312515Z",
     "shell.execute_reply.started": "2023-07-26T07:48:27.308643Z"
    },
    "tags": []
   },
   "outputs": [
    {
     "name": "stdout",
     "output_type": "stream",
     "text": [
      "[('RWA_122022',), ('RWA_032023',)]\n"
     ]
    }
   ],
   "source": [
    "list_tables = \"\"\"\n",
    "    SELECT name FROM sqlite_master\n",
    "    WHERE type='table';\n",
    "\"\"\"\n",
    "c.execute(list_tables)\n",
    "print(c.fetchall())"
   ]
  },
  {
   "cell_type": "code",
   "execution_count": 14,
   "id": "19540e29-04d9-4601-8340-c7aa8f35b4ed",
   "metadata": {
    "execution": {
     "iopub.execute_input": "2023-07-26T07:49:29.055936Z",
     "iopub.status.busy": "2023-07-26T07:49:29.055564Z",
     "iopub.status.idle": "2023-07-26T07:49:29.089922Z",
     "shell.execute_reply": "2023-07-26T07:49:29.089231Z",
     "shell.execute_reply.started": "2023-07-26T07:49:29.055911Z"
    }
   },
   "outputs": [],
   "source": [
    "rwa_1202 = pd.read_sql('''\n",
    "            SELECT * FROM RWA_122022\n",
    "            ''', \n",
    "            conn\n",
    ")"
   ]
  },
  {
   "cell_type": "code",
   "execution_count": 15,
   "id": "5b8a7cfd-251e-45e6-bd62-77ff89190529",
   "metadata": {
    "execution": {
     "iopub.execute_input": "2023-07-26T07:49:36.737425Z",
     "iopub.status.busy": "2023-07-26T07:49:36.737050Z",
     "iopub.status.idle": "2023-07-26T07:49:36.760257Z",
     "shell.execute_reply": "2023-07-26T07:49:36.759600Z",
     "shell.execute_reply.started": "2023-07-26T07:49:36.737399Z"
    }
   },
   "outputs": [
    {
     "data": {
      "text/html": [
       "<div>\n",
       "<style scoped>\n",
       "    .dataframe tbody tr th:only-of-type {\n",
       "        vertical-align: middle;\n",
       "    }\n",
       "\n",
       "    .dataframe tbody tr th {\n",
       "        vertical-align: top;\n",
       "    }\n",
       "\n",
       "    .dataframe thead th {\n",
       "        text-align: right;\n",
       "    }\n",
       "</style>\n",
       "<table border=\"1\" class=\"dataframe\">\n",
       "  <thead>\n",
       "    <tr style=\"text-align: right;\">\n",
       "      <th></th>\n",
       "      <th>CLIENT_NUMBER</th>\n",
       "      <th>ACCOUNT_NUMBER</th>\n",
       "      <th>PRODUCT</th>\n",
       "      <th>STATUS</th>\n",
       "      <th>SEGMENT</th>\n",
       "      <th>EXPOSURE_DRAWN</th>\n",
       "      <th>EXPOSURE_UNDRAWN</th>\n",
       "      <th>EXPOSURE</th>\n",
       "      <th>EAD</th>\n",
       "      <th>EAD_COLL</th>\n",
       "      <th>PD</th>\n",
       "      <th>LGD</th>\n",
       "      <th>SIZE</th>\n",
       "      <th>MATURITY</th>\n",
       "      <th>F_MORTGAGE</th>\n",
       "      <th>F_REVOLVING</th>\n",
       "      <th>F_LARGE_FIN</th>\n",
       "      <th>RW</th>\n",
       "      <th>RWA</th>\n",
       "    </tr>\n",
       "  </thead>\n",
       "  <tbody>\n",
       "    <tr>\n",
       "      <th>0</th>\n",
       "      <td>sfman997ux8036</td>\n",
       "      <td>1324710203qiph20</td>\n",
       "      <td>CREDIT_CARD</td>\n",
       "      <td>Performing</td>\n",
       "      <td>Retail</td>\n",
       "      <td>0.000000</td>\n",
       "      <td>18728.13876</td>\n",
       "      <td>18728.138760</td>\n",
       "      <td>11004.657130</td>\n",
       "      <td>0.00000</td>\n",
       "      <td>0.024652</td>\n",
       "      <td>0.30920</td>\n",
       "      <td>42.580298</td>\n",
       "      <td>1.156164</td>\n",
       "      <td>N</td>\n",
       "      <td>Y</td>\n",
       "      <td>N</td>\n",
       "      <td>0.245014</td>\n",
       "      <td>2696.291657</td>\n",
       "    </tr>\n",
       "    <tr>\n",
       "      <th>1</th>\n",
       "      <td>onvse705ca9217</td>\n",
       "      <td>1850135799zydg91</td>\n",
       "      <td>MORTGAGE</td>\n",
       "      <td>Performing</td>\n",
       "      <td>Retail</td>\n",
       "      <td>103838.774000</td>\n",
       "      <td>0.00000</td>\n",
       "      <td>103838.774000</td>\n",
       "      <td>105912.214700</td>\n",
       "      <td>55687.82851</td>\n",
       "      <td>0.005696</td>\n",
       "      <td>0.19727</td>\n",
       "      <td>44.995204</td>\n",
       "      <td>5.000000</td>\n",
       "      <td>Y</td>\n",
       "      <td>N</td>\n",
       "      <td>N</td>\n",
       "      <td>0.178579</td>\n",
       "      <td>18913.691050</td>\n",
       "    </tr>\n",
       "    <tr>\n",
       "      <th>2</th>\n",
       "      <td>icbpv275om2612</td>\n",
       "      <td>6219058663wnxv78</td>\n",
       "      <td>CONSUMER</td>\n",
       "      <td>Performing</td>\n",
       "      <td>Retail</td>\n",
       "      <td>4880.214964</td>\n",
       "      <td>0.00000</td>\n",
       "      <td>4880.214964</td>\n",
       "      <td>4907.859563</td>\n",
       "      <td>0.00000</td>\n",
       "      <td>0.173298</td>\n",
       "      <td>0.22180</td>\n",
       "      <td>44.995204</td>\n",
       "      <td>2.106849</td>\n",
       "      <td>N</td>\n",
       "      <td>N</td>\n",
       "      <td>N</td>\n",
       "      <td>0.493067</td>\n",
       "      <td>2419.902879</td>\n",
       "    </tr>\n",
       "    <tr>\n",
       "      <th>3</th>\n",
       "      <td>ybmbx119zx4306</td>\n",
       "      <td>7377738634wcur96</td>\n",
       "      <td>REVOLVING</td>\n",
       "      <td>Performing</td>\n",
       "      <td>Retail</td>\n",
       "      <td>4750.102454</td>\n",
       "      <td>38791.87458</td>\n",
       "      <td>43541.977040</td>\n",
       "      <td>26380.713480</td>\n",
       "      <td>0.00000</td>\n",
       "      <td>0.371520</td>\n",
       "      <td>0.63100</td>\n",
       "      <td>0.165181</td>\n",
       "      <td>1.000000</td>\n",
       "      <td>N</td>\n",
       "      <td>N</td>\n",
       "      <td>N</td>\n",
       "      <td>1.771476</td>\n",
       "      <td>46732.802610</td>\n",
       "    </tr>\n",
       "    <tr>\n",
       "      <th>4</th>\n",
       "      <td>zedzi814ms9207</td>\n",
       "      <td>7056331781sxng56</td>\n",
       "      <td>CREDIT_CARD</td>\n",
       "      <td>Performing</td>\n",
       "      <td>Retail</td>\n",
       "      <td>0.000000</td>\n",
       "      <td>3830.21812</td>\n",
       "      <td>3830.218120</td>\n",
       "      <td>1573.836625</td>\n",
       "      <td>0.00000</td>\n",
       "      <td>0.010971</td>\n",
       "      <td>0.54900</td>\n",
       "      <td>0.415023</td>\n",
       "      <td>1.000000</td>\n",
       "      <td>N</td>\n",
       "      <td>N</td>\n",
       "      <td>N</td>\n",
       "      <td>0.615273</td>\n",
       "      <td>968.339510</td>\n",
       "    </tr>\n",
       "  </tbody>\n",
       "</table>\n",
       "</div>"
      ],
      "text/plain": [
       "    CLIENT_NUMBER    ACCOUNT_NUMBER      PRODUCT      STATUS SEGMENT  \\\n",
       "0  sfman997ux8036  1324710203qiph20  CREDIT_CARD  Performing  Retail   \n",
       "1  onvse705ca9217  1850135799zydg91     MORTGAGE  Performing  Retail   \n",
       "2  icbpv275om2612  6219058663wnxv78     CONSUMER  Performing  Retail   \n",
       "3  ybmbx119zx4306  7377738634wcur96    REVOLVING  Performing  Retail   \n",
       "4  zedzi814ms9207  7056331781sxng56  CREDIT_CARD  Performing  Retail   \n",
       "\n",
       "   EXPOSURE_DRAWN  EXPOSURE_UNDRAWN       EXPOSURE            EAD  \\\n",
       "0        0.000000       18728.13876   18728.138760   11004.657130   \n",
       "1   103838.774000           0.00000  103838.774000  105912.214700   \n",
       "2     4880.214964           0.00000    4880.214964    4907.859563   \n",
       "3     4750.102454       38791.87458   43541.977040   26380.713480   \n",
       "4        0.000000        3830.21812    3830.218120    1573.836625   \n",
       "\n",
       "      EAD_COLL        PD      LGD       SIZE  MATURITY F_MORTGAGE F_REVOLVING  \\\n",
       "0      0.00000  0.024652  0.30920  42.580298  1.156164          N           Y   \n",
       "1  55687.82851  0.005696  0.19727  44.995204  5.000000          Y           N   \n",
       "2      0.00000  0.173298  0.22180  44.995204  2.106849          N           N   \n",
       "3      0.00000  0.371520  0.63100   0.165181  1.000000          N           N   \n",
       "4      0.00000  0.010971  0.54900   0.415023  1.000000          N           N   \n",
       "\n",
       "  F_LARGE_FIN        RW           RWA  \n",
       "0           N  0.245014   2696.291657  \n",
       "1           N  0.178579  18913.691050  \n",
       "2           N  0.493067   2419.902879  \n",
       "3           N  1.771476  46732.802610  \n",
       "4           N  0.615273    968.339510  "
      ]
     },
     "execution_count": 15,
     "metadata": {},
     "output_type": "execute_result"
    }
   ],
   "source": [
    "rwa_1202.head()"
   ]
  },
  {
   "cell_type": "code",
   "execution_count": null,
   "id": "abe2f0a1-bf02-4ccc-ad9b-9d16e17596ee",
   "metadata": {},
   "outputs": [],
   "source": []
  }
 ],
 "metadata": {
  "kernelspec": {
   "display_name": "saturn (Python 3)",
   "language": "python",
   "name": "python3"
  },
  "language_info": {
   "codemirror_mode": {
    "name": "ipython",
    "version": 3
   },
   "file_extension": ".py",
   "mimetype": "text/x-python",
   "name": "python",
   "nbconvert_exporter": "python",
   "pygments_lexer": "ipython3",
   "version": "3.9.13"
  }
 },
 "nbformat": 4,
 "nbformat_minor": 5
}
