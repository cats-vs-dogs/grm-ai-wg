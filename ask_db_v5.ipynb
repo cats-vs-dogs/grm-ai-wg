{
 "cells": [
  {
   "cell_type": "code",
   "execution_count": null,
   "id": "c3057dfb-5f39-43c6-8332-13f93693c895",
   "metadata": {
    "tags": []
   },
   "outputs": [],
   "source": [
    "from langchain.llms import OpenAI\n",
    "from langchain.chat_models import ChatOpenAI\n",
    "from langchain.sql_database import SQLDatabase\n",
    "from langchain_experimental.sql import SQLDatabaseChain\n",
    "from langchain.agents import initialize_agent, Tool\n",
    "from langchain.agents import load_tools\n",
    "from langchain.memory import ConversationBufferMemory\n",
    "\n",
    "from rw_formula import RW_Calc2"
   ]
  },
  {
   "cell_type": "code",
   "execution_count": null,
   "id": "799e80ad-4d2e-4ded-8816-d198d6ceeead",
   "metadata": {
    "tags": []
   },
   "outputs": [],
   "source": [
    "import os\n",
    "from dotenv import load_dotenv\n",
    "load_dotenv()\n",
    "OPENAI_API_KEY = os.getenv('OPENAI_API_KEY')"
   ]
  },
  {
   "cell_type": "code",
   "execution_count": null,
   "id": "2a86fd68-00a1-4b1a-92af-1fec1778610c",
   "metadata": {
    "tags": []
   },
   "outputs": [],
   "source": [
    "llm = OpenAI(temperature=0)\n",
    "# llm = ChatOpenAI(temperature=0, model=\"gpt-3.5-turbo-0613\")\n",
    "db = SQLDatabase.from_uri(\"sqlite:///./rwa_data.db\")\n",
    "db_chain = SQLDatabaseChain.from_llm(llm, db, verbose=True)\n",
    "tools = [\n",
    "    Tool(\n",
    "        name=\"risk weight calculator\",\n",
    "        func=RW_Calc2,\n",
    "        description=\n",
    "        \"\"\"calculates a loan risk weight give the argulamts: \n",
    "        Segment - Possible values are 'Bank', 'Corporate', and 'Retail'), \n",
    "        PD - Probability of Default\n",
    "        LGD - Loss Given Default\n",
    "        m - Remaining maturity of the loan in years\n",
    "        Large_Fin - If 'Y' the client is a Flag for Large Financial Institution, otherwise 'N'\n",
    "        size - size of the client in MEUR, usually this is the client's turnover\n",
    "        mortgage - If 'Y' the exposure is a mortgage loan, otherwise 'N'\n",
    "        revolving - If 'Y' the exposure is a revolving loan, otherwise 'N'\n",
    "        \"\"\"\n",
    "    ),     \n",
    "    Tool(\n",
    "        name=\"rwa_db\",\n",
    "        func=db_chain.run,\n",
    "        description=\"useful for quering a database\"\n",
    "    )\n",
    "]"
   ]
  },
  {
   "cell_type": "code",
   "execution_count": null,
   "id": "db4186bc-3246-4506-b113-043c46fd212a",
   "metadata": {
    "tags": []
   },
   "outputs": [],
   "source": [
    "memory = ConversationBufferMemory(memory_key=\"chat_history\")"
   ]
  },
  {
   "cell_type": "code",
   "execution_count": null,
   "id": "7256bce6-329f-4e44-98a1-52675f6dc972",
   "metadata": {
    "tags": []
   },
   "outputs": [],
   "source": [
    "agent = initialize_agent(\n",
    "    agent='conversational-react-description', \n",
    "    tools=tools, \n",
    "    llm=llm,\n",
    "    verbose=True,\n",
    "    # max_iterations=3,\n",
    "    memory=memory,\n",
    "    handle_parsing_errors=True\n",
    ")"
   ]
  },
  {
   "cell_type": "code",
   "execution_count": null,
   "id": "a9d80bc7-1401-495d-ba4b-2014ba2e3abe",
   "metadata": {},
   "outputs": [],
   "source": [
    "agent.run(\"Report the total RWA and EAD per SEGMENT from RWA_122022 table\")"
   ]
  },
  {
   "cell_type": "code",
   "execution_count": null,
   "id": "b5ec3879-a126-4ccc-8030-f8211e5a4d35",
   "metadata": {},
   "outputs": [],
   "source": [
    "agent.run(\"What is the sum of all EXPOSURE in RWA_122022 for all ACCOUNT_NUMBER whose STATUS changed from Performing to Non Performing between RWA_122022 table and RWA_032023 table\")"
   ]
  },
  {
   "cell_type": "code",
   "execution_count": null,
   "id": "824be0ea-380f-43d0-8ec4-21cdae090c55",
   "metadata": {
    "tags": []
   },
   "outputs": [],
   "source": [
    "agent.run(\"Read the information for Client 'sfman997ux8036' in RWA_122022 table and then calculate the RW if PD doubles\")"
   ]
  },
  {
   "cell_type": "code",
   "execution_count": null,
   "id": "532f2ef9-3bb9-41e0-92ee-6ade7d98a8ca",
   "metadata": {},
   "outputs": [],
   "source": []
  }
 ],
 "metadata": {
  "kernelspec": {
   "display_name": "saturn (Python 3)",
   "language": "python",
   "name": "python3"
  },
  "language_info": {
   "codemirror_mode": {
    "name": "ipython",
    "version": 3
   },
   "file_extension": ".py",
   "mimetype": "text/x-python",
   "name": "python",
   "nbconvert_exporter": "python",
   "pygments_lexer": "ipython3",
   "version": "3.9.13"
  }
 },
 "nbformat": 4,
 "nbformat_minor": 5
}
