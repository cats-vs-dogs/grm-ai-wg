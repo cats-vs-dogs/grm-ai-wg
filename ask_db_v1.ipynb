{
 "cells": [
  {
   "cell_type": "code",
   "execution_count": 43,
   "metadata": {},
   "outputs": [],
   "source": [
    "from langchain.agents import create_sql_agent\n",
    "from langchain.agents.agent_toolkits import SQLDatabaseToolkit\n",
    "from langchain.sql_database import SQLDatabase\n",
    "from langchain.llms.openai import OpenAI\n",
    "from langchain.agents import AgentExecutor\n",
    "import openai"
   ]
  },
  {
   "cell_type": "code",
   "execution_count": 2,
   "metadata": {},
   "outputs": [],
   "source": [
    "import os\n",
    "from dotenv import load_dotenv\n",
    "\n",
    "load_dotenv()\n",
    "\n",
    "OPENAI_API_KEY = os.getenv('OPENAI_API_KEY')"
   ]
  },
  {
   "cell_type": "code",
   "execution_count": 21,
   "metadata": {},
   "outputs": [],
   "source": [
    "llm=OpenAI(temperature=0)\n",
    "db = SQLDatabase.from_uri(\"sqlite:///./rwa_data.db\")\n",
    "toolkit = SQLDatabaseToolkit(db=db, llm=llm)"
   ]
  },
  {
   "cell_type": "code",
   "execution_count": 80,
   "metadata": {},
   "outputs": [],
   "source": [
    "\n",
    "agent_executor = create_sql_agent(\n",
    "    llm=OpenAI(temperature=0),\n",
    "    toolkit=toolkit,\n",
    "    verbose=True\n",
    ")"
   ]
  },
  {
   "cell_type": "code",
   "execution_count": 81,
   "metadata": {},
   "outputs": [
    {
     "name": "stdout",
     "output_type": "stream",
     "text": [
      "\n",
      "\n",
      "\u001b[1m> Entering new  chain...\u001b[0m\n",
      "\u001b[32;1m\u001b[1;3mAction: sql_db_list_tables\n",
      "Action Input: \u001b[0m\n",
      "Observation: \u001b[38;5;200m\u001b[1;3mRWA_122022, RWA_032023\u001b[0m\n",
      "Thought:\u001b[32;1m\u001b[1;3m I should query the schema of the RWA_122022 table\n",
      "Action: sql_db_schema\n",
      "Action Input: RWA_122022\u001b[0m\n",
      "Observation: \u001b[33;1m\u001b[1;3m\n",
      "CREATE TABLE \"RWA_122022\" (\n",
      "\t\"CLIENT_NUMBER\" TEXT, \n",
      "\t\"ACCOUNT_NUMBER\" TEXT, \n",
      "\t\"PRODUCT\" TEXT, \n",
      "\t\"STATUS\" TEXT, \n",
      "\t\"SEGMENT\" TEXT, \n",
      "\t\"EXPOSURE_DRAWN\" REAL, \n",
      "\t\"EXPOSURE_UNDRAWN\" REAL, \n",
      "\t\"EXPOSURE\" REAL, \n",
      "\t\"EAD\" REAL, \n",
      "\t\"EAD_COLL\" REAL, \n",
      "\t\"PD\" REAL, \n",
      "\t\"LGD\" REAL, \n",
      "\t\"SIZE\" REAL, \n",
      "\t\"MATURITY\" REAL, \n",
      "\t\"F_MORTGAGE\" TEXT, \n",
      "\t\"F_REVOLVING\" TEXT, \n",
      "\t\"F_LARGE_FIN\" TEXT, \n",
      "\t\"RW\" REAL, \n",
      "\t\"RWA\" REAL\n",
      ")\n",
      "\n",
      "/*\n",
      "3 rows from RWA_122022 table:\n",
      "CLIENT_NUMBER\tACCOUNT_NUMBER\tPRODUCT\tSTATUS\tSEGMENT\tEXPOSURE_DRAWN\tEXPOSURE_UNDRAWN\tEXPOSURE\tEAD\tEAD_COLL\tPD\tLGD\tSIZE\tMATURITY\tF_MORTGAGE\tF_REVOLVING\tF_LARGE_FIN\tRW\tRWA\n",
      "sfman997ux8036\t1324710203qiph20\tCREDIT_CARD\tPerforming\tRetail\t0.0\t18728.13876\t18728.13876\t11004.65713\t0.0\t0.0246518\t0.3092\t42.58029755\t1.15616438\tN\tY\tN\t0.245013691\t2696.291657\n",
      "onvse705ca9217\t1850135799zydg91\tMORTGAGE\tPerforming\tRetail\t103838.774\t0.0\t103838.774\t105912.2147\t55687.82851\t0.0056956\t0.197270397\t44.9952041\t5.0\tY\tN\tN\t0.17857894\t18913.69105\n",
      "icbpv275om2612\t6219058663wnxv78\tCONSUMER\tPerforming\tRetail\t4880.214964\t0.0\t4880.214964\t4907.859563\t0.0\t0.173298\t0.2218\t44.9952041\t2.10684932\tN\tN\tN\t0.493066855\t2419.902879\n",
      "*/\u001b[0m\n",
      "Thought:\u001b[32;1m\u001b[1;3m I now know the final answer\n",
      "Final Answer: The RWA_122022 table contains the following columns: CLIENT_NUMBER, ACCOUNT_NUMBER, PRODUCT, STATUS, SEGMENT, EXPOSURE_DRAWN, EXPOSURE_UNDRAWN, EXPOSURE, EAD, EAD_COLL, PD, LGD, SIZE, MATURITY, F_MORTGAGE, F_REVOLVING, F_LARGE_FIN, RW, and RWA.\u001b[0m\n",
      "\n",
      "\u001b[1m> Finished chain.\u001b[0m\n"
     ]
    },
    {
     "data": {
      "text/plain": [
       "'The RWA_122022 table contains the following columns: CLIENT_NUMBER, ACCOUNT_NUMBER, PRODUCT, STATUS, SEGMENT, EXPOSURE_DRAWN, EXPOSURE_UNDRAWN, EXPOSURE, EAD, EAD_COLL, PD, LGD, SIZE, MATURITY, F_MORTGAGE, F_REVOLVING, F_LARGE_FIN, RW, and RWA.'"
      ]
     },
     "execution_count": 81,
     "metadata": {},
     "output_type": "execute_result"
    }
   ],
   "source": [
    "agent_executor.run(\"Describe the RWA_122022 table\")"
   ]
  },
  {
   "cell_type": "code",
   "execution_count": 32,
   "metadata": {},
   "outputs": [
    {
     "data": {
      "text/plain": [
       "'The total RWA and EAD per SEGMENT in the RWA_122022 table are Corporate: 85075812.12498187, 156657332.34921697 and Retail: 37806680.90001285, 165698955.81288758.'"
      ]
     },
     "execution_count": 32,
     "metadata": {},
     "output_type": "execute_result"
    }
   ],
   "source": [
    "agent_executor.run(\"What is the total RWA and EAD per SEGMENT in the RWA_122022 table\")"
   ]
  },
  {
   "cell_type": "code",
   "execution_count": 38,
   "metadata": {},
   "outputs": [
    {
     "data": {
      "text/plain": [
       "'The total EXPOSURE of all clients that changed their STATUS from Performing to Non Performing between RWA_122022 table and RWA_032023 table is 1,845,945.9'"
      ]
     },
     "execution_count": 38,
     "metadata": {},
     "output_type": "execute_result"
    }
   ],
   "source": [
    "agent_executor.run(\"What is the total EXPOSURE of all clients that changed their STATUS from Performing to Non Performing between RWA_122022 table and RWA_032023 table\")"
   ]
  },
  {
   "cell_type": "code",
   "execution_count": 34,
   "metadata": {},
   "outputs": [
    {
     "data": {
      "text/plain": [
       "\"The exposure of Client 'sfman997ux8036' in RWA_122022 table is 18728.13876.\""
      ]
     },
     "execution_count": 34,
     "metadata": {},
     "output_type": "execute_result"
    }
   ],
   "source": [
    "\n",
    "agent_executor.run(\"What is the EXPOSURE of Client 'sfman997ux8036' in RWA_122022 table\")"
   ]
  },
  {
   "cell_type": "code",
   "execution_count": 62,
   "metadata": {},
   "outputs": [],
   "source": [
    "client = agent_executor.run(\"Read all the information for Client 'sfman997ux8036' in RWA_122022 table and output it in json format\")"
   ]
  },
  {
   "cell_type": "code",
   "execution_count": 63,
   "metadata": {},
   "outputs": [
    {
     "data": {
      "text/plain": [
       "'[{\"CLIENT_NUMBER\": \"sfman997ux8036\", \"ACCOUNT_NUMBER\": \"1324710203qiph20\", \"PRODUCT\": \"CREDIT_CARD\", \"STATUS\": \"Performing\", \"SEGMENT\": \"Retail\", \"EXPOSURE_DRAWN\": 0.0, \"EXPOSURE_UNDRAWN\": 18728.13876, \"EXPOSURE\": 18728.13876, \"EAD\": 11004.65713, \"EAD_COLL\": 0.0, \"PD\": 0.0246518, \"LGD\": 0.3092, \"SIZE\": 42.58029755, \"MATURITY\": 1.15616438, \"F_MORTGAGE\": \"N\", \"F_REVOLVING\": \"Y\", \"F_LARGE_FIN\": \"N\", \"RW\": 0.245013691, \"RWA\": 2696.291657}]'"
      ]
     },
     "execution_count": 63,
     "metadata": {},
     "output_type": "execute_result"
    }
   ],
   "source": [
    "client"
   ]
  },
  {
   "cell_type": "code",
   "execution_count": null,
   "metadata": {},
   "outputs": [],
   "source": []
  },
  {
   "cell_type": "markdown",
   "metadata": {},
   "source": [
    "#### Function calling"
   ]
  },
  {
   "cell_type": "code",
   "execution_count": 47,
   "metadata": {},
   "outputs": [],
   "source": [
    "from rw_formula import RW_Calc"
   ]
  },
  {
   "cell_type": "code",
   "execution_count": 54,
   "metadata": {},
   "outputs": [],
   "source": [
    "# prompt = f\"\"\"\n",
    "# For a client with information in the ClientInfo below calculate the RW if the PD doubles.\n",
    "\n",
    "# ClientInfo: ```{client}```\n",
    "# \"\"\"\n"
   ]
  },
  {
   "cell_type": "markdown",
   "metadata": {},
   "source": [
    "#### Attempt 1"
   ]
  },
  {
   "cell_type": "code",
   "execution_count": 135,
   "metadata": {},
   "outputs": [],
   "source": [
    "from langchain.agents import initialize_agent\n",
    "from langchain.llms import OpenAI\n",
    "from langchain import LLMChain\n",
    "from langchain.prompts import PromptTemplate\n",
    "from langchain.agents import Tool\n",
    "\n",
    "from rw_formula import RW_Calc"
   ]
  },
  {
   "cell_type": "code",
   "execution_count": 136,
   "metadata": {},
   "outputs": [],
   "source": [
    "llm = OpenAI(temperature=0)\n",
    "\n",
    "prompt = PromptTemplate(\n",
    "    input_variables=['client'],\n",
    "    template=\"what is the RW if the PD of {client} doubles\"\n",
    ")\n",
    "\n",
    "# Load the tool configs that are needed.\n",
    "llm_rw_chain = LLMChain(\n",
    "    llm=llm,\n",
    "    prompt=prompt,\n",
    "    verbose=True\n",
    ")\n",
    "\n",
    "RW = Tool(\n",
    "    name=\"risk weight calculator\",\n",
    "    func=RW_Calc,\n",
    "    description=\n",
    "    \"\"\"calculates a loan risk weight give the argulamts: \n",
    "        Segment - Possible values are 'Bank', 'Corporate', and 'Retail'), \n",
    "        PD - Probability of Default\n",
    "        LGD - Loss Given Default\n",
    "        m - Remaining maturity of the loan in years\n",
    "        Large_Fin - If 'Y' the client is a Flag for Large Financial Institution, otherwise 'N'\n",
    "        size - size of the client in MEUR, usually this is the client's turnover\n",
    "        mortgage - If 'Y' the exposure is a mortgage loan, otherwise 'N'\n",
    "        revolving - If 'Y' the exposure is a revolving loan, otherwise 'N'\n",
    "        \"\"\"\n",
    ")\n",
    "\n",
    "tools = [RW]\n",
    "\n",
    "# Construct the react agent type.\n",
    "agent = initialize_agent(\n",
    "    tools,\n",
    "    llm,\n",
    "    agent=\"zero-shot-react-description\",\n",
    "    verbose=True\n",
    ")"
   ]
  },
  {
   "cell_type": "code",
   "execution_count": 137,
   "metadata": {},
   "outputs": [
    {
     "name": "stdout",
     "output_type": "stream",
     "text": [
      "\n",
      "\n",
      "\u001b[1m> Entering new  chain...\u001b[0m\n",
      "\u001b[32;1m\u001b[1;3m I need to calculate the risk weight\n",
      "Action: risk weight calculator\n",
      "Action Input: Segment - Retail, PD - 0.0493036, LGD - 0.3092, m - 1.15616438, Large_Fin - N, size - 42.58029755, mortgage - N, revolving - Y\u001b[0m"
     ]
    },
    {
     "ename": "TypeError",
     "evalue": "RW_Calc() missing 7 required positional arguments: 'PD', 'LGD', 'm', 'Large_Fin', 'size', 'mortgage', and 'revolving'",
     "output_type": "error",
     "traceback": [
      "\u001b[0;31m---------------------------------------------------------------------------\u001b[0m",
      "\u001b[0;31mTypeError\u001b[0m                                 Traceback (most recent call last)",
      "Cell \u001b[0;32mIn[137], line 1\u001b[0m\n\u001b[0;32m----> 1\u001b[0m agent\u001b[39m.\u001b[39;49mrun(\u001b[39mf\u001b[39;49m\u001b[39m\"\u001b[39;49m\u001b[39mfor the client information in \u001b[39;49m\u001b[39m{\u001b[39;49;00mclient\u001b[39m}\u001b[39;49;00m\u001b[39m what is the RW if PD doubles\u001b[39;49m\u001b[39m\"\u001b[39;49m)\n",
      "File \u001b[0;32m~/yes/envs/tf/lib/python3.9/site-packages/langchain/chains/base.py:290\u001b[0m, in \u001b[0;36mChain.run\u001b[0;34m(self, callbacks, tags, *args, **kwargs)\u001b[0m\n\u001b[1;32m    288\u001b[0m     \u001b[39mif\u001b[39;00m \u001b[39mlen\u001b[39m(args) \u001b[39m!=\u001b[39m \u001b[39m1\u001b[39m:\n\u001b[1;32m    289\u001b[0m         \u001b[39mraise\u001b[39;00m \u001b[39mValueError\u001b[39;00m(\u001b[39m\"\u001b[39m\u001b[39m`run` supports only one positional argument.\u001b[39m\u001b[39m\"\u001b[39m)\n\u001b[0;32m--> 290\u001b[0m     \u001b[39mreturn\u001b[39;00m \u001b[39mself\u001b[39;49m(args[\u001b[39m0\u001b[39;49m], callbacks\u001b[39m=\u001b[39;49mcallbacks, tags\u001b[39m=\u001b[39;49mtags)[_output_key]\n\u001b[1;32m    292\u001b[0m \u001b[39mif\u001b[39;00m kwargs \u001b[39mand\u001b[39;00m \u001b[39mnot\u001b[39;00m args:\n\u001b[1;32m    293\u001b[0m     \u001b[39mreturn\u001b[39;00m \u001b[39mself\u001b[39m(kwargs, callbacks\u001b[39m=\u001b[39mcallbacks, tags\u001b[39m=\u001b[39mtags)[_output_key]\n",
      "File \u001b[0;32m~/yes/envs/tf/lib/python3.9/site-packages/langchain/chains/base.py:166\u001b[0m, in \u001b[0;36mChain.__call__\u001b[0;34m(self, inputs, return_only_outputs, callbacks, tags, include_run_info)\u001b[0m\n\u001b[1;32m    164\u001b[0m \u001b[39mexcept\u001b[39;00m (\u001b[39mKeyboardInterrupt\u001b[39;00m, \u001b[39mException\u001b[39;00m) \u001b[39mas\u001b[39;00m e:\n\u001b[1;32m    165\u001b[0m     run_manager\u001b[39m.\u001b[39mon_chain_error(e)\n\u001b[0;32m--> 166\u001b[0m     \u001b[39mraise\u001b[39;00m e\n\u001b[1;32m    167\u001b[0m run_manager\u001b[39m.\u001b[39mon_chain_end(outputs)\n\u001b[1;32m    168\u001b[0m final_outputs: Dict[\u001b[39mstr\u001b[39m, Any] \u001b[39m=\u001b[39m \u001b[39mself\u001b[39m\u001b[39m.\u001b[39mprep_outputs(\n\u001b[1;32m    169\u001b[0m     inputs, outputs, return_only_outputs\n\u001b[1;32m    170\u001b[0m )\n",
      "File \u001b[0;32m~/yes/envs/tf/lib/python3.9/site-packages/langchain/chains/base.py:160\u001b[0m, in \u001b[0;36mChain.__call__\u001b[0;34m(self, inputs, return_only_outputs, callbacks, tags, include_run_info)\u001b[0m\n\u001b[1;32m    154\u001b[0m run_manager \u001b[39m=\u001b[39m callback_manager\u001b[39m.\u001b[39mon_chain_start(\n\u001b[1;32m    155\u001b[0m     dumpd(\u001b[39mself\u001b[39m),\n\u001b[1;32m    156\u001b[0m     inputs,\n\u001b[1;32m    157\u001b[0m )\n\u001b[1;32m    158\u001b[0m \u001b[39mtry\u001b[39;00m:\n\u001b[1;32m    159\u001b[0m     outputs \u001b[39m=\u001b[39m (\n\u001b[0;32m--> 160\u001b[0m         \u001b[39mself\u001b[39;49m\u001b[39m.\u001b[39;49m_call(inputs, run_manager\u001b[39m=\u001b[39;49mrun_manager)\n\u001b[1;32m    161\u001b[0m         \u001b[39mif\u001b[39;00m new_arg_supported\n\u001b[1;32m    162\u001b[0m         \u001b[39melse\u001b[39;00m \u001b[39mself\u001b[39m\u001b[39m.\u001b[39m_call(inputs)\n\u001b[1;32m    163\u001b[0m     )\n\u001b[1;32m    164\u001b[0m \u001b[39mexcept\u001b[39;00m (\u001b[39mKeyboardInterrupt\u001b[39;00m, \u001b[39mException\u001b[39;00m) \u001b[39mas\u001b[39;00m e:\n\u001b[1;32m    165\u001b[0m     run_manager\u001b[39m.\u001b[39mon_chain_error(e)\n",
      "File \u001b[0;32m~/yes/envs/tf/lib/python3.9/site-packages/langchain/agents/agent.py:957\u001b[0m, in \u001b[0;36mAgentExecutor._call\u001b[0;34m(self, inputs, run_manager)\u001b[0m\n\u001b[1;32m    955\u001b[0m \u001b[39m# We now enter the agent loop (until it returns something).\u001b[39;00m\n\u001b[1;32m    956\u001b[0m \u001b[39mwhile\u001b[39;00m \u001b[39mself\u001b[39m\u001b[39m.\u001b[39m_should_continue(iterations, time_elapsed):\n\u001b[0;32m--> 957\u001b[0m     next_step_output \u001b[39m=\u001b[39m \u001b[39mself\u001b[39;49m\u001b[39m.\u001b[39;49m_take_next_step(\n\u001b[1;32m    958\u001b[0m         name_to_tool_map,\n\u001b[1;32m    959\u001b[0m         color_mapping,\n\u001b[1;32m    960\u001b[0m         inputs,\n\u001b[1;32m    961\u001b[0m         intermediate_steps,\n\u001b[1;32m    962\u001b[0m         run_manager\u001b[39m=\u001b[39;49mrun_manager,\n\u001b[1;32m    963\u001b[0m     )\n\u001b[1;32m    964\u001b[0m     \u001b[39mif\u001b[39;00m \u001b[39misinstance\u001b[39m(next_step_output, AgentFinish):\n\u001b[1;32m    965\u001b[0m         \u001b[39mreturn\u001b[39;00m \u001b[39mself\u001b[39m\u001b[39m.\u001b[39m_return(\n\u001b[1;32m    966\u001b[0m             next_step_output, intermediate_steps, run_manager\u001b[39m=\u001b[39mrun_manager\n\u001b[1;32m    967\u001b[0m         )\n",
      "File \u001b[0;32m~/yes/envs/tf/lib/python3.9/site-packages/langchain/agents/agent.py:820\u001b[0m, in \u001b[0;36mAgentExecutor._take_next_step\u001b[0;34m(self, name_to_tool_map, color_mapping, inputs, intermediate_steps, run_manager)\u001b[0m\n\u001b[1;32m    818\u001b[0m         tool_run_kwargs[\u001b[39m\"\u001b[39m\u001b[39mllm_prefix\u001b[39m\u001b[39m\"\u001b[39m] \u001b[39m=\u001b[39m \u001b[39m\"\u001b[39m\u001b[39m\"\u001b[39m\n\u001b[1;32m    819\u001b[0m     \u001b[39m# We then call the tool on the tool input to get an observation\u001b[39;00m\n\u001b[0;32m--> 820\u001b[0m     observation \u001b[39m=\u001b[39m tool\u001b[39m.\u001b[39;49mrun(\n\u001b[1;32m    821\u001b[0m         agent_action\u001b[39m.\u001b[39;49mtool_input,\n\u001b[1;32m    822\u001b[0m         verbose\u001b[39m=\u001b[39;49m\u001b[39mself\u001b[39;49m\u001b[39m.\u001b[39;49mverbose,\n\u001b[1;32m    823\u001b[0m         color\u001b[39m=\u001b[39;49mcolor,\n\u001b[1;32m    824\u001b[0m         callbacks\u001b[39m=\u001b[39;49mrun_manager\u001b[39m.\u001b[39;49mget_child() \u001b[39mif\u001b[39;49;00m run_manager \u001b[39melse\u001b[39;49;00m \u001b[39mNone\u001b[39;49;00m,\n\u001b[1;32m    825\u001b[0m         \u001b[39m*\u001b[39;49m\u001b[39m*\u001b[39;49mtool_run_kwargs,\n\u001b[1;32m    826\u001b[0m     )\n\u001b[1;32m    827\u001b[0m \u001b[39melse\u001b[39;00m:\n\u001b[1;32m    828\u001b[0m     tool_run_kwargs \u001b[39m=\u001b[39m \u001b[39mself\u001b[39m\u001b[39m.\u001b[39magent\u001b[39m.\u001b[39mtool_run_logging_kwargs()\n",
      "File \u001b[0;32m~/yes/envs/tf/lib/python3.9/site-packages/langchain/tools/base.py:297\u001b[0m, in \u001b[0;36mBaseTool.run\u001b[0;34m(self, tool_input, verbose, start_color, color, callbacks, **kwargs)\u001b[0m\n\u001b[1;32m    295\u001b[0m \u001b[39mexcept\u001b[39;00m (\u001b[39mException\u001b[39;00m, \u001b[39mKeyboardInterrupt\u001b[39;00m) \u001b[39mas\u001b[39;00m e:\n\u001b[1;32m    296\u001b[0m     run_manager\u001b[39m.\u001b[39mon_tool_error(e)\n\u001b[0;32m--> 297\u001b[0m     \u001b[39mraise\u001b[39;00m e\n\u001b[1;32m    298\u001b[0m \u001b[39melse\u001b[39;00m:\n\u001b[1;32m    299\u001b[0m     run_manager\u001b[39m.\u001b[39mon_tool_end(\n\u001b[1;32m    300\u001b[0m         \u001b[39mstr\u001b[39m(observation), color\u001b[39m=\u001b[39mcolor, name\u001b[39m=\u001b[39m\u001b[39mself\u001b[39m\u001b[39m.\u001b[39mname, \u001b[39m*\u001b[39m\u001b[39m*\u001b[39mkwargs\n\u001b[1;32m    301\u001b[0m     )\n",
      "File \u001b[0;32m~/yes/envs/tf/lib/python3.9/site-packages/langchain/tools/base.py:269\u001b[0m, in \u001b[0;36mBaseTool.run\u001b[0;34m(self, tool_input, verbose, start_color, color, callbacks, **kwargs)\u001b[0m\n\u001b[1;32m    266\u001b[0m \u001b[39mtry\u001b[39;00m:\n\u001b[1;32m    267\u001b[0m     tool_args, tool_kwargs \u001b[39m=\u001b[39m \u001b[39mself\u001b[39m\u001b[39m.\u001b[39m_to_args_and_kwargs(parsed_input)\n\u001b[1;32m    268\u001b[0m     observation \u001b[39m=\u001b[39m (\n\u001b[0;32m--> 269\u001b[0m         \u001b[39mself\u001b[39;49m\u001b[39m.\u001b[39;49m_run(\u001b[39m*\u001b[39;49mtool_args, run_manager\u001b[39m=\u001b[39;49mrun_manager, \u001b[39m*\u001b[39;49m\u001b[39m*\u001b[39;49mtool_kwargs)\n\u001b[1;32m    270\u001b[0m         \u001b[39mif\u001b[39;00m new_arg_supported\n\u001b[1;32m    271\u001b[0m         \u001b[39melse\u001b[39;00m \u001b[39mself\u001b[39m\u001b[39m.\u001b[39m_run(\u001b[39m*\u001b[39mtool_args, \u001b[39m*\u001b[39m\u001b[39m*\u001b[39mtool_kwargs)\n\u001b[1;32m    272\u001b[0m     )\n\u001b[1;32m    273\u001b[0m \u001b[39mexcept\u001b[39;00m ToolException \u001b[39mas\u001b[39;00m e:\n\u001b[1;32m    274\u001b[0m     \u001b[39mif\u001b[39;00m \u001b[39mnot\u001b[39;00m \u001b[39mself\u001b[39m\u001b[39m.\u001b[39mhandle_tool_error:\n",
      "File \u001b[0;32m~/yes/envs/tf/lib/python3.9/site-packages/langchain/tools/base.py:418\u001b[0m, in \u001b[0;36mTool._run\u001b[0;34m(self, run_manager, *args, **kwargs)\u001b[0m\n\u001b[1;32m    409\u001b[0m \u001b[39m\u001b[39m\u001b[39m\"\"\"Use the tool.\"\"\"\u001b[39;00m\n\u001b[1;32m    410\u001b[0m new_argument_supported \u001b[39m=\u001b[39m signature(\u001b[39mself\u001b[39m\u001b[39m.\u001b[39mfunc)\u001b[39m.\u001b[39mparameters\u001b[39m.\u001b[39mget(\u001b[39m\"\u001b[39m\u001b[39mcallbacks\u001b[39m\u001b[39m\"\u001b[39m)\n\u001b[1;32m    411\u001b[0m \u001b[39mreturn\u001b[39;00m (\n\u001b[1;32m    412\u001b[0m     \u001b[39mself\u001b[39m\u001b[39m.\u001b[39mfunc(\n\u001b[1;32m    413\u001b[0m         \u001b[39m*\u001b[39margs,\n\u001b[1;32m    414\u001b[0m         callbacks\u001b[39m=\u001b[39mrun_manager\u001b[39m.\u001b[39mget_child() \u001b[39mif\u001b[39;00m run_manager \u001b[39melse\u001b[39;00m \u001b[39mNone\u001b[39;00m,\n\u001b[1;32m    415\u001b[0m         \u001b[39m*\u001b[39m\u001b[39m*\u001b[39mkwargs,\n\u001b[1;32m    416\u001b[0m     )\n\u001b[1;32m    417\u001b[0m     \u001b[39mif\u001b[39;00m new_argument_supported\n\u001b[0;32m--> 418\u001b[0m     \u001b[39melse\u001b[39;00m \u001b[39mself\u001b[39;49m\u001b[39m.\u001b[39;49mfunc(\u001b[39m*\u001b[39;49margs, \u001b[39m*\u001b[39;49m\u001b[39m*\u001b[39;49mkwargs)\n\u001b[1;32m    419\u001b[0m )\n",
      "\u001b[0;31mTypeError\u001b[0m: RW_Calc() missing 7 required positional arguments: 'PD', 'LGD', 'm', 'Large_Fin', 'size', 'mortgage', and 'revolving'"
     ]
    }
   ],
   "source": [
    "agent.run(f\"for the client information in {client} what is the RW if PD doubles\")"
   ]
  },
  {
   "cell_type": "markdown",
   "metadata": {},
   "source": [
    "#### Attempt 2"
   ]
  },
  {
   "cell_type": "code",
   "execution_count": 138,
   "metadata": {},
   "outputs": [],
   "source": [
    "from langchain import LLMMathChain, OpenAI, SerpAPIWrapper, SQLDatabase, SQLDatabaseChain\n",
    "from langchain.agents import initialize_agent, Tool\n",
    "from langchain.agents import AgentType\n",
    "from langchain.chat_models import ChatOpenAI"
   ]
  },
  {
   "cell_type": "code",
   "execution_count": 139,
   "metadata": {},
   "outputs": [],
   "source": [
    "llm = ChatOpenAI(temperature=0, model=\"gpt-3.5-turbo-0613\")\n",
    "db = SQLDatabase.from_uri(\"sqlite:///./rwa_data.db\")\n",
    "db_chain = SQLDatabaseChain.from_llm(llm, db, verbose=True)\n",
    "tools = [\n",
    "    Tool(\n",
    "        name=\"risk weight calculator\",\n",
    "        func=RW_Calc,\n",
    "        description=\n",
    "        \"\"\"calculates a loan risk weight give the argulamts: \n",
    "        Segment - Possible values are 'Bank', 'Corporate', and 'Retail'), \n",
    "        PD - Probability of Default\n",
    "        LGD - Loss Given Default\n",
    "        m - Remaining maturity of the loan in years\n",
    "        Large_Fin - If 'Y' the client is a Flag for Large Financial Institution, otherwise 'N'\n",
    "        size - size of the client in MEUR, usually this is the client's turnover\n",
    "        mortgage - If 'Y' the exposure is a mortgage loan, otherwise 'N'\n",
    "        revolving - If 'Y' the exposure is a revolving loan, otherwise 'N'\n",
    "        \"\"\"\n",
    "    ),    \n",
    "    Tool(\n",
    "        name=\"rwa_db\",\n",
    "        func=db_chain.run,\n",
    "        description=\"useful for quering a database\"\n",
    "    )\n",
    "]"
   ]
  },
  {
   "cell_type": "code",
   "execution_count": 140,
   "metadata": {},
   "outputs": [],
   "source": [
    "agent = initialize_agent(tools, llm, agent=\"zero-shot-react-description\", verbose=True)"
   ]
  },
  {
   "cell_type": "code",
   "execution_count": 141,
   "metadata": {},
   "outputs": [
    {
     "name": "stdout",
     "output_type": "stream",
     "text": [
      "\n",
      "\n",
      "\u001b[1m> Entering new  chain...\u001b[0m\n",
      "\u001b[32;1m\u001b[1;3mI need to query the RWA_122022 table to get the information for Client 'sfman997ux8036'. Then I can use the risk weight calculator to calculate their RW if PD doubles.\n",
      "Action: rwa_db\n",
      "Action Input: SELECT * FROM RWA_122022 WHERE Client = 'sfman997ux8036'\u001b[0m\n",
      "\n",
      "\u001b[1m> Entering new  chain...\u001b[0m\n",
      "SELECT * FROM RWA_122022 WHERE Client = 'sfman997ux8036'\n",
      "SQLQuery:\u001b[32;1m\u001b[1;3mSELECT * FROM RWA_122022 WHERE CLIENT_NUMBER = 'sfman997ux8036'\u001b[0m\n",
      "SQLResult: \u001b[33;1m\u001b[1;3m[('sfman997ux8036', '1324710203qiph20', 'CREDIT_CARD', 'Performing', 'Retail', 0.0, 18728.13876, 18728.13876, 11004.65713, 0.0, 0.0246518, 0.3092, 42.58029755, 1.15616438, 'N', 'Y', 'N', 0.245013691, 2696.291657)]\u001b[0m\n",
      "Answer:\u001b[32;1m\u001b[1;3mCLIENT_NUMBER: sfman997ux8036\n",
      "ACCOUNT_NUMBER: 1324710203qiph20\n",
      "PRODUCT: CREDIT_CARD\n",
      "STATUS: Performing\n",
      "SEGMENT: Retail\n",
      "EXPOSURE_DRAWN: 0.0\n",
      "EXPOSURE_UNDRAWN: 18728.13876\n",
      "EXPOSURE: 18728.13876\n",
      "EAD: 11004.65713\n",
      "EAD_COLL: 0.0\n",
      "PD: 0.0246518\n",
      "LGD: 0.3092\n",
      "SIZE: 42.58029755\n",
      "MATURITY: 1.15616438\n",
      "F_MORTGAGE: N\n",
      "F_REVOLVING: Y\n",
      "F_LARGE_FIN: N\n",
      "RW: 0.245013691\n",
      "RWA: 2696.291657\u001b[0m\n",
      "\u001b[1m> Finished chain.\u001b[0m\n",
      "\n",
      "Observation: \u001b[33;1m\u001b[1;3mCLIENT_NUMBER: sfman997ux8036\n",
      "ACCOUNT_NUMBER: 1324710203qiph20\n",
      "PRODUCT: CREDIT_CARD\n",
      "STATUS: Performing\n",
      "SEGMENT: Retail\n",
      "EXPOSURE_DRAWN: 0.0\n",
      "EXPOSURE_UNDRAWN: 18728.13876\n",
      "EXPOSURE: 18728.13876\n",
      "EAD: 11004.65713\n",
      "EAD_COLL: 0.0\n",
      "PD: 0.0246518\n",
      "LGD: 0.3092\n",
      "SIZE: 42.58029755\n",
      "MATURITY: 1.15616438\n",
      "F_MORTGAGE: N\n",
      "F_REVOLVING: Y\n",
      "F_LARGE_FIN: N\n",
      "RW: 0.245013691\n",
      "RWA: 2696.291657\u001b[0m\n",
      "Thought:\u001b[32;1m\u001b[1;3mNow that I have the information for Client 'sfman997ux8036', I can use the risk weight calculator to calculate their RW if PD doubles.\n",
      "Action: risk weight calculator\n",
      "Action Input: Segment = 'Retail', PD = 0.0246518 * 2, LGD = 0.3092, m = 1.15616438, Large_Fin = 'N', size = 42.58029755, mortgage = 'N', revolving = 'Y'\u001b[0m"
     ]
    },
    {
     "ename": "TypeError",
     "evalue": "RW_Calc() missing 7 required positional arguments: 'PD', 'LGD', 'm', 'Large_Fin', 'size', 'mortgage', and 'revolving'",
     "output_type": "error",
     "traceback": [
      "\u001b[0;31m---------------------------------------------------------------------------\u001b[0m",
      "\u001b[0;31mTypeError\u001b[0m                                 Traceback (most recent call last)",
      "Cell \u001b[0;32mIn[141], line 1\u001b[0m\n\u001b[0;32m----> 1\u001b[0m agent\u001b[39m.\u001b[39;49mrun(\u001b[39m\"\u001b[39;49m\u001b[39mRead all the information for Client \u001b[39;49m\u001b[39m'\u001b[39;49m\u001b[39msfman997ux8036\u001b[39;49m\u001b[39m'\u001b[39;49m\u001b[39m in RWA_122022 table and then calculate their RW if PD doubles\u001b[39;49m\u001b[39m\"\u001b[39;49m)\n",
      "File \u001b[0;32m~/yes/envs/tf/lib/python3.9/site-packages/langchain/chains/base.py:290\u001b[0m, in \u001b[0;36mChain.run\u001b[0;34m(self, callbacks, tags, *args, **kwargs)\u001b[0m\n\u001b[1;32m    288\u001b[0m     \u001b[39mif\u001b[39;00m \u001b[39mlen\u001b[39m(args) \u001b[39m!=\u001b[39m \u001b[39m1\u001b[39m:\n\u001b[1;32m    289\u001b[0m         \u001b[39mraise\u001b[39;00m \u001b[39mValueError\u001b[39;00m(\u001b[39m\"\u001b[39m\u001b[39m`run` supports only one positional argument.\u001b[39m\u001b[39m\"\u001b[39m)\n\u001b[0;32m--> 290\u001b[0m     \u001b[39mreturn\u001b[39;00m \u001b[39mself\u001b[39;49m(args[\u001b[39m0\u001b[39;49m], callbacks\u001b[39m=\u001b[39;49mcallbacks, tags\u001b[39m=\u001b[39;49mtags)[_output_key]\n\u001b[1;32m    292\u001b[0m \u001b[39mif\u001b[39;00m kwargs \u001b[39mand\u001b[39;00m \u001b[39mnot\u001b[39;00m args:\n\u001b[1;32m    293\u001b[0m     \u001b[39mreturn\u001b[39;00m \u001b[39mself\u001b[39m(kwargs, callbacks\u001b[39m=\u001b[39mcallbacks, tags\u001b[39m=\u001b[39mtags)[_output_key]\n",
      "File \u001b[0;32m~/yes/envs/tf/lib/python3.9/site-packages/langchain/chains/base.py:166\u001b[0m, in \u001b[0;36mChain.__call__\u001b[0;34m(self, inputs, return_only_outputs, callbacks, tags, include_run_info)\u001b[0m\n\u001b[1;32m    164\u001b[0m \u001b[39mexcept\u001b[39;00m (\u001b[39mKeyboardInterrupt\u001b[39;00m, \u001b[39mException\u001b[39;00m) \u001b[39mas\u001b[39;00m e:\n\u001b[1;32m    165\u001b[0m     run_manager\u001b[39m.\u001b[39mon_chain_error(e)\n\u001b[0;32m--> 166\u001b[0m     \u001b[39mraise\u001b[39;00m e\n\u001b[1;32m    167\u001b[0m run_manager\u001b[39m.\u001b[39mon_chain_end(outputs)\n\u001b[1;32m    168\u001b[0m final_outputs: Dict[\u001b[39mstr\u001b[39m, Any] \u001b[39m=\u001b[39m \u001b[39mself\u001b[39m\u001b[39m.\u001b[39mprep_outputs(\n\u001b[1;32m    169\u001b[0m     inputs, outputs, return_only_outputs\n\u001b[1;32m    170\u001b[0m )\n",
      "File \u001b[0;32m~/yes/envs/tf/lib/python3.9/site-packages/langchain/chains/base.py:160\u001b[0m, in \u001b[0;36mChain.__call__\u001b[0;34m(self, inputs, return_only_outputs, callbacks, tags, include_run_info)\u001b[0m\n\u001b[1;32m    154\u001b[0m run_manager \u001b[39m=\u001b[39m callback_manager\u001b[39m.\u001b[39mon_chain_start(\n\u001b[1;32m    155\u001b[0m     dumpd(\u001b[39mself\u001b[39m),\n\u001b[1;32m    156\u001b[0m     inputs,\n\u001b[1;32m    157\u001b[0m )\n\u001b[1;32m    158\u001b[0m \u001b[39mtry\u001b[39;00m:\n\u001b[1;32m    159\u001b[0m     outputs \u001b[39m=\u001b[39m (\n\u001b[0;32m--> 160\u001b[0m         \u001b[39mself\u001b[39;49m\u001b[39m.\u001b[39;49m_call(inputs, run_manager\u001b[39m=\u001b[39;49mrun_manager)\n\u001b[1;32m    161\u001b[0m         \u001b[39mif\u001b[39;00m new_arg_supported\n\u001b[1;32m    162\u001b[0m         \u001b[39melse\u001b[39;00m \u001b[39mself\u001b[39m\u001b[39m.\u001b[39m_call(inputs)\n\u001b[1;32m    163\u001b[0m     )\n\u001b[1;32m    164\u001b[0m \u001b[39mexcept\u001b[39;00m (\u001b[39mKeyboardInterrupt\u001b[39;00m, \u001b[39mException\u001b[39;00m) \u001b[39mas\u001b[39;00m e:\n\u001b[1;32m    165\u001b[0m     run_manager\u001b[39m.\u001b[39mon_chain_error(e)\n",
      "File \u001b[0;32m~/yes/envs/tf/lib/python3.9/site-packages/langchain/agents/agent.py:957\u001b[0m, in \u001b[0;36mAgentExecutor._call\u001b[0;34m(self, inputs, run_manager)\u001b[0m\n\u001b[1;32m    955\u001b[0m \u001b[39m# We now enter the agent loop (until it returns something).\u001b[39;00m\n\u001b[1;32m    956\u001b[0m \u001b[39mwhile\u001b[39;00m \u001b[39mself\u001b[39m\u001b[39m.\u001b[39m_should_continue(iterations, time_elapsed):\n\u001b[0;32m--> 957\u001b[0m     next_step_output \u001b[39m=\u001b[39m \u001b[39mself\u001b[39;49m\u001b[39m.\u001b[39;49m_take_next_step(\n\u001b[1;32m    958\u001b[0m         name_to_tool_map,\n\u001b[1;32m    959\u001b[0m         color_mapping,\n\u001b[1;32m    960\u001b[0m         inputs,\n\u001b[1;32m    961\u001b[0m         intermediate_steps,\n\u001b[1;32m    962\u001b[0m         run_manager\u001b[39m=\u001b[39;49mrun_manager,\n\u001b[1;32m    963\u001b[0m     )\n\u001b[1;32m    964\u001b[0m     \u001b[39mif\u001b[39;00m \u001b[39misinstance\u001b[39m(next_step_output, AgentFinish):\n\u001b[1;32m    965\u001b[0m         \u001b[39mreturn\u001b[39;00m \u001b[39mself\u001b[39m\u001b[39m.\u001b[39m_return(\n\u001b[1;32m    966\u001b[0m             next_step_output, intermediate_steps, run_manager\u001b[39m=\u001b[39mrun_manager\n\u001b[1;32m    967\u001b[0m         )\n",
      "File \u001b[0;32m~/yes/envs/tf/lib/python3.9/site-packages/langchain/agents/agent.py:820\u001b[0m, in \u001b[0;36mAgentExecutor._take_next_step\u001b[0;34m(self, name_to_tool_map, color_mapping, inputs, intermediate_steps, run_manager)\u001b[0m\n\u001b[1;32m    818\u001b[0m         tool_run_kwargs[\u001b[39m\"\u001b[39m\u001b[39mllm_prefix\u001b[39m\u001b[39m\"\u001b[39m] \u001b[39m=\u001b[39m \u001b[39m\"\u001b[39m\u001b[39m\"\u001b[39m\n\u001b[1;32m    819\u001b[0m     \u001b[39m# We then call the tool on the tool input to get an observation\u001b[39;00m\n\u001b[0;32m--> 820\u001b[0m     observation \u001b[39m=\u001b[39m tool\u001b[39m.\u001b[39;49mrun(\n\u001b[1;32m    821\u001b[0m         agent_action\u001b[39m.\u001b[39;49mtool_input,\n\u001b[1;32m    822\u001b[0m         verbose\u001b[39m=\u001b[39;49m\u001b[39mself\u001b[39;49m\u001b[39m.\u001b[39;49mverbose,\n\u001b[1;32m    823\u001b[0m         color\u001b[39m=\u001b[39;49mcolor,\n\u001b[1;32m    824\u001b[0m         callbacks\u001b[39m=\u001b[39;49mrun_manager\u001b[39m.\u001b[39;49mget_child() \u001b[39mif\u001b[39;49;00m run_manager \u001b[39melse\u001b[39;49;00m \u001b[39mNone\u001b[39;49;00m,\n\u001b[1;32m    825\u001b[0m         \u001b[39m*\u001b[39;49m\u001b[39m*\u001b[39;49mtool_run_kwargs,\n\u001b[1;32m    826\u001b[0m     )\n\u001b[1;32m    827\u001b[0m \u001b[39melse\u001b[39;00m:\n\u001b[1;32m    828\u001b[0m     tool_run_kwargs \u001b[39m=\u001b[39m \u001b[39mself\u001b[39m\u001b[39m.\u001b[39magent\u001b[39m.\u001b[39mtool_run_logging_kwargs()\n",
      "File \u001b[0;32m~/yes/envs/tf/lib/python3.9/site-packages/langchain/tools/base.py:297\u001b[0m, in \u001b[0;36mBaseTool.run\u001b[0;34m(self, tool_input, verbose, start_color, color, callbacks, **kwargs)\u001b[0m\n\u001b[1;32m    295\u001b[0m \u001b[39mexcept\u001b[39;00m (\u001b[39mException\u001b[39;00m, \u001b[39mKeyboardInterrupt\u001b[39;00m) \u001b[39mas\u001b[39;00m e:\n\u001b[1;32m    296\u001b[0m     run_manager\u001b[39m.\u001b[39mon_tool_error(e)\n\u001b[0;32m--> 297\u001b[0m     \u001b[39mraise\u001b[39;00m e\n\u001b[1;32m    298\u001b[0m \u001b[39melse\u001b[39;00m:\n\u001b[1;32m    299\u001b[0m     run_manager\u001b[39m.\u001b[39mon_tool_end(\n\u001b[1;32m    300\u001b[0m         \u001b[39mstr\u001b[39m(observation), color\u001b[39m=\u001b[39mcolor, name\u001b[39m=\u001b[39m\u001b[39mself\u001b[39m\u001b[39m.\u001b[39mname, \u001b[39m*\u001b[39m\u001b[39m*\u001b[39mkwargs\n\u001b[1;32m    301\u001b[0m     )\n",
      "File \u001b[0;32m~/yes/envs/tf/lib/python3.9/site-packages/langchain/tools/base.py:269\u001b[0m, in \u001b[0;36mBaseTool.run\u001b[0;34m(self, tool_input, verbose, start_color, color, callbacks, **kwargs)\u001b[0m\n\u001b[1;32m    266\u001b[0m \u001b[39mtry\u001b[39;00m:\n\u001b[1;32m    267\u001b[0m     tool_args, tool_kwargs \u001b[39m=\u001b[39m \u001b[39mself\u001b[39m\u001b[39m.\u001b[39m_to_args_and_kwargs(parsed_input)\n\u001b[1;32m    268\u001b[0m     observation \u001b[39m=\u001b[39m (\n\u001b[0;32m--> 269\u001b[0m         \u001b[39mself\u001b[39;49m\u001b[39m.\u001b[39;49m_run(\u001b[39m*\u001b[39;49mtool_args, run_manager\u001b[39m=\u001b[39;49mrun_manager, \u001b[39m*\u001b[39;49m\u001b[39m*\u001b[39;49mtool_kwargs)\n\u001b[1;32m    270\u001b[0m         \u001b[39mif\u001b[39;00m new_arg_supported\n\u001b[1;32m    271\u001b[0m         \u001b[39melse\u001b[39;00m \u001b[39mself\u001b[39m\u001b[39m.\u001b[39m_run(\u001b[39m*\u001b[39mtool_args, \u001b[39m*\u001b[39m\u001b[39m*\u001b[39mtool_kwargs)\n\u001b[1;32m    272\u001b[0m     )\n\u001b[1;32m    273\u001b[0m \u001b[39mexcept\u001b[39;00m ToolException \u001b[39mas\u001b[39;00m e:\n\u001b[1;32m    274\u001b[0m     \u001b[39mif\u001b[39;00m \u001b[39mnot\u001b[39;00m \u001b[39mself\u001b[39m\u001b[39m.\u001b[39mhandle_tool_error:\n",
      "File \u001b[0;32m~/yes/envs/tf/lib/python3.9/site-packages/langchain/tools/base.py:418\u001b[0m, in \u001b[0;36mTool._run\u001b[0;34m(self, run_manager, *args, **kwargs)\u001b[0m\n\u001b[1;32m    409\u001b[0m \u001b[39m\u001b[39m\u001b[39m\"\"\"Use the tool.\"\"\"\u001b[39;00m\n\u001b[1;32m    410\u001b[0m new_argument_supported \u001b[39m=\u001b[39m signature(\u001b[39mself\u001b[39m\u001b[39m.\u001b[39mfunc)\u001b[39m.\u001b[39mparameters\u001b[39m.\u001b[39mget(\u001b[39m\"\u001b[39m\u001b[39mcallbacks\u001b[39m\u001b[39m\"\u001b[39m)\n\u001b[1;32m    411\u001b[0m \u001b[39mreturn\u001b[39;00m (\n\u001b[1;32m    412\u001b[0m     \u001b[39mself\u001b[39m\u001b[39m.\u001b[39mfunc(\n\u001b[1;32m    413\u001b[0m         \u001b[39m*\u001b[39margs,\n\u001b[1;32m    414\u001b[0m         callbacks\u001b[39m=\u001b[39mrun_manager\u001b[39m.\u001b[39mget_child() \u001b[39mif\u001b[39;00m run_manager \u001b[39melse\u001b[39;00m \u001b[39mNone\u001b[39;00m,\n\u001b[1;32m    415\u001b[0m         \u001b[39m*\u001b[39m\u001b[39m*\u001b[39mkwargs,\n\u001b[1;32m    416\u001b[0m     )\n\u001b[1;32m    417\u001b[0m     \u001b[39mif\u001b[39;00m new_argument_supported\n\u001b[0;32m--> 418\u001b[0m     \u001b[39melse\u001b[39;00m \u001b[39mself\u001b[39;49m\u001b[39m.\u001b[39;49mfunc(\u001b[39m*\u001b[39;49margs, \u001b[39m*\u001b[39;49m\u001b[39m*\u001b[39;49mkwargs)\n\u001b[1;32m    419\u001b[0m )\n",
      "\u001b[0;31mTypeError\u001b[0m: RW_Calc() missing 7 required positional arguments: 'PD', 'LGD', 'm', 'Large_Fin', 'size', 'mortgage', and 'revolving'"
     ]
    }
   ],
   "source": [
    "agent.run(\"Read all the information for Client 'sfman997ux8036' in RWA_122022 table and then calculate their RW if PD doubles\")"
   ]
  },
  {
   "cell_type": "markdown",
   "metadata": {},
   "source": [
    "#### Attempt 3"
   ]
  },
  {
   "cell_type": "code",
   "execution_count": 113,
   "metadata": {},
   "outputs": [],
   "source": [
    "prompt = f\"\"\"\n",
    "For a client with information in the ClientInfo below calculate with RW_Calc function and return the RW if the PD doubles.\n",
    "\n",
    "ClientInfo: ```{client}```\n",
    "\"\"\""
   ]
  },
  {
   "cell_type": "code",
   "execution_count": 117,
   "metadata": {},
   "outputs": [],
   "source": [
    "completion = openai.ChatCompletion.create(\n",
    "    model=\"gpt-3.5-turbo-0613\",\n",
    "    messages=[{\"role\": \"user\", \"content\": prompt}],\n",
    "    functions=[\n",
    "    {\n",
    "        \"name\": 'RW_Calc',\n",
    "        \"description\": \"Calculate RW\",\n",
    "        \"parameters\": {\n",
    "            \"type\": \"object\",\n",
    "            \"properties\": {\n",
    "                \"Segment\": {\n",
    "                    # \"type\": \"text\",\n",
    "                    \"description\": \"Possible values are 'Bank', 'Corporate', and 'Retail'\",\n",
    "                },\n",
    "                \"PD\": {\n",
    "                    # \"type\": \"real\", \n",
    "                    \"description\": \"Probability of Default\",\n",
    "                },\n",
    "                \"LGD\": {\n",
    "                    # \"type\": \"real\", \n",
    "                    \"description\": \"Loss Given Default\",\n",
    "                },\n",
    "                \"m\": {\n",
    "                    # \"type\": \"real\", \n",
    "                    \"description\": \"Remaining maturity of the loan in years\",\n",
    "                },\n",
    "                 \"Large_Fin\": {\n",
    "                    # \"type\": \"text\", \n",
    "                    \"description\": \"If 'Y' the client is a Flag for Large Financial Institution, otherwise 'N'\",\n",
    "                },\n",
    "                 \"size\": {\n",
    "                    # \"type\": \"real\", \n",
    "                    \"description\": \"size of the client in MEUR, usually this is the client's turnover\",\n",
    "                },\n",
    "                \"mortgage\": {\n",
    "                    # \"type\": \"text\", \n",
    "                    \"description\": \"If 'Y' the exposure is a mortgage loan, otherwise 'N'\",\n",
    "                 },\n",
    "                \"revolving\": {\n",
    "                    # \"type\": \"text\", \n",
    "                    \"description\": \"If 'Y' the exposure is a revolving loan, otherwise 'N'\",\n",
    "                 },\n",
    "\n",
    "            },\n",
    "        # \"required\": ['RW', 'Segment', 'PD', 'LGD', 'm', 'Large_Fin', 'size', 'mortgage', 'revolving'],\n",
    "        \"required\": ['RW'],\n",
    "        },\n",
    "    }\n",
    "],\n",
    "function_call=\"auto\",\n",
    ")\n"
   ]
  },
  {
   "cell_type": "code",
   "execution_count": 118,
   "metadata": {},
   "outputs": [
    {
     "data": {
      "text/plain": [
       "<OpenAIObject at 0x7f35aa0e1630> JSON: {\n",
       "  \"role\": \"assistant\",\n",
       "  \"content\": null,\n",
       "  \"function_call\": {\n",
       "    \"name\": \"RW_Calc\",\n",
       "    \"arguments\": \"{\\n  \\\"Segment\\\": \\\"Retail\\\",\\n  \\\"PD\\\": 0.0246518,\\n  \\\"LGD\\\": 0.3092,\\n  \\\"m\\\": 1.15616438,\\n  \\\"Large_Fin\\\": \\\"N\\\",\\n  \\\"size\\\": 42.58029755,\\n  \\\"mortgage\\\": \\\"N\\\",\\n  \\\"revolving\\\": \\\"Y\\\"\\n}\"\n",
       "  }\n",
       "}"
      ]
     },
     "execution_count": 118,
     "metadata": {},
     "output_type": "execute_result"
    }
   ],
   "source": [
    "completion.choices[0].message"
   ]
  },
  {
   "cell_type": "code",
   "execution_count": 116,
   "metadata": {},
   "outputs": [
    {
     "name": "stdout",
     "output_type": "stream",
     "text": [
      "{'Segment': 'Retail', 'PD': 0.0246518, 'LGD': 0.3092, 'm': 1.15616438, 'Large_Fin': 'N', 'size': 42.58029755, 'mortgage': 'N', 'revolving': 'Y'}\n"
     ]
    }
   ],
   "source": [
    "import json\n",
    "\n",
    "reply_content = completion.choices[0].message\n",
    "\n",
    "funcs = reply_content.to_dict()['function_call']['arguments']\n",
    "funcs = json.loads(funcs)\n",
    "print(funcs)"
   ]
  },
  {
   "cell_type": "markdown",
   "metadata": {},
   "source": [
    "#### Attempt 4"
   ]
  },
  {
   "cell_type": "code",
   "execution_count": 119,
   "metadata": {},
   "outputs": [],
   "source": [
    "prompt = f\"\"\"\n",
    "For a client with information in the ClientInfo below calculate with RW_Calc function and return the RW if the PD doubles.\n",
    "\n",
    "ClientInfo: ```{client}```\n",
    "\"\"\"\n",
    "messages = [\n",
    "    {\"role\": \"user\", \"content\": prompt},\n",
    "]\n",
    "\n",
    "\n",
    "def get_completion(messages):\n",
    "    response = openai.ChatCompletion.create(\n",
    "        model= 'gpt-3.5-turbo-0613',\n",
    "        messages=messages,\n",
    "        functions=[\n",
    "            {\n",
    "                \"name\": 'RW_Calc',\n",
    "                \"description\": \"Calculate RW\",\n",
    "                \"parameters\": {\n",
    "                    \"type\": \"object\",\n",
    "                    \"properties\": {\n",
    "                        \"Segment\": {\n",
    "                            # \"type\": \"text\",\n",
    "                            \"description\": \"Possible values are 'Bank', 'Corporate', and 'Retail'\",\n",
    "                        },\n",
    "                        \"PD\": {\n",
    "                            # \"type\": \"real\", \n",
    "                            \"description\": \"Probability of Default\",\n",
    "                        },\n",
    "                        \"LGD\": {\n",
    "                            # \"type\": \"real\", \n",
    "                            \"description\": \"Loss Given Default\",\n",
    "                        },\n",
    "                        \"m\": {\n",
    "                            # \"type\": \"real\", \n",
    "                            \"description\": \"Remaining maturity of the loan in years\",\n",
    "                        },\n",
    "                        \"Large_Fin\": {\n",
    "                            # \"type\": \"text\", \n",
    "                            \"description\": \"If 'Y' the client is a Flag for Large Financial Institution, otherwise 'N'\",\n",
    "                        },\n",
    "                        \"size\": {\n",
    "                            # \"type\": \"real\", \n",
    "                            \"description\": \"size of the client in MEUR, usually this is the client's turnover\",\n",
    "                        },\n",
    "                        \"mortgage\": {\n",
    "                            # \"type\": \"text\", \n",
    "                            \"description\": \"If 'Y' the exposure is a mortgage loan, otherwise 'N'\",\n",
    "                        },\n",
    "                        \"revolving\": {\n",
    "                            # \"type\": \"text\", \n",
    "                            \"description\": \"If 'Y' the exposure is a revolving loan, otherwise 'N'\",\n",
    "                        },\n",
    "                    },\n",
    "                \"required\": ['RW', 'Segment', 'PD', 'LGD', 'm', 'Large_Fin', 'size', 'mortgage', 'revolving'],        \n",
    "            },\n",
    "            },            \n",
    "        ],\n",
    "        temperature=0,\n",
    "    )\n",
    "\n",
    "    return response"
   ]
  },
  {
   "cell_type": "code",
   "execution_count": 121,
   "metadata": {},
   "outputs": [],
   "source": [
    "response = get_completion(messages)"
   ]
  },
  {
   "cell_type": "code",
   "execution_count": 122,
   "metadata": {},
   "outputs": [
    {
     "data": {
      "text/plain": [
       "<OpenAIObject chat.completion id=chatcmpl-7fm6E3DndIKRJSNrt6J1WMLaUNTp0 at 0x7f35aa0abc70> JSON: {\n",
       "  \"id\": \"chatcmpl-7fm6E3DndIKRJSNrt6J1WMLaUNTp0\",\n",
       "  \"object\": \"chat.completion\",\n",
       "  \"created\": 1690190698,\n",
       "  \"model\": \"gpt-3.5-turbo-0613\",\n",
       "  \"choices\": [\n",
       "    {\n",
       "      \"index\": 0,\n",
       "      \"message\": {\n",
       "        \"role\": \"assistant\",\n",
       "        \"content\": null,\n",
       "        \"function_call\": {\n",
       "          \"name\": \"RW_Calc\",\n",
       "          \"arguments\": \"{\\n  \\\"Segment\\\": \\\"Retail\\\",\\n  \\\"PD\\\": 0.0246518,\\n  \\\"LGD\\\": 0.3092,\\n  \\\"m\\\": 1.15616438,\\n  \\\"Large_Fin\\\": \\\"N\\\",\\n  \\\"size\\\": 42.58029755,\\n  \\\"mortgage\\\": \\\"N\\\",\\n  \\\"revolving\\\": \\\"Y\\\"\\n}\"\n",
       "        }\n",
       "      },\n",
       "      \"finish_reason\": \"function_call\"\n",
       "    }\n",
       "  ],\n",
       "  \"usage\": {\n",
       "    \"prompt_tokens\": 407,\n",
       "    \"completion_tokens\": 86,\n",
       "    \"total_tokens\": 493\n",
       "  }\n",
       "}"
      ]
     },
     "execution_count": 122,
     "metadata": {},
     "output_type": "execute_result"
    }
   ],
   "source": [
    "response"
   ]
  },
  {
   "cell_type": "markdown",
   "metadata": {},
   "source": [
    "#### Attempt 5"
   ]
  },
  {
   "cell_type": "code",
   "execution_count": 123,
   "metadata": {},
   "outputs": [],
   "source": [
    "def get_completion(messages):\n",
    "    response = openai.ChatCompletion.create(\n",
    "        model=\"gpt-3.5-turbo-0613\",\n",
    "        messages=messages,\n",
    "        functions=[{\n",
    "            \"name\": \"RW_Calc\",\n",
    "            \"description\": \"Calculate RW for given inputs.\",\n",
    "            \"parameters\": { \"type\": \"object\", \"properties\": {} },\n",
    "        }],\n",
    "        temperature=0,\n",
    "    )\n",
    "\n",
    "    return response"
   ]
  },
  {
   "cell_type": "code",
   "execution_count": 133,
   "metadata": {},
   "outputs": [],
   "source": [
    "prompt = f\"\"\"\n",
    "For a client with information in the ClientInfo below calculate with RW_Calc function and return the RW if the PD doubles.\n",
    "\n",
    "ClientInfo: ```{client}```\n",
    "\"\"\"\n",
    "messages = [\n",
    "    {\"role\": \"user\", \"content\": prompt},\n",
    "]\n",
    "\n",
    "response = get_completion(messages)\n",
    "\n",
    "result = RW_Calc"
   ]
  },
  {
   "cell_type": "code",
   "execution_count": 130,
   "metadata": {},
   "outputs": [
    {
     "data": {
      "text/plain": [
       "<function rw_formula.RW_Calc(Segment, PD, LGD, m, Large_Fin, size, mortgage, revolving)>"
      ]
     },
     "execution_count": 130,
     "metadata": {},
     "output_type": "execute_result"
    }
   ],
   "source": [
    "result"
   ]
  },
  {
   "cell_type": "code",
   "execution_count": null,
   "metadata": {},
   "outputs": [],
   "source": []
  },
  {
   "cell_type": "code",
   "execution_count": null,
   "metadata": {},
   "outputs": [],
   "source": []
  },
  {
   "cell_type": "code",
   "execution_count": null,
   "metadata": {},
   "outputs": [],
   "source": []
  }
 ],
 "metadata": {
  "kernelspec": {
   "display_name": "tf",
   "language": "python",
   "name": "python3"
  },
  "language_info": {
   "codemirror_mode": {
    "name": "ipython",
    "version": 3
   },
   "file_extension": ".py",
   "mimetype": "text/x-python",
   "name": "python",
   "nbconvert_exporter": "python",
   "pygments_lexer": "ipython3",
   "version": "3.9.16"
  },
  "orig_nbformat": 4
 },
 "nbformat": 4,
 "nbformat_minor": 2
}
